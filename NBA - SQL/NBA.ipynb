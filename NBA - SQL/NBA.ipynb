{
 "cells": [
  {
   "cell_type": "markdown",
   "id": "f85c8074820ad900",
   "metadata": {},
   "source": [
    "# SQL - NBA Portfolio"
   ]
  },
  {
   "cell_type": "markdown",
   "id": "42bb92d88845d55b",
   "metadata": {},
   "source": [
    "The aim of this project is to analyze NBA dataset to discover informations about each conference winner in 2022/2023 season. Besides that we will dig into some historical data to find even more interesting facts about the league."
   ]
  },
  {
   "cell_type": "markdown",
   "id": "881e92562f285948",
   "metadata": {},
   "source": [
    "## Importing packages and establishing connection with a database"
   ]
  },
  {
   "cell_type": "code",
   "execution_count": 192,
   "id": "initial_id",
   "metadata": {
    "ExecuteTime": {
     "end_time": "2023-12-17T11:30:07.684479Z",
     "start_time": "2023-12-17T11:30:06.859079Z"
    }
   },
   "outputs": [],
   "source": [
    "import sqlite3\n",
    "import pandas as pd"
   ]
  },
  {
   "cell_type": "markdown",
   "id": "c8a90cae44e3addd",
   "metadata": {},
   "source": [
    "Let's first establish a connection with our database."
   ]
  },
  {
   "cell_type": "code",
   "execution_count": 193,
   "id": "235de74d5521c42c",
   "metadata": {
    "ExecuteTime": {
     "end_time": "2023-12-17T11:30:07.726317Z",
     "start_time": "2023-12-17T11:30:06.869442Z"
    }
   },
   "outputs": [],
   "source": [
    "connection = sqlite3.connect('nba.sqlite')\n",
    "cursor = connection.cursor()"
   ]
  },
  {
   "cell_type": "markdown",
   "id": "976566a7f1300eba",
   "metadata": {},
   "source": [
    "## First look at the database"
   ]
  },
  {
   "cell_type": "markdown",
   "id": "344001fdecf96e35",
   "metadata": {},
   "source": [
    "First thing we want to know is what tables does the database consists of."
   ]
  },
  {
   "cell_type": "code",
   "execution_count": 194,
   "id": "c087cfe79c8520a0",
   "metadata": {
    "ExecuteTime": {
     "end_time": "2023-12-17T11:30:08.187746Z",
     "start_time": "2023-12-17T11:30:06.888185Z"
    }
   },
   "outputs": [
    {
     "data": {
      "text/plain": "             table_name\n0                  game\n1          game_summary\n2           other_stats\n3             officials\n4      inactive_players\n5             game_info\n6            line_score\n7          play_by_play\n8                player\n9                  team\n10   common_player_info\n11         team_details\n12         team_history\n13  draft_combine_stats\n14        draft_history\n15     team_info_common",
      "text/html": "<div>\n<style scoped>\n    .dataframe tbody tr th:only-of-type {\n        vertical-align: middle;\n    }\n\n    .dataframe tbody tr th {\n        vertical-align: top;\n    }\n\n    .dataframe thead th {\n        text-align: right;\n    }\n</style>\n<table border=\"1\" class=\"dataframe\">\n  <thead>\n    <tr style=\"text-align: right;\">\n      <th></th>\n      <th>table_name</th>\n    </tr>\n  </thead>\n  <tbody>\n    <tr>\n      <th>0</th>\n      <td>game</td>\n    </tr>\n    <tr>\n      <th>1</th>\n      <td>game_summary</td>\n    </tr>\n    <tr>\n      <th>2</th>\n      <td>other_stats</td>\n    </tr>\n    <tr>\n      <th>3</th>\n      <td>officials</td>\n    </tr>\n    <tr>\n      <th>4</th>\n      <td>inactive_players</td>\n    </tr>\n    <tr>\n      <th>5</th>\n      <td>game_info</td>\n    </tr>\n    <tr>\n      <th>6</th>\n      <td>line_score</td>\n    </tr>\n    <tr>\n      <th>7</th>\n      <td>play_by_play</td>\n    </tr>\n    <tr>\n      <th>8</th>\n      <td>player</td>\n    </tr>\n    <tr>\n      <th>9</th>\n      <td>team</td>\n    </tr>\n    <tr>\n      <th>10</th>\n      <td>common_player_info</td>\n    </tr>\n    <tr>\n      <th>11</th>\n      <td>team_details</td>\n    </tr>\n    <tr>\n      <th>12</th>\n      <td>team_history</td>\n    </tr>\n    <tr>\n      <th>13</th>\n      <td>draft_combine_stats</td>\n    </tr>\n    <tr>\n      <th>14</th>\n      <td>draft_history</td>\n    </tr>\n    <tr>\n      <th>15</th>\n      <td>team_info_common</td>\n    </tr>\n  </tbody>\n</table>\n</div>"
     },
     "execution_count": 194,
     "metadata": {},
     "output_type": "execute_result"
    }
   ],
   "source": [
    "pd.read_sql_query('SELECT name AS table_name FROM sqlite_master WHERE type = \"table\";', connection)"
   ]
  },
  {
   "cell_type": "markdown",
   "id": "d1ba23e72187cd92",
   "metadata": {},
   "source": [
    "For the purpose of this project we will use only some of them. Below you can see the preview of tables we will use here."
   ]
  },
  {
   "cell_type": "code",
   "execution_count": 195,
   "id": "b706d87acbc04e5d",
   "metadata": {
    "ExecuteTime": {
     "end_time": "2023-12-17T11:30:08.568434Z",
     "start_time": "2023-12-17T11:30:06.902892Z"
    }
   },
   "outputs": [
    {
     "data": {
      "text/plain": "  season_id team_id_home team_abbreviation_home           team_name_home  \\\n0     21946   1610610035                    HUS          Toronto Huskies   \n1     21946   1610610034                    BOM        St. Louis Bombers   \n2     21946   1610610032                    PRO  Providence Steamrollers   \n3     21946   1610610025                    CHS            Chicago Stags   \n4     21946   1610610028                    DEF          Detroit Falcons   \n\n      game_id            game_date matchup_home wl_home  min  fgm_home  ...  \\\n0  0024600001  1946-11-01 00:00:00  HUS vs. NYK       L    0      25.0  ...   \n1  0024600003  1946-11-02 00:00:00  BOM vs. PIT       W    0      20.0  ...   \n2  0024600002  1946-11-02 00:00:00  PRO vs. BOS       W    0      21.0  ...   \n3  0024600004  1946-11-02 00:00:00  CHS vs. NYK       W    0      21.0  ...   \n4  0024600005  1946-11-02 00:00:00  DEF vs. WAS       L    0      10.0  ...   \n\n   dreb_away  reb_away ast_away stl_away blk_away  tov_away  pf_away  \\\n0       None      None     None     None     None      None      NaN   \n1       None      None     None     None     None      None     25.0   \n2       None      None     None     None     None      None      NaN   \n3       None      None     None     None     None      None     22.0   \n4       None      None     None     None     None      None      NaN   \n\n   pts_away plus_minus_away video_available_away  \n0        68               2                    0  \n1        51              -5                    0  \n2        53              -6                    0  \n3        47             -16                    0  \n4        50              17                    0  \n\n[5 rows x 54 columns]",
      "text/html": "<div>\n<style scoped>\n    .dataframe tbody tr th:only-of-type {\n        vertical-align: middle;\n    }\n\n    .dataframe tbody tr th {\n        vertical-align: top;\n    }\n\n    .dataframe thead th {\n        text-align: right;\n    }\n</style>\n<table border=\"1\" class=\"dataframe\">\n  <thead>\n    <tr style=\"text-align: right;\">\n      <th></th>\n      <th>season_id</th>\n      <th>team_id_home</th>\n      <th>team_abbreviation_home</th>\n      <th>team_name_home</th>\n      <th>game_id</th>\n      <th>game_date</th>\n      <th>matchup_home</th>\n      <th>wl_home</th>\n      <th>min</th>\n      <th>fgm_home</th>\n      <th>...</th>\n      <th>dreb_away</th>\n      <th>reb_away</th>\n      <th>ast_away</th>\n      <th>stl_away</th>\n      <th>blk_away</th>\n      <th>tov_away</th>\n      <th>pf_away</th>\n      <th>pts_away</th>\n      <th>plus_minus_away</th>\n      <th>video_available_away</th>\n    </tr>\n  </thead>\n  <tbody>\n    <tr>\n      <th>0</th>\n      <td>21946</td>\n      <td>1610610035</td>\n      <td>HUS</td>\n      <td>Toronto Huskies</td>\n      <td>0024600001</td>\n      <td>1946-11-01 00:00:00</td>\n      <td>HUS vs. NYK</td>\n      <td>L</td>\n      <td>0</td>\n      <td>25.0</td>\n      <td>...</td>\n      <td>None</td>\n      <td>None</td>\n      <td>None</td>\n      <td>None</td>\n      <td>None</td>\n      <td>None</td>\n      <td>NaN</td>\n      <td>68</td>\n      <td>2</td>\n      <td>0</td>\n    </tr>\n    <tr>\n      <th>1</th>\n      <td>21946</td>\n      <td>1610610034</td>\n      <td>BOM</td>\n      <td>St. Louis Bombers</td>\n      <td>0024600003</td>\n      <td>1946-11-02 00:00:00</td>\n      <td>BOM vs. PIT</td>\n      <td>W</td>\n      <td>0</td>\n      <td>20.0</td>\n      <td>...</td>\n      <td>None</td>\n      <td>None</td>\n      <td>None</td>\n      <td>None</td>\n      <td>None</td>\n      <td>None</td>\n      <td>25.0</td>\n      <td>51</td>\n      <td>-5</td>\n      <td>0</td>\n    </tr>\n    <tr>\n      <th>2</th>\n      <td>21946</td>\n      <td>1610610032</td>\n      <td>PRO</td>\n      <td>Providence Steamrollers</td>\n      <td>0024600002</td>\n      <td>1946-11-02 00:00:00</td>\n      <td>PRO vs. BOS</td>\n      <td>W</td>\n      <td>0</td>\n      <td>21.0</td>\n      <td>...</td>\n      <td>None</td>\n      <td>None</td>\n      <td>None</td>\n      <td>None</td>\n      <td>None</td>\n      <td>None</td>\n      <td>NaN</td>\n      <td>53</td>\n      <td>-6</td>\n      <td>0</td>\n    </tr>\n    <tr>\n      <th>3</th>\n      <td>21946</td>\n      <td>1610610025</td>\n      <td>CHS</td>\n      <td>Chicago Stags</td>\n      <td>0024600004</td>\n      <td>1946-11-02 00:00:00</td>\n      <td>CHS vs. NYK</td>\n      <td>W</td>\n      <td>0</td>\n      <td>21.0</td>\n      <td>...</td>\n      <td>None</td>\n      <td>None</td>\n      <td>None</td>\n      <td>None</td>\n      <td>None</td>\n      <td>None</td>\n      <td>22.0</td>\n      <td>47</td>\n      <td>-16</td>\n      <td>0</td>\n    </tr>\n    <tr>\n      <th>4</th>\n      <td>21946</td>\n      <td>1610610028</td>\n      <td>DEF</td>\n      <td>Detroit Falcons</td>\n      <td>0024600005</td>\n      <td>1946-11-02 00:00:00</td>\n      <td>DEF vs. WAS</td>\n      <td>L</td>\n      <td>0</td>\n      <td>10.0</td>\n      <td>...</td>\n      <td>None</td>\n      <td>None</td>\n      <td>None</td>\n      <td>None</td>\n      <td>None</td>\n      <td>None</td>\n      <td>NaN</td>\n      <td>50</td>\n      <td>17</td>\n      <td>0</td>\n    </tr>\n  </tbody>\n</table>\n<p>5 rows × 54 columns</p>\n</div>"
     },
     "execution_count": 195,
     "metadata": {},
     "output_type": "execute_result"
    }
   ],
   "source": [
    "pd.read_sql_query(\"SELECT * FROM game LIMIT 5;\", connection)"
   ]
  },
  {
   "cell_type": "code",
   "execution_count": 196,
   "id": "a04029e18b7bef9a",
   "metadata": {
    "ExecuteTime": {
     "end_time": "2023-12-17T11:30:08.569149Z",
     "start_time": "2023-12-17T11:30:06.923258Z"
    }
   },
   "outputs": [
    {
     "data": {
      "text/plain": "      game_id            game_date attendance game_time\n0  0024600001  1946-11-01 00:00:00       None          \n1  0024600003  1946-11-02 00:00:00       None          \n2  0024600002  1946-11-02 00:00:00       None          \n3  0024600004  1946-11-02 00:00:00       None          \n4  0024600005  1946-11-02 00:00:00       None          ",
      "text/html": "<div>\n<style scoped>\n    .dataframe tbody tr th:only-of-type {\n        vertical-align: middle;\n    }\n\n    .dataframe tbody tr th {\n        vertical-align: top;\n    }\n\n    .dataframe thead th {\n        text-align: right;\n    }\n</style>\n<table border=\"1\" class=\"dataframe\">\n  <thead>\n    <tr style=\"text-align: right;\">\n      <th></th>\n      <th>game_id</th>\n      <th>game_date</th>\n      <th>attendance</th>\n      <th>game_time</th>\n    </tr>\n  </thead>\n  <tbody>\n    <tr>\n      <th>0</th>\n      <td>0024600001</td>\n      <td>1946-11-01 00:00:00</td>\n      <td>None</td>\n      <td></td>\n    </tr>\n    <tr>\n      <th>1</th>\n      <td>0024600003</td>\n      <td>1946-11-02 00:00:00</td>\n      <td>None</td>\n      <td></td>\n    </tr>\n    <tr>\n      <th>2</th>\n      <td>0024600002</td>\n      <td>1946-11-02 00:00:00</td>\n      <td>None</td>\n      <td></td>\n    </tr>\n    <tr>\n      <th>3</th>\n      <td>0024600004</td>\n      <td>1946-11-02 00:00:00</td>\n      <td>None</td>\n      <td></td>\n    </tr>\n    <tr>\n      <th>4</th>\n      <td>0024600005</td>\n      <td>1946-11-02 00:00:00</td>\n      <td>None</td>\n      <td></td>\n    </tr>\n  </tbody>\n</table>\n</div>"
     },
     "execution_count": 196,
     "metadata": {},
     "output_type": "execute_result"
    }
   ],
   "source": [
    "pd.read_sql_query(\"SELECT * FROM game_info LIMIT 5;\", connection)"
   ]
  },
  {
   "cell_type": "code",
   "execution_count": 197,
   "id": "362b6e3f6997039b",
   "metadata": {
    "ExecuteTime": {
     "end_time": "2023-12-17T11:30:08.634348Z",
     "start_time": "2023-12-17T11:30:06.931045Z"
    }
   },
   "outputs": [
    {
     "data": {
      "text/plain": "      game_id  eventnum  eventmsgtype  eventmsgactiontype  period  \\\n0  0029600009         2            12                   0       1   \n1  0029600009         3            10                   0       1   \n2  0029600009         4             5                   4       1   \n3  0029600009         5             2                   1       1   \n4  0029600009         7             4                   0       1   \n\n  wctimestring pctimestring  \\\n0     11:44 PM        12:00   \n1     11:45 PM        12:00   \n2     11:46 PM        11:49   \n3     11:46 PM        11:27   \n4     11:46 PM        11:23   \n\n                                     homedescription  \\\n0                                               None   \n1  Jump Ball Olajuwon vs. Polynice: Tip to Willia...   \n2                                               None   \n3                        MISS Olajuwon 13' Jump Shot   \n4                      Drexler REBOUND (Off:1 Def:0)   \n\n                   neutraldescription                     visitordescription  \\\n0  Start of 1st Period (11:44 PM EST)                                   None   \n1                                None                                   None   \n2                                None  Williamson Traveling Turnover (P1.T1)   \n3                                None                                   None   \n4                                None                                   None   \n\n   ... player2_team_nickname player2_team_abbreviation  person3type  \\\n0  ...                  None                      None          0.0   \n1  ...                 Kings                       SAC          5.0   \n2  ...                  None                      None          0.0   \n3  ...                  None                      None          0.0   \n4  ...                  None                      None          0.0   \n\n  player3_id        player3_name player3_team_id player3_team_city  \\\n0          0                None            None              None   \n1        722  Corliss Williamson    1610612758.0        Sacramento   \n2          0                None            None              None   \n3          0                None            None              None   \n4          0                None            None              None   \n\n  player3_team_nickname player3_team_abbreviation  video_available_flag  \n0                  None                      None                     0  \n1                 Kings                       SAC                     0  \n2                  None                      None                     0  \n3                  None                      None                     0  \n4                  None                      None                     0  \n\n[5 rows x 34 columns]",
      "text/html": "<div>\n<style scoped>\n    .dataframe tbody tr th:only-of-type {\n        vertical-align: middle;\n    }\n\n    .dataframe tbody tr th {\n        vertical-align: top;\n    }\n\n    .dataframe thead th {\n        text-align: right;\n    }\n</style>\n<table border=\"1\" class=\"dataframe\">\n  <thead>\n    <tr style=\"text-align: right;\">\n      <th></th>\n      <th>game_id</th>\n      <th>eventnum</th>\n      <th>eventmsgtype</th>\n      <th>eventmsgactiontype</th>\n      <th>period</th>\n      <th>wctimestring</th>\n      <th>pctimestring</th>\n      <th>homedescription</th>\n      <th>neutraldescription</th>\n      <th>visitordescription</th>\n      <th>...</th>\n      <th>player2_team_nickname</th>\n      <th>player2_team_abbreviation</th>\n      <th>person3type</th>\n      <th>player3_id</th>\n      <th>player3_name</th>\n      <th>player3_team_id</th>\n      <th>player3_team_city</th>\n      <th>player3_team_nickname</th>\n      <th>player3_team_abbreviation</th>\n      <th>video_available_flag</th>\n    </tr>\n  </thead>\n  <tbody>\n    <tr>\n      <th>0</th>\n      <td>0029600009</td>\n      <td>2</td>\n      <td>12</td>\n      <td>0</td>\n      <td>1</td>\n      <td>11:44 PM</td>\n      <td>12:00</td>\n      <td>None</td>\n      <td>Start of 1st Period (11:44 PM EST)</td>\n      <td>None</td>\n      <td>...</td>\n      <td>None</td>\n      <td>None</td>\n      <td>0.0</td>\n      <td>0</td>\n      <td>None</td>\n      <td>None</td>\n      <td>None</td>\n      <td>None</td>\n      <td>None</td>\n      <td>0</td>\n    </tr>\n    <tr>\n      <th>1</th>\n      <td>0029600009</td>\n      <td>3</td>\n      <td>10</td>\n      <td>0</td>\n      <td>1</td>\n      <td>11:45 PM</td>\n      <td>12:00</td>\n      <td>Jump Ball Olajuwon vs. Polynice: Tip to Willia...</td>\n      <td>None</td>\n      <td>None</td>\n      <td>...</td>\n      <td>Kings</td>\n      <td>SAC</td>\n      <td>5.0</td>\n      <td>722</td>\n      <td>Corliss Williamson</td>\n      <td>1610612758.0</td>\n      <td>Sacramento</td>\n      <td>Kings</td>\n      <td>SAC</td>\n      <td>0</td>\n    </tr>\n    <tr>\n      <th>2</th>\n      <td>0029600009</td>\n      <td>4</td>\n      <td>5</td>\n      <td>4</td>\n      <td>1</td>\n      <td>11:46 PM</td>\n      <td>11:49</td>\n      <td>None</td>\n      <td>None</td>\n      <td>Williamson Traveling Turnover (P1.T1)</td>\n      <td>...</td>\n      <td>None</td>\n      <td>None</td>\n      <td>0.0</td>\n      <td>0</td>\n      <td>None</td>\n      <td>None</td>\n      <td>None</td>\n      <td>None</td>\n      <td>None</td>\n      <td>0</td>\n    </tr>\n    <tr>\n      <th>3</th>\n      <td>0029600009</td>\n      <td>5</td>\n      <td>2</td>\n      <td>1</td>\n      <td>1</td>\n      <td>11:46 PM</td>\n      <td>11:27</td>\n      <td>MISS Olajuwon 13' Jump Shot</td>\n      <td>None</td>\n      <td>None</td>\n      <td>...</td>\n      <td>None</td>\n      <td>None</td>\n      <td>0.0</td>\n      <td>0</td>\n      <td>None</td>\n      <td>None</td>\n      <td>None</td>\n      <td>None</td>\n      <td>None</td>\n      <td>0</td>\n    </tr>\n    <tr>\n      <th>4</th>\n      <td>0029600009</td>\n      <td>7</td>\n      <td>4</td>\n      <td>0</td>\n      <td>1</td>\n      <td>11:46 PM</td>\n      <td>11:23</td>\n      <td>Drexler REBOUND (Off:1 Def:0)</td>\n      <td>None</td>\n      <td>None</td>\n      <td>...</td>\n      <td>None</td>\n      <td>None</td>\n      <td>0.0</td>\n      <td>0</td>\n      <td>None</td>\n      <td>None</td>\n      <td>None</td>\n      <td>None</td>\n      <td>None</td>\n      <td>0</td>\n    </tr>\n  </tbody>\n</table>\n<p>5 rows × 34 columns</p>\n</div>"
     },
     "execution_count": 197,
     "metadata": {},
     "output_type": "execute_result"
    }
   ],
   "source": [
    "pd.read_sql_query(\"SELECT * FROM play_by_play LIMIT 5;\", connection)"
   ]
  },
  {
   "cell_type": "code",
   "execution_count": 198,
   "id": "4f465dd562c4c272",
   "metadata": {
    "ExecuteTime": {
     "end_time": "2023-12-17T11:30:08.683586Z",
     "start_time": "2023-12-17T11:30:06.948279Z"
    }
   },
   "outputs": [
    {
     "data": {
      "text/plain": "  person_id first_name    last_name  display_first_last  \\\n0        51    Mahmoud   Abdul-Rauf  Mahmoud Abdul-Rauf   \n1      1505      Tariq  Abdul-Wahad   Tariq Abdul-Wahad   \n2     76007       John    Abramovic      John Abramovic   \n3    203112     Quincy          Acy          Quincy Acy   \n4    200801     Hassan        Adams        Hassan Adams   \n\n  display_last_comma_first display_fi_last         player_slug  \\\n0      Abdul-Rauf, Mahmoud   M. Abdul-Rauf  mahmoud-abdul-rauf   \n1       Abdul-Wahad, Tariq  T. Abdul-Wahad   tariq-abdul-wahad   \n2          Abramovic, John    J. Abramovic      john-abramovic   \n3              Acy, Quincy          Q. Acy          quincy-acy   \n4            Adams, Hassan        H. Adams        hassan-adams   \n\n             birthdate           school country  ...  \\\n0  1969-03-09 00:00:00  Louisiana State     USA  ...   \n1  1974-11-03 00:00:00   San Jose State  France  ...   \n2  1919-02-09 00:00:00            Salem     USA  ...   \n3  1990-10-06 00:00:00           Baylor     USA  ...   \n4  1984-06-20 00:00:00          Arizona     USA  ...   \n\n                 playercode from_year to_year  dleague_flag nba_flag  \\\n0        mahmoud_abdul-rauf    1990.0  2000.0             N        Y   \n1         tariq_abdul-wahad    1997.0  2003.0             N        Y   \n2  HISTADD_brooms_abramovic    1946.0  1947.0             N        Y   \n3                quincy_acy    2012.0  2018.0             Y        Y   \n4              hassan_adams    2006.0  2008.0             N        Y   \n\n  games_played_flag draft_year draft_round  draft_number greatest_75_flag  \n0                 Y       1990           1             3                N  \n1                 Y       1997           1            11                N  \n2                 Y  Undrafted   Undrafted     Undrafted                N  \n3                 Y       2012           2            37                N  \n4                 Y       2006           2            54                N  \n\n[5 rows x 33 columns]",
      "text/html": "<div>\n<style scoped>\n    .dataframe tbody tr th:only-of-type {\n        vertical-align: middle;\n    }\n\n    .dataframe tbody tr th {\n        vertical-align: top;\n    }\n\n    .dataframe thead th {\n        text-align: right;\n    }\n</style>\n<table border=\"1\" class=\"dataframe\">\n  <thead>\n    <tr style=\"text-align: right;\">\n      <th></th>\n      <th>person_id</th>\n      <th>first_name</th>\n      <th>last_name</th>\n      <th>display_first_last</th>\n      <th>display_last_comma_first</th>\n      <th>display_fi_last</th>\n      <th>player_slug</th>\n      <th>birthdate</th>\n      <th>school</th>\n      <th>country</th>\n      <th>...</th>\n      <th>playercode</th>\n      <th>from_year</th>\n      <th>to_year</th>\n      <th>dleague_flag</th>\n      <th>nba_flag</th>\n      <th>games_played_flag</th>\n      <th>draft_year</th>\n      <th>draft_round</th>\n      <th>draft_number</th>\n      <th>greatest_75_flag</th>\n    </tr>\n  </thead>\n  <tbody>\n    <tr>\n      <th>0</th>\n      <td>51</td>\n      <td>Mahmoud</td>\n      <td>Abdul-Rauf</td>\n      <td>Mahmoud Abdul-Rauf</td>\n      <td>Abdul-Rauf, Mahmoud</td>\n      <td>M. Abdul-Rauf</td>\n      <td>mahmoud-abdul-rauf</td>\n      <td>1969-03-09 00:00:00</td>\n      <td>Louisiana State</td>\n      <td>USA</td>\n      <td>...</td>\n      <td>mahmoud_abdul-rauf</td>\n      <td>1990.0</td>\n      <td>2000.0</td>\n      <td>N</td>\n      <td>Y</td>\n      <td>Y</td>\n      <td>1990</td>\n      <td>1</td>\n      <td>3</td>\n      <td>N</td>\n    </tr>\n    <tr>\n      <th>1</th>\n      <td>1505</td>\n      <td>Tariq</td>\n      <td>Abdul-Wahad</td>\n      <td>Tariq Abdul-Wahad</td>\n      <td>Abdul-Wahad, Tariq</td>\n      <td>T. Abdul-Wahad</td>\n      <td>tariq-abdul-wahad</td>\n      <td>1974-11-03 00:00:00</td>\n      <td>San Jose State</td>\n      <td>France</td>\n      <td>...</td>\n      <td>tariq_abdul-wahad</td>\n      <td>1997.0</td>\n      <td>2003.0</td>\n      <td>N</td>\n      <td>Y</td>\n      <td>Y</td>\n      <td>1997</td>\n      <td>1</td>\n      <td>11</td>\n      <td>N</td>\n    </tr>\n    <tr>\n      <th>2</th>\n      <td>76007</td>\n      <td>John</td>\n      <td>Abramovic</td>\n      <td>John Abramovic</td>\n      <td>Abramovic, John</td>\n      <td>J. Abramovic</td>\n      <td>john-abramovic</td>\n      <td>1919-02-09 00:00:00</td>\n      <td>Salem</td>\n      <td>USA</td>\n      <td>...</td>\n      <td>HISTADD_brooms_abramovic</td>\n      <td>1946.0</td>\n      <td>1947.0</td>\n      <td>N</td>\n      <td>Y</td>\n      <td>Y</td>\n      <td>Undrafted</td>\n      <td>Undrafted</td>\n      <td>Undrafted</td>\n      <td>N</td>\n    </tr>\n    <tr>\n      <th>3</th>\n      <td>203112</td>\n      <td>Quincy</td>\n      <td>Acy</td>\n      <td>Quincy Acy</td>\n      <td>Acy, Quincy</td>\n      <td>Q. Acy</td>\n      <td>quincy-acy</td>\n      <td>1990-10-06 00:00:00</td>\n      <td>Baylor</td>\n      <td>USA</td>\n      <td>...</td>\n      <td>quincy_acy</td>\n      <td>2012.0</td>\n      <td>2018.0</td>\n      <td>Y</td>\n      <td>Y</td>\n      <td>Y</td>\n      <td>2012</td>\n      <td>2</td>\n      <td>37</td>\n      <td>N</td>\n    </tr>\n    <tr>\n      <th>4</th>\n      <td>200801</td>\n      <td>Hassan</td>\n      <td>Adams</td>\n      <td>Hassan Adams</td>\n      <td>Adams, Hassan</td>\n      <td>H. Adams</td>\n      <td>hassan-adams</td>\n      <td>1984-06-20 00:00:00</td>\n      <td>Arizona</td>\n      <td>USA</td>\n      <td>...</td>\n      <td>hassan_adams</td>\n      <td>2006.0</td>\n      <td>2008.0</td>\n      <td>N</td>\n      <td>Y</td>\n      <td>Y</td>\n      <td>2006</td>\n      <td>2</td>\n      <td>54</td>\n      <td>N</td>\n    </tr>\n  </tbody>\n</table>\n<p>5 rows × 33 columns</p>\n</div>"
     },
     "execution_count": 198,
     "metadata": {},
     "output_type": "execute_result"
    }
   ],
   "source": [
    "pd.read_sql_query(\"SELECT * FROM common_player_info LIMIT 5;\", connection)"
   ]
  },
  {
   "cell_type": "code",
   "execution_count": 199,
   "id": "d92874900da53a9b",
   "metadata": {
    "ExecuteTime": {
     "end_time": "2023-12-17T11:30:08.685084Z",
     "start_time": "2023-12-17T11:30:06.967541Z"
    }
   },
   "outputs": [
    {
     "data": {
      "text/plain": "      team_id abbreviation   nickname  yearfounded         city  \\\n0  1610612737          ATL      Hawks       1949.0      Atlanta   \n1  1610612738          BOS    Celtics       1946.0       Boston   \n2  1610612739          CLE  Cavaliers       1970.0    Cleveland   \n3  1610612740          NOP   Pelicans       2002.0  New Orleans   \n4  1610612741          CHI      Bulls       1966.0      Chicago   \n\n                        arena  arenacapacity            owner  \\\n0            State Farm Arena        18729.0     Tony Ressler   \n1                   TD Garden        18624.0    Wyc Grousbeck   \n2  Rocket Mortgage FieldHouse        20562.0      Dan Gilbert   \n3        Smoothie King Center            NaN       Tom Benson   \n4               United Center        21711.0  Jerry Reinsdorf   \n\n       generalmanager       headcoach     dleagueaffiliation  \\\n0      Travis Schlenk     Quin Snyder  College Park Skyhawks   \n1        Brad Stevens    Joe Mazzulla          Maine Celtics   \n2         Koby Altman  JB Bickerstaff       Cleveland Charge   \n3      Trajan Langdon    Willie Green    Birmingham Squadron   \n4  Arturas Karnisovas   Billy Donovan       Windy City Bulls   \n\n                                 facebook                           instagram  \\\n0          https://www.facebook.com/hawks      https://instagram.com/atlhawks   \n1  https://www.facebook.com/bostonceltics       https://instagram.com/celtics   \n2           https://www.facebook.com/Cavs          https://instagram.com/cavs   \n3    https://www.facebook.com/PelicansNBA   https://instagram.com/pelicansnba   \n4   https://www.facebook.com/chicagobulls  https://instagram.com/chicagobulls   \n\n                            twitter  \n0      https://twitter.com/ATLHawks  \n1       https://twitter.com/celtics  \n2          https://twitter.com/cavs  \n3   https://twitter.com/PelicansNBA  \n4  https://twitter.com/chicagobulls  ",
      "text/html": "<div>\n<style scoped>\n    .dataframe tbody tr th:only-of-type {\n        vertical-align: middle;\n    }\n\n    .dataframe tbody tr th {\n        vertical-align: top;\n    }\n\n    .dataframe thead th {\n        text-align: right;\n    }\n</style>\n<table border=\"1\" class=\"dataframe\">\n  <thead>\n    <tr style=\"text-align: right;\">\n      <th></th>\n      <th>team_id</th>\n      <th>abbreviation</th>\n      <th>nickname</th>\n      <th>yearfounded</th>\n      <th>city</th>\n      <th>arena</th>\n      <th>arenacapacity</th>\n      <th>owner</th>\n      <th>generalmanager</th>\n      <th>headcoach</th>\n      <th>dleagueaffiliation</th>\n      <th>facebook</th>\n      <th>instagram</th>\n      <th>twitter</th>\n    </tr>\n  </thead>\n  <tbody>\n    <tr>\n      <th>0</th>\n      <td>1610612737</td>\n      <td>ATL</td>\n      <td>Hawks</td>\n      <td>1949.0</td>\n      <td>Atlanta</td>\n      <td>State Farm Arena</td>\n      <td>18729.0</td>\n      <td>Tony Ressler</td>\n      <td>Travis Schlenk</td>\n      <td>Quin Snyder</td>\n      <td>College Park Skyhawks</td>\n      <td>https://www.facebook.com/hawks</td>\n      <td>https://instagram.com/atlhawks</td>\n      <td>https://twitter.com/ATLHawks</td>\n    </tr>\n    <tr>\n      <th>1</th>\n      <td>1610612738</td>\n      <td>BOS</td>\n      <td>Celtics</td>\n      <td>1946.0</td>\n      <td>Boston</td>\n      <td>TD Garden</td>\n      <td>18624.0</td>\n      <td>Wyc Grousbeck</td>\n      <td>Brad Stevens</td>\n      <td>Joe Mazzulla</td>\n      <td>Maine Celtics</td>\n      <td>https://www.facebook.com/bostonceltics</td>\n      <td>https://instagram.com/celtics</td>\n      <td>https://twitter.com/celtics</td>\n    </tr>\n    <tr>\n      <th>2</th>\n      <td>1610612739</td>\n      <td>CLE</td>\n      <td>Cavaliers</td>\n      <td>1970.0</td>\n      <td>Cleveland</td>\n      <td>Rocket Mortgage FieldHouse</td>\n      <td>20562.0</td>\n      <td>Dan Gilbert</td>\n      <td>Koby Altman</td>\n      <td>JB Bickerstaff</td>\n      <td>Cleveland Charge</td>\n      <td>https://www.facebook.com/Cavs</td>\n      <td>https://instagram.com/cavs</td>\n      <td>https://twitter.com/cavs</td>\n    </tr>\n    <tr>\n      <th>3</th>\n      <td>1610612740</td>\n      <td>NOP</td>\n      <td>Pelicans</td>\n      <td>2002.0</td>\n      <td>New Orleans</td>\n      <td>Smoothie King Center</td>\n      <td>NaN</td>\n      <td>Tom Benson</td>\n      <td>Trajan Langdon</td>\n      <td>Willie Green</td>\n      <td>Birmingham Squadron</td>\n      <td>https://www.facebook.com/PelicansNBA</td>\n      <td>https://instagram.com/pelicansnba</td>\n      <td>https://twitter.com/PelicansNBA</td>\n    </tr>\n    <tr>\n      <th>4</th>\n      <td>1610612741</td>\n      <td>CHI</td>\n      <td>Bulls</td>\n      <td>1966.0</td>\n      <td>Chicago</td>\n      <td>United Center</td>\n      <td>21711.0</td>\n      <td>Jerry Reinsdorf</td>\n      <td>Arturas Karnisovas</td>\n      <td>Billy Donovan</td>\n      <td>Windy City Bulls</td>\n      <td>https://www.facebook.com/chicagobulls</td>\n      <td>https://instagram.com/chicagobulls</td>\n      <td>https://twitter.com/chicagobulls</td>\n    </tr>\n  </tbody>\n</table>\n</div>"
     },
     "execution_count": 199,
     "metadata": {},
     "output_type": "execute_result"
    }
   ],
   "source": [
    "pd.read_sql_query(\"SELECT * FROM team_details LIMIT 5;\", connection)"
   ]
  },
  {
   "cell_type": "code",
   "execution_count": 200,
   "id": "731bd04084cb8058",
   "metadata": {
    "ExecuteTime": {
     "end_time": "2023-12-17T11:30:08.726801Z",
     "start_time": "2023-12-17T11:30:06.980364Z"
    }
   },
   "outputs": [
    {
     "data": {
      "text/plain": "  season player_id first_name  last_name       player_name position  \\\n0   2000      2124      Malik      Allen       Malik Allen     PF-C   \n1   2000     12019     Harold  Arceneaux  Harold Arceneaux    SG-SF   \n2   2000     12020     Lamont     Barnes     Lamont Barnes     PF-C   \n3   2000     12131      Mario      Bland       Mario Bland       PF   \n4   2000      2056     Primoz     Brezec     Primoz Brezec        C   \n\n   height_wo_shoes height_wo_shoes_ft_in height_w_shoes height_w_shoes_ft_in  \\\n0            80.25             6' 8.25''           None                 None   \n1            76.50              6' 4.5''           None                 None   \n2            80.50              6' 8.5''           None                 None   \n3            77.50              6' 5.5''           None                 None   \n4            84.75             7' 0.75''           None                 None   \n\n   ... spot_nba_break_right  spot_nba_corner_right  \\\n0  ...                 None                   None   \n1  ...                 None                   None   \n2  ...                 None                   None   \n3  ...                 None                   None   \n4  ...                 None                   None   \n\n  off_drib_fifteen_break_left  off_drib_fifteen_top_key  \\\n0                        None                      None   \n1                        None                      None   \n2                        None                      None   \n3                        None                      None   \n4                        None                      None   \n\n  off_drib_fifteen_break_right off_drib_college_break_left  \\\n0                         None                        None   \n1                         None                        None   \n2                         None                        None   \n3                         None                        None   \n4                         None                        None   \n\n  off_drib_college_top_key off_drib_college_break_right  on_move_fifteen  \\\n0                     None                         None             None   \n1                     None                         None             None   \n2                     None                         None             None   \n3                     None                         None             None   \n4                     None                         None             None   \n\n   on_move_college  \n0             None  \n1             None  \n2             None  \n3             None  \n4             None  \n\n[5 rows x 47 columns]",
      "text/html": "<div>\n<style scoped>\n    .dataframe tbody tr th:only-of-type {\n        vertical-align: middle;\n    }\n\n    .dataframe tbody tr th {\n        vertical-align: top;\n    }\n\n    .dataframe thead th {\n        text-align: right;\n    }\n</style>\n<table border=\"1\" class=\"dataframe\">\n  <thead>\n    <tr style=\"text-align: right;\">\n      <th></th>\n      <th>season</th>\n      <th>player_id</th>\n      <th>first_name</th>\n      <th>last_name</th>\n      <th>player_name</th>\n      <th>position</th>\n      <th>height_wo_shoes</th>\n      <th>height_wo_shoes_ft_in</th>\n      <th>height_w_shoes</th>\n      <th>height_w_shoes_ft_in</th>\n      <th>...</th>\n      <th>spot_nba_break_right</th>\n      <th>spot_nba_corner_right</th>\n      <th>off_drib_fifteen_break_left</th>\n      <th>off_drib_fifteen_top_key</th>\n      <th>off_drib_fifteen_break_right</th>\n      <th>off_drib_college_break_left</th>\n      <th>off_drib_college_top_key</th>\n      <th>off_drib_college_break_right</th>\n      <th>on_move_fifteen</th>\n      <th>on_move_college</th>\n    </tr>\n  </thead>\n  <tbody>\n    <tr>\n      <th>0</th>\n      <td>2000</td>\n      <td>2124</td>\n      <td>Malik</td>\n      <td>Allen</td>\n      <td>Malik Allen</td>\n      <td>PF-C</td>\n      <td>80.25</td>\n      <td>6' 8.25''</td>\n      <td>None</td>\n      <td>None</td>\n      <td>...</td>\n      <td>None</td>\n      <td>None</td>\n      <td>None</td>\n      <td>None</td>\n      <td>None</td>\n      <td>None</td>\n      <td>None</td>\n      <td>None</td>\n      <td>None</td>\n      <td>None</td>\n    </tr>\n    <tr>\n      <th>1</th>\n      <td>2000</td>\n      <td>12019</td>\n      <td>Harold</td>\n      <td>Arceneaux</td>\n      <td>Harold Arceneaux</td>\n      <td>SG-SF</td>\n      <td>76.50</td>\n      <td>6' 4.5''</td>\n      <td>None</td>\n      <td>None</td>\n      <td>...</td>\n      <td>None</td>\n      <td>None</td>\n      <td>None</td>\n      <td>None</td>\n      <td>None</td>\n      <td>None</td>\n      <td>None</td>\n      <td>None</td>\n      <td>None</td>\n      <td>None</td>\n    </tr>\n    <tr>\n      <th>2</th>\n      <td>2000</td>\n      <td>12020</td>\n      <td>Lamont</td>\n      <td>Barnes</td>\n      <td>Lamont Barnes</td>\n      <td>PF-C</td>\n      <td>80.50</td>\n      <td>6' 8.5''</td>\n      <td>None</td>\n      <td>None</td>\n      <td>...</td>\n      <td>None</td>\n      <td>None</td>\n      <td>None</td>\n      <td>None</td>\n      <td>None</td>\n      <td>None</td>\n      <td>None</td>\n      <td>None</td>\n      <td>None</td>\n      <td>None</td>\n    </tr>\n    <tr>\n      <th>3</th>\n      <td>2000</td>\n      <td>12131</td>\n      <td>Mario</td>\n      <td>Bland</td>\n      <td>Mario Bland</td>\n      <td>PF</td>\n      <td>77.50</td>\n      <td>6' 5.5''</td>\n      <td>None</td>\n      <td>None</td>\n      <td>...</td>\n      <td>None</td>\n      <td>None</td>\n      <td>None</td>\n      <td>None</td>\n      <td>None</td>\n      <td>None</td>\n      <td>None</td>\n      <td>None</td>\n      <td>None</td>\n      <td>None</td>\n    </tr>\n    <tr>\n      <th>4</th>\n      <td>2000</td>\n      <td>2056</td>\n      <td>Primoz</td>\n      <td>Brezec</td>\n      <td>Primoz Brezec</td>\n      <td>C</td>\n      <td>84.75</td>\n      <td>7' 0.75''</td>\n      <td>None</td>\n      <td>None</td>\n      <td>...</td>\n      <td>None</td>\n      <td>None</td>\n      <td>None</td>\n      <td>None</td>\n      <td>None</td>\n      <td>None</td>\n      <td>None</td>\n      <td>None</td>\n      <td>None</td>\n      <td>None</td>\n    </tr>\n  </tbody>\n</table>\n<p>5 rows × 47 columns</p>\n</div>"
     },
     "execution_count": 200,
     "metadata": {},
     "output_type": "execute_result"
    }
   ],
   "source": [
    "pd.read_sql_query(\"SELECT * FROM draft_combine_stats LIMIT 5;\", connection)"
   ]
  },
  {
   "cell_type": "code",
   "execution_count": 201,
   "id": "eeb5c9c662dd6acd",
   "metadata": {
    "ExecuteTime": {
     "end_time": "2023-12-17T11:30:08.814754Z",
     "start_time": "2023-12-17T11:30:06.998020Z"
    }
   },
   "outputs": [
    {
     "data": {
      "text/plain": "  person_id       player_name season  round_number  round_pick  overall_pick  \\\n0     79299  Clifton McNeeley   1947             1           1             1   \n1     78109        Glen Selbo   1947             1           2             2   \n2     76649      Eddie Ehlers   1947             1           3             3   \n3     79302        Walt Dropo   1947             1           4             4   \n4     77048        Dick Holub   1947             1           5             5   \n\n  draft_type     team_id   team_city     team_name team_abbreviation  \\\n0      Draft  1610610031  Pittsburgh       Ironmen               PIT   \n1      Draft  1610610035     Toronto       Huskies               HUS   \n2      Draft  1610612738      Boston       Celtics               BOS   \n3      Draft  1610610032  Providence  Steamrollers               PRO   \n4      Draft  1610612752    New York        Knicks               NYK   \n\n           organization   organization_type player_profile_flag  \n0         Texas-El Paso  College/University                   0  \n1             Wisconsin  College/University                   1  \n2                Purdue  College/University                   1  \n3           Connecticut  College/University                   0  \n4  Long Island-Brooklyn  College/University                   1  ",
      "text/html": "<div>\n<style scoped>\n    .dataframe tbody tr th:only-of-type {\n        vertical-align: middle;\n    }\n\n    .dataframe tbody tr th {\n        vertical-align: top;\n    }\n\n    .dataframe thead th {\n        text-align: right;\n    }\n</style>\n<table border=\"1\" class=\"dataframe\">\n  <thead>\n    <tr style=\"text-align: right;\">\n      <th></th>\n      <th>person_id</th>\n      <th>player_name</th>\n      <th>season</th>\n      <th>round_number</th>\n      <th>round_pick</th>\n      <th>overall_pick</th>\n      <th>draft_type</th>\n      <th>team_id</th>\n      <th>team_city</th>\n      <th>team_name</th>\n      <th>team_abbreviation</th>\n      <th>organization</th>\n      <th>organization_type</th>\n      <th>player_profile_flag</th>\n    </tr>\n  </thead>\n  <tbody>\n    <tr>\n      <th>0</th>\n      <td>79299</td>\n      <td>Clifton McNeeley</td>\n      <td>1947</td>\n      <td>1</td>\n      <td>1</td>\n      <td>1</td>\n      <td>Draft</td>\n      <td>1610610031</td>\n      <td>Pittsburgh</td>\n      <td>Ironmen</td>\n      <td>PIT</td>\n      <td>Texas-El Paso</td>\n      <td>College/University</td>\n      <td>0</td>\n    </tr>\n    <tr>\n      <th>1</th>\n      <td>78109</td>\n      <td>Glen Selbo</td>\n      <td>1947</td>\n      <td>1</td>\n      <td>2</td>\n      <td>2</td>\n      <td>Draft</td>\n      <td>1610610035</td>\n      <td>Toronto</td>\n      <td>Huskies</td>\n      <td>HUS</td>\n      <td>Wisconsin</td>\n      <td>College/University</td>\n      <td>1</td>\n    </tr>\n    <tr>\n      <th>2</th>\n      <td>76649</td>\n      <td>Eddie Ehlers</td>\n      <td>1947</td>\n      <td>1</td>\n      <td>3</td>\n      <td>3</td>\n      <td>Draft</td>\n      <td>1610612738</td>\n      <td>Boston</td>\n      <td>Celtics</td>\n      <td>BOS</td>\n      <td>Purdue</td>\n      <td>College/University</td>\n      <td>1</td>\n    </tr>\n    <tr>\n      <th>3</th>\n      <td>79302</td>\n      <td>Walt Dropo</td>\n      <td>1947</td>\n      <td>1</td>\n      <td>4</td>\n      <td>4</td>\n      <td>Draft</td>\n      <td>1610610032</td>\n      <td>Providence</td>\n      <td>Steamrollers</td>\n      <td>PRO</td>\n      <td>Connecticut</td>\n      <td>College/University</td>\n      <td>0</td>\n    </tr>\n    <tr>\n      <th>4</th>\n      <td>77048</td>\n      <td>Dick Holub</td>\n      <td>1947</td>\n      <td>1</td>\n      <td>5</td>\n      <td>5</td>\n      <td>Draft</td>\n      <td>1610612752</td>\n      <td>New York</td>\n      <td>Knicks</td>\n      <td>NYK</td>\n      <td>Long Island-Brooklyn</td>\n      <td>College/University</td>\n      <td>1</td>\n    </tr>\n  </tbody>\n</table>\n</div>"
     },
     "execution_count": 201,
     "metadata": {},
     "output_type": "execute_result"
    }
   ],
   "source": [
    "pd.read_sql_query(\"SELECT * FROM draft_history LIMIT 5;\", connection)"
   ]
  },
  {
   "cell_type": "code",
   "execution_count": 202,
   "id": "ca7fd30f0aeff8a7",
   "metadata": {
    "ExecuteTime": {
     "end_time": "2023-12-17T11:30:08.870963Z",
     "start_time": "2023-12-17T11:30:07.010245Z"
    }
   },
   "outputs": [
    {
     "data": {
      "text/plain": "      team_id season_year    team_city  team_name team_abbreviation  \\\n0  1610612737     2022-23      Atlanta      Hawks               ATL   \n1  1610612738     2022-23       Boston    Celtics               BOS   \n2  1610612739     2022-23    Cleveland  Cavaliers               CLE   \n3  1610612740     2022-23  New Orleans   Pelicans               NOP   \n4  1610612741     2022-23      Chicago      Bulls               CHI   \n\n  team_conference team_division  team_code  team_slug   w  ...  league_id  \\\n0            East     Southeast      hawks      hawks  32  ...         00   \n1            East      Atlantic    celtics    celtics  45  ...         00   \n2            East       Central  cavaliers  cavaliers  40  ...         00   \n3            West     Southwest   pelicans   pelicans  31  ...         00   \n4            East       Central      bulls      bulls  29  ...         00   \n\n   season_id  pts_rank  pts_pg  reb_rank  reb_pg ast_rank ast_pg  \\\n0      22022         7   117.0        12    43.7       20   24.6   \n1      22022         4   117.7         6    45.2        7   26.3   \n2      22022        25   112.0        23    41.7       18   24.9   \n3      22022        16   114.2        14    43.7       11   25.5   \n4      22022        20   113.0        21    42.6       22   24.1   \n\n   opp_pts_rank  opp_pts_pg  \n0            21       116.9  \n1             9       112.4  \n2             1       106.4  \n3            16       113.4  \n4            11       112.7  \n\n[5 rows x 26 columns]",
      "text/html": "<div>\n<style scoped>\n    .dataframe tbody tr th:only-of-type {\n        vertical-align: middle;\n    }\n\n    .dataframe tbody tr th {\n        vertical-align: top;\n    }\n\n    .dataframe thead th {\n        text-align: right;\n    }\n</style>\n<table border=\"1\" class=\"dataframe\">\n  <thead>\n    <tr style=\"text-align: right;\">\n      <th></th>\n      <th>team_id</th>\n      <th>season_year</th>\n      <th>team_city</th>\n      <th>team_name</th>\n      <th>team_abbreviation</th>\n      <th>team_conference</th>\n      <th>team_division</th>\n      <th>team_code</th>\n      <th>team_slug</th>\n      <th>w</th>\n      <th>...</th>\n      <th>league_id</th>\n      <th>season_id</th>\n      <th>pts_rank</th>\n      <th>pts_pg</th>\n      <th>reb_rank</th>\n      <th>reb_pg</th>\n      <th>ast_rank</th>\n      <th>ast_pg</th>\n      <th>opp_pts_rank</th>\n      <th>opp_pts_pg</th>\n    </tr>\n  </thead>\n  <tbody>\n    <tr>\n      <th>0</th>\n      <td>1610612737</td>\n      <td>2022-23</td>\n      <td>Atlanta</td>\n      <td>Hawks</td>\n      <td>ATL</td>\n      <td>East</td>\n      <td>Southeast</td>\n      <td>hawks</td>\n      <td>hawks</td>\n      <td>32</td>\n      <td>...</td>\n      <td>00</td>\n      <td>22022</td>\n      <td>7</td>\n      <td>117.0</td>\n      <td>12</td>\n      <td>43.7</td>\n      <td>20</td>\n      <td>24.6</td>\n      <td>21</td>\n      <td>116.9</td>\n    </tr>\n    <tr>\n      <th>1</th>\n      <td>1610612738</td>\n      <td>2022-23</td>\n      <td>Boston</td>\n      <td>Celtics</td>\n      <td>BOS</td>\n      <td>East</td>\n      <td>Atlantic</td>\n      <td>celtics</td>\n      <td>celtics</td>\n      <td>45</td>\n      <td>...</td>\n      <td>00</td>\n      <td>22022</td>\n      <td>4</td>\n      <td>117.7</td>\n      <td>6</td>\n      <td>45.2</td>\n      <td>7</td>\n      <td>26.3</td>\n      <td>9</td>\n      <td>112.4</td>\n    </tr>\n    <tr>\n      <th>2</th>\n      <td>1610612739</td>\n      <td>2022-23</td>\n      <td>Cleveland</td>\n      <td>Cavaliers</td>\n      <td>CLE</td>\n      <td>East</td>\n      <td>Central</td>\n      <td>cavaliers</td>\n      <td>cavaliers</td>\n      <td>40</td>\n      <td>...</td>\n      <td>00</td>\n      <td>22022</td>\n      <td>25</td>\n      <td>112.0</td>\n      <td>23</td>\n      <td>41.7</td>\n      <td>18</td>\n      <td>24.9</td>\n      <td>1</td>\n      <td>106.4</td>\n    </tr>\n    <tr>\n      <th>3</th>\n      <td>1610612740</td>\n      <td>2022-23</td>\n      <td>New Orleans</td>\n      <td>Pelicans</td>\n      <td>NOP</td>\n      <td>West</td>\n      <td>Southwest</td>\n      <td>pelicans</td>\n      <td>pelicans</td>\n      <td>31</td>\n      <td>...</td>\n      <td>00</td>\n      <td>22022</td>\n      <td>16</td>\n      <td>114.2</td>\n      <td>14</td>\n      <td>43.7</td>\n      <td>11</td>\n      <td>25.5</td>\n      <td>16</td>\n      <td>113.4</td>\n    </tr>\n    <tr>\n      <th>4</th>\n      <td>1610612741</td>\n      <td>2022-23</td>\n      <td>Chicago</td>\n      <td>Bulls</td>\n      <td>CHI</td>\n      <td>East</td>\n      <td>Central</td>\n      <td>bulls</td>\n      <td>bulls</td>\n      <td>29</td>\n      <td>...</td>\n      <td>00</td>\n      <td>22022</td>\n      <td>20</td>\n      <td>113.0</td>\n      <td>21</td>\n      <td>42.6</td>\n      <td>22</td>\n      <td>24.1</td>\n      <td>11</td>\n      <td>112.7</td>\n    </tr>\n  </tbody>\n</table>\n<p>5 rows × 26 columns</p>\n</div>"
     },
     "execution_count": 202,
     "metadata": {},
     "output_type": "execute_result"
    }
   ],
   "source": [
    "pd.read_sql_query(\"SELECT * FROM team_info_common LIMIT 5;\", connection)"
   ]
  },
  {
   "cell_type": "markdown",
   "id": "f6b575bdec7b1afa",
   "metadata": {},
   "source": [
    "## Results of 2022/23 season"
   ]
  },
  {
   "cell_type": "markdown",
   "id": "ecdec035f8c7d664",
   "metadata": {},
   "source": [
    "Let's receive some informations about last season from the team_info_common table combined with team table. We will order the results by conference, conference and division ranking."
   ]
  },
  {
   "cell_type": "code",
   "execution_count": 203,
   "id": "5ff9a125452ce26",
   "metadata": {
    "ExecuteTime": {
     "end_time": "2023-12-17T11:30:08.933539Z",
     "start_time": "2023-12-17T11:30:07.032551Z"
    }
   },
   "outputs": [
    {
     "data": {
      "text/plain": "                      team                 state team_conference  \\\n0          Milwaukee Bucks             Wisconsin            East   \n1           Boston Celtics         Massachusetts            East   \n2       Philadelphia 76ers          Pennsylvania            East   \n3      Cleveland Cavaliers                  Ohio            East   \n4          New York Knicks              New York            East   \n5            Brooklyn Nets              New York            East   \n6               Miami Heat               Florida            East   \n7            Atlanta Hawks               Atlanta            East   \n8       Washington Wizards  District of Columbia            East   \n9           Indiana Pacers               Indiana            East   \n10           Chicago Bulls              Illinois            East   \n11           Orlando Magic               Florida            East   \n12       Charlotte Hornets        North Carolina            East   \n13         Detroit Pistons              Michigan            East   \n14          Denver Nuggets              Colorado            West   \n15        Sacramento Kings            California            West   \n16            Phoenix Suns               Arizona            West   \n17   Golden State Warriors            California            West   \n18  Minnesota Timberwolves             Minnesota            West   \n19        Dallas Mavericks                 Texas            West   \n20             LA Clippers            California            West   \n21    New Orleans Pelicans             Louisiana            West   \n22      Los Angeles Lakers            California            West   \n23   Oklahoma City Thunder              Oklahoma            West   \n24  Portland Trail Blazers                Oregon            West   \n25       San Antonio Spurs                 Texas            West   \n26         Houston Rockets                 Texas            West   \n\n   team_division  wins  looses  win_percentage  conf_rank  div_rank  \n0        Central    46      18           0.719          1         1  \n1       Atlantic    45      20           0.692          2         1  \n2       Atlantic    41      22           0.651          3         2  \n3        Central    40      26           0.606          4         2  \n4       Atlantic    39      27           0.591          5         3  \n5       Atlantic    36      28           0.563          6         4  \n6      Southeast    34      31           0.523          7         1  \n7      Southeast    32      32           0.500          8         2  \n8      Southeast    30      34           0.469         10         3  \n9        Central    29      36           0.446         11         3  \n10       Central    29      36           0.446         12         4  \n11     Southeast    27      38           0.415         13         4  \n12     Southeast    20      46           0.303         14         5  \n13       Central    15      49           0.234         15         5  \n14     Northwest    45      19           0.703          1         1  \n15       Pacific    37      26           0.587          3         1  \n16       Pacific    36      29           0.554          4         2  \n17       Pacific    34      31           0.523          5         3  \n18     Northwest    34      32           0.515          6         2  \n19     Southwest    33      32           0.508          7         2  \n20       Pacific    34      33           0.507          8         4  \n21     Southwest    31      33           0.484          9         3  \n22       Pacific    31      34           0.477         11         5  \n23     Northwest    30      34           0.469         12         4  \n24     Northwest    30      34           0.469         13         5  \n25     Southwest    16      49           0.246         14         4  \n26     Southwest    15      49           0.234         15         5  ",
      "text/html": "<div>\n<style scoped>\n    .dataframe tbody tr th:only-of-type {\n        vertical-align: middle;\n    }\n\n    .dataframe tbody tr th {\n        vertical-align: top;\n    }\n\n    .dataframe thead th {\n        text-align: right;\n    }\n</style>\n<table border=\"1\" class=\"dataframe\">\n  <thead>\n    <tr style=\"text-align: right;\">\n      <th></th>\n      <th>team</th>\n      <th>state</th>\n      <th>team_conference</th>\n      <th>team_division</th>\n      <th>wins</th>\n      <th>looses</th>\n      <th>win_percentage</th>\n      <th>conf_rank</th>\n      <th>div_rank</th>\n    </tr>\n  </thead>\n  <tbody>\n    <tr>\n      <th>0</th>\n      <td>Milwaukee Bucks</td>\n      <td>Wisconsin</td>\n      <td>East</td>\n      <td>Central</td>\n      <td>46</td>\n      <td>18</td>\n      <td>0.719</td>\n      <td>1</td>\n      <td>1</td>\n    </tr>\n    <tr>\n      <th>1</th>\n      <td>Boston Celtics</td>\n      <td>Massachusetts</td>\n      <td>East</td>\n      <td>Atlantic</td>\n      <td>45</td>\n      <td>20</td>\n      <td>0.692</td>\n      <td>2</td>\n      <td>1</td>\n    </tr>\n    <tr>\n      <th>2</th>\n      <td>Philadelphia 76ers</td>\n      <td>Pennsylvania</td>\n      <td>East</td>\n      <td>Atlantic</td>\n      <td>41</td>\n      <td>22</td>\n      <td>0.651</td>\n      <td>3</td>\n      <td>2</td>\n    </tr>\n    <tr>\n      <th>3</th>\n      <td>Cleveland Cavaliers</td>\n      <td>Ohio</td>\n      <td>East</td>\n      <td>Central</td>\n      <td>40</td>\n      <td>26</td>\n      <td>0.606</td>\n      <td>4</td>\n      <td>2</td>\n    </tr>\n    <tr>\n      <th>4</th>\n      <td>New York Knicks</td>\n      <td>New York</td>\n      <td>East</td>\n      <td>Atlantic</td>\n      <td>39</td>\n      <td>27</td>\n      <td>0.591</td>\n      <td>5</td>\n      <td>3</td>\n    </tr>\n    <tr>\n      <th>5</th>\n      <td>Brooklyn Nets</td>\n      <td>New York</td>\n      <td>East</td>\n      <td>Atlantic</td>\n      <td>36</td>\n      <td>28</td>\n      <td>0.563</td>\n      <td>6</td>\n      <td>4</td>\n    </tr>\n    <tr>\n      <th>6</th>\n      <td>Miami Heat</td>\n      <td>Florida</td>\n      <td>East</td>\n      <td>Southeast</td>\n      <td>34</td>\n      <td>31</td>\n      <td>0.523</td>\n      <td>7</td>\n      <td>1</td>\n    </tr>\n    <tr>\n      <th>7</th>\n      <td>Atlanta Hawks</td>\n      <td>Atlanta</td>\n      <td>East</td>\n      <td>Southeast</td>\n      <td>32</td>\n      <td>32</td>\n      <td>0.500</td>\n      <td>8</td>\n      <td>2</td>\n    </tr>\n    <tr>\n      <th>8</th>\n      <td>Washington Wizards</td>\n      <td>District of Columbia</td>\n      <td>East</td>\n      <td>Southeast</td>\n      <td>30</td>\n      <td>34</td>\n      <td>0.469</td>\n      <td>10</td>\n      <td>3</td>\n    </tr>\n    <tr>\n      <th>9</th>\n      <td>Indiana Pacers</td>\n      <td>Indiana</td>\n      <td>East</td>\n      <td>Central</td>\n      <td>29</td>\n      <td>36</td>\n      <td>0.446</td>\n      <td>11</td>\n      <td>3</td>\n    </tr>\n    <tr>\n      <th>10</th>\n      <td>Chicago Bulls</td>\n      <td>Illinois</td>\n      <td>East</td>\n      <td>Central</td>\n      <td>29</td>\n      <td>36</td>\n      <td>0.446</td>\n      <td>12</td>\n      <td>4</td>\n    </tr>\n    <tr>\n      <th>11</th>\n      <td>Orlando Magic</td>\n      <td>Florida</td>\n      <td>East</td>\n      <td>Southeast</td>\n      <td>27</td>\n      <td>38</td>\n      <td>0.415</td>\n      <td>13</td>\n      <td>4</td>\n    </tr>\n    <tr>\n      <th>12</th>\n      <td>Charlotte Hornets</td>\n      <td>North Carolina</td>\n      <td>East</td>\n      <td>Southeast</td>\n      <td>20</td>\n      <td>46</td>\n      <td>0.303</td>\n      <td>14</td>\n      <td>5</td>\n    </tr>\n    <tr>\n      <th>13</th>\n      <td>Detroit Pistons</td>\n      <td>Michigan</td>\n      <td>East</td>\n      <td>Central</td>\n      <td>15</td>\n      <td>49</td>\n      <td>0.234</td>\n      <td>15</td>\n      <td>5</td>\n    </tr>\n    <tr>\n      <th>14</th>\n      <td>Denver Nuggets</td>\n      <td>Colorado</td>\n      <td>West</td>\n      <td>Northwest</td>\n      <td>45</td>\n      <td>19</td>\n      <td>0.703</td>\n      <td>1</td>\n      <td>1</td>\n    </tr>\n    <tr>\n      <th>15</th>\n      <td>Sacramento Kings</td>\n      <td>California</td>\n      <td>West</td>\n      <td>Pacific</td>\n      <td>37</td>\n      <td>26</td>\n      <td>0.587</td>\n      <td>3</td>\n      <td>1</td>\n    </tr>\n    <tr>\n      <th>16</th>\n      <td>Phoenix Suns</td>\n      <td>Arizona</td>\n      <td>West</td>\n      <td>Pacific</td>\n      <td>36</td>\n      <td>29</td>\n      <td>0.554</td>\n      <td>4</td>\n      <td>2</td>\n    </tr>\n    <tr>\n      <th>17</th>\n      <td>Golden State Warriors</td>\n      <td>California</td>\n      <td>West</td>\n      <td>Pacific</td>\n      <td>34</td>\n      <td>31</td>\n      <td>0.523</td>\n      <td>5</td>\n      <td>3</td>\n    </tr>\n    <tr>\n      <th>18</th>\n      <td>Minnesota Timberwolves</td>\n      <td>Minnesota</td>\n      <td>West</td>\n      <td>Northwest</td>\n      <td>34</td>\n      <td>32</td>\n      <td>0.515</td>\n      <td>6</td>\n      <td>2</td>\n    </tr>\n    <tr>\n      <th>19</th>\n      <td>Dallas Mavericks</td>\n      <td>Texas</td>\n      <td>West</td>\n      <td>Southwest</td>\n      <td>33</td>\n      <td>32</td>\n      <td>0.508</td>\n      <td>7</td>\n      <td>2</td>\n    </tr>\n    <tr>\n      <th>20</th>\n      <td>LA Clippers</td>\n      <td>California</td>\n      <td>West</td>\n      <td>Pacific</td>\n      <td>34</td>\n      <td>33</td>\n      <td>0.507</td>\n      <td>8</td>\n      <td>4</td>\n    </tr>\n    <tr>\n      <th>21</th>\n      <td>New Orleans Pelicans</td>\n      <td>Louisiana</td>\n      <td>West</td>\n      <td>Southwest</td>\n      <td>31</td>\n      <td>33</td>\n      <td>0.484</td>\n      <td>9</td>\n      <td>3</td>\n    </tr>\n    <tr>\n      <th>22</th>\n      <td>Los Angeles Lakers</td>\n      <td>California</td>\n      <td>West</td>\n      <td>Pacific</td>\n      <td>31</td>\n      <td>34</td>\n      <td>0.477</td>\n      <td>11</td>\n      <td>5</td>\n    </tr>\n    <tr>\n      <th>23</th>\n      <td>Oklahoma City Thunder</td>\n      <td>Oklahoma</td>\n      <td>West</td>\n      <td>Northwest</td>\n      <td>30</td>\n      <td>34</td>\n      <td>0.469</td>\n      <td>12</td>\n      <td>4</td>\n    </tr>\n    <tr>\n      <th>24</th>\n      <td>Portland Trail Blazers</td>\n      <td>Oregon</td>\n      <td>West</td>\n      <td>Northwest</td>\n      <td>30</td>\n      <td>34</td>\n      <td>0.469</td>\n      <td>13</td>\n      <td>5</td>\n    </tr>\n    <tr>\n      <th>25</th>\n      <td>San Antonio Spurs</td>\n      <td>Texas</td>\n      <td>West</td>\n      <td>Southwest</td>\n      <td>16</td>\n      <td>49</td>\n      <td>0.246</td>\n      <td>14</td>\n      <td>4</td>\n    </tr>\n    <tr>\n      <th>26</th>\n      <td>Houston Rockets</td>\n      <td>Texas</td>\n      <td>West</td>\n      <td>Southwest</td>\n      <td>15</td>\n      <td>49</td>\n      <td>0.234</td>\n      <td>15</td>\n      <td>5</td>\n    </tr>\n  </tbody>\n</table>\n</div>"
     },
     "execution_count": 203,
     "metadata": {},
     "output_type": "execute_result"
    }
   ],
   "source": [
    "pd.read_sql_query(\"SELECT team_info_common.team_city || ' ' || team_info_common.team_name AS team, team.state, team_info_common.team_conference, team_info_common.team_division, team_info_common.w AS wins, team_info_common.l AS looses, team_info_common.pct AS win_percentage, team_info_common.conf_rank,team_info_common.div_rank FROM team_info_common LEFT JOIN team ON team_info_common.team_id = team.id ORDER BY team_info_common.team_conference, team_info_common.conf_rank, team_info_common.div_rank;\", connection)"
   ]
  },
  {
   "cell_type": "markdown",
   "id": "598ba8b4f7f02d60",
   "metadata": {},
   "source": [
    "As you can see the winner in East conference was Milwaukee Bucks. In west conference best team was Denver Nuggets. Both teams have a very similar win percentage."
   ]
  },
  {
   "cell_type": "markdown",
   "id": "1a40381ac2ed3b03",
   "metadata": {},
   "source": [
    "Teams from which division had the biggest average win percentage? Let's figure this out."
   ]
  },
  {
   "cell_type": "code",
   "execution_count": 204,
   "id": "8877535d47b73692",
   "metadata": {
    "ExecuteTime": {
     "end_time": "2023-12-17T11:30:08.934848Z",
     "start_time": "2023-12-17T11:30:07.051456Z"
    }
   },
   "outputs": [
    {
     "data": {
      "text/plain": "  team_division  win_percentage\n0      Atlantic            0.62\n1     Northwest            0.54\n2       Pacific            0.53\n3       Central            0.49\n4     Southeast            0.44\n5     Southwest            0.37",
      "text/html": "<div>\n<style scoped>\n    .dataframe tbody tr th:only-of-type {\n        vertical-align: middle;\n    }\n\n    .dataframe tbody tr th {\n        vertical-align: top;\n    }\n\n    .dataframe thead th {\n        text-align: right;\n    }\n</style>\n<table border=\"1\" class=\"dataframe\">\n  <thead>\n    <tr style=\"text-align: right;\">\n      <th></th>\n      <th>team_division</th>\n      <th>win_percentage</th>\n    </tr>\n  </thead>\n  <tbody>\n    <tr>\n      <th>0</th>\n      <td>Atlantic</td>\n      <td>0.62</td>\n    </tr>\n    <tr>\n      <th>1</th>\n      <td>Northwest</td>\n      <td>0.54</td>\n    </tr>\n    <tr>\n      <th>2</th>\n      <td>Pacific</td>\n      <td>0.53</td>\n    </tr>\n    <tr>\n      <th>3</th>\n      <td>Central</td>\n      <td>0.49</td>\n    </tr>\n    <tr>\n      <th>4</th>\n      <td>Southeast</td>\n      <td>0.44</td>\n    </tr>\n    <tr>\n      <th>5</th>\n      <td>Southwest</td>\n      <td>0.37</td>\n    </tr>\n  </tbody>\n</table>\n</div>"
     },
     "execution_count": 204,
     "metadata": {},
     "output_type": "execute_result"
    }
   ],
   "source": [
    "pd.read_sql_query('SELECT team_division, ROUND(AVG(pct),2) AS win_percentage FROM team_info_common GROUP BY team_division ORDER BY AVG(pct) DESC;', connection)"
   ]
  },
  {
   "cell_type": "markdown",
   "id": "860a0c0009deccd0",
   "metadata": {},
   "source": [
    "Teams from Atlantic had the biggest win percentage - 62 %."
   ]
  },
  {
   "cell_type": "markdown",
   "id": "e07388a3caf1a211",
   "metadata": {},
   "source": [
    "Which teams scored the most points per game?"
   ]
  },
  {
   "cell_type": "code",
   "execution_count": 205,
   "id": "a70c65a664582a2d",
   "metadata": {
    "ExecuteTime": {
     "end_time": "2023-12-17T11:30:09.313976Z",
     "start_time": "2023-12-17T11:30:07.064121Z"
    }
   },
   "outputs": [
    {
     "data": {
      "text/plain": "                      team  points_per_game\n0         Sacramento Kings            121.1\n1    Oklahoma City Thunder            118.2\n2    Golden State Warriors            118.0\n3           Boston Celtics            117.7\n4           Denver Nuggets            117.1\n5            Atlanta Hawks            117.0\n6       Los Angeles Lakers            116.7\n7          Milwaukee Bucks            115.6\n8   Minnesota Timberwolves            115.6\n9          New York Knicks            115.5\n10          Indiana Pacers            115.0\n11  Portland Trail Blazers            115.0\n12      Philadelphia 76ers            114.5\n13    New Orleans Pelicans            114.2\n14        Dallas Mavericks            114.0\n15           Brooklyn Nets            113.5\n16      Washington Wizards            113.1\n17           Chicago Bulls            113.0\n18            Phoenix Suns            113.0\n19             LA Clippers            112.7\n20       San Antonio Spurs            112.1\n21     Cleveland Cavaliers            112.0\n22       Charlotte Hornets            111.8\n23         Detroit Pistons            111.4\n24           Orlando Magic            111.0\n25         Houston Rockets            110.3\n26              Miami Heat            108.1",
      "text/html": "<div>\n<style scoped>\n    .dataframe tbody tr th:only-of-type {\n        vertical-align: middle;\n    }\n\n    .dataframe tbody tr th {\n        vertical-align: top;\n    }\n\n    .dataframe thead th {\n        text-align: right;\n    }\n</style>\n<table border=\"1\" class=\"dataframe\">\n  <thead>\n    <tr style=\"text-align: right;\">\n      <th></th>\n      <th>team</th>\n      <th>points_per_game</th>\n    </tr>\n  </thead>\n  <tbody>\n    <tr>\n      <th>0</th>\n      <td>Sacramento Kings</td>\n      <td>121.1</td>\n    </tr>\n    <tr>\n      <th>1</th>\n      <td>Oklahoma City Thunder</td>\n      <td>118.2</td>\n    </tr>\n    <tr>\n      <th>2</th>\n      <td>Golden State Warriors</td>\n      <td>118.0</td>\n    </tr>\n    <tr>\n      <th>3</th>\n      <td>Boston Celtics</td>\n      <td>117.7</td>\n    </tr>\n    <tr>\n      <th>4</th>\n      <td>Denver Nuggets</td>\n      <td>117.1</td>\n    </tr>\n    <tr>\n      <th>5</th>\n      <td>Atlanta Hawks</td>\n      <td>117.0</td>\n    </tr>\n    <tr>\n      <th>6</th>\n      <td>Los Angeles Lakers</td>\n      <td>116.7</td>\n    </tr>\n    <tr>\n      <th>7</th>\n      <td>Milwaukee Bucks</td>\n      <td>115.6</td>\n    </tr>\n    <tr>\n      <th>8</th>\n      <td>Minnesota Timberwolves</td>\n      <td>115.6</td>\n    </tr>\n    <tr>\n      <th>9</th>\n      <td>New York Knicks</td>\n      <td>115.5</td>\n    </tr>\n    <tr>\n      <th>10</th>\n      <td>Indiana Pacers</td>\n      <td>115.0</td>\n    </tr>\n    <tr>\n      <th>11</th>\n      <td>Portland Trail Blazers</td>\n      <td>115.0</td>\n    </tr>\n    <tr>\n      <th>12</th>\n      <td>Philadelphia 76ers</td>\n      <td>114.5</td>\n    </tr>\n    <tr>\n      <th>13</th>\n      <td>New Orleans Pelicans</td>\n      <td>114.2</td>\n    </tr>\n    <tr>\n      <th>14</th>\n      <td>Dallas Mavericks</td>\n      <td>114.0</td>\n    </tr>\n    <tr>\n      <th>15</th>\n      <td>Brooklyn Nets</td>\n      <td>113.5</td>\n    </tr>\n    <tr>\n      <th>16</th>\n      <td>Washington Wizards</td>\n      <td>113.1</td>\n    </tr>\n    <tr>\n      <th>17</th>\n      <td>Chicago Bulls</td>\n      <td>113.0</td>\n    </tr>\n    <tr>\n      <th>18</th>\n      <td>Phoenix Suns</td>\n      <td>113.0</td>\n    </tr>\n    <tr>\n      <th>19</th>\n      <td>LA Clippers</td>\n      <td>112.7</td>\n    </tr>\n    <tr>\n      <th>20</th>\n      <td>San Antonio Spurs</td>\n      <td>112.1</td>\n    </tr>\n    <tr>\n      <th>21</th>\n      <td>Cleveland Cavaliers</td>\n      <td>112.0</td>\n    </tr>\n    <tr>\n      <th>22</th>\n      <td>Charlotte Hornets</td>\n      <td>111.8</td>\n    </tr>\n    <tr>\n      <th>23</th>\n      <td>Detroit Pistons</td>\n      <td>111.4</td>\n    </tr>\n    <tr>\n      <th>24</th>\n      <td>Orlando Magic</td>\n      <td>111.0</td>\n    </tr>\n    <tr>\n      <th>25</th>\n      <td>Houston Rockets</td>\n      <td>110.3</td>\n    </tr>\n    <tr>\n      <th>26</th>\n      <td>Miami Heat</td>\n      <td>108.1</td>\n    </tr>\n  </tbody>\n</table>\n</div>"
     },
     "execution_count": 205,
     "metadata": {},
     "output_type": "execute_result"
    }
   ],
   "source": [
    "pd.read_sql_query(\"SELECT team_city || ' ' || team_name AS team, pts_pg AS points_per_game FROM team_info_common ORDER BY pts_pg DESC;\", connection)"
   ]
  },
  {
   "cell_type": "markdown",
   "id": "d3876398c65be2f1",
   "metadata": {},
   "source": [
    "Denver Nuggets are on fourth place here but surprisingly Milwaukee Bucks are missing in top 10. You don't need to score the best in the league to win in the finals."
   ]
  },
  {
   "cell_type": "markdown",
   "id": "714f3f0deeef4d31",
   "metadata": {},
   "source": [
    "Let's pose an opposite question - Which teams loosed the most points per game?"
   ]
  },
  {
   "cell_type": "code",
   "execution_count": 206,
   "id": "d926010370037c73",
   "metadata": {
    "ExecuteTime": {
     "end_time": "2023-12-17T11:30:09.317214Z",
     "start_time": "2023-12-17T11:30:07.071800Z"
    }
   },
   "outputs": [
    {
     "data": {
      "text/plain": "                      team  loosed_points_per_game\n0        San Antonio Spurs                   122.3\n1          Detroit Pistons                   119.1\n2         Sacramento Kings                   118.5\n3          Houston Rockets                   118.2\n4        Charlotte Hornets                   117.9\n5       Los Angeles Lakers                   117.6\n6           Indiana Pacers                   117.4\n7    Golden State Warriors                   117.1\n8            Atlanta Hawks                   116.9\n9    Oklahoma City Thunder                   116.6\n10  Portland Trail Blazers                   115.8\n11  Minnesota Timberwolves                   115.6\n12           Orlando Magic                   113.7\n13    New Orleans Pelicans                   113.4\n14      Washington Wizards                   113.3\n15        Dallas Mavericks                   113.2\n16             LA Clippers                   113.0\n17           Brooklyn Nets                   112.9\n18           Chicago Bulls                   112.7\n19          Denver Nuggets                   112.6\n20          Boston Celtics                   112.4\n21         New York Knicks                   112.4\n22         Milwaukee Bucks                   111.5\n23            Phoenix Suns                   111.1\n24      Philadelphia 76ers                   110.7\n25              Miami Heat                   108.8\n26     Cleveland Cavaliers                   106.4",
      "text/html": "<div>\n<style scoped>\n    .dataframe tbody tr th:only-of-type {\n        vertical-align: middle;\n    }\n\n    .dataframe tbody tr th {\n        vertical-align: top;\n    }\n\n    .dataframe thead th {\n        text-align: right;\n    }\n</style>\n<table border=\"1\" class=\"dataframe\">\n  <thead>\n    <tr style=\"text-align: right;\">\n      <th></th>\n      <th>team</th>\n      <th>loosed_points_per_game</th>\n    </tr>\n  </thead>\n  <tbody>\n    <tr>\n      <th>0</th>\n      <td>San Antonio Spurs</td>\n      <td>122.3</td>\n    </tr>\n    <tr>\n      <th>1</th>\n      <td>Detroit Pistons</td>\n      <td>119.1</td>\n    </tr>\n    <tr>\n      <th>2</th>\n      <td>Sacramento Kings</td>\n      <td>118.5</td>\n    </tr>\n    <tr>\n      <th>3</th>\n      <td>Houston Rockets</td>\n      <td>118.2</td>\n    </tr>\n    <tr>\n      <th>4</th>\n      <td>Charlotte Hornets</td>\n      <td>117.9</td>\n    </tr>\n    <tr>\n      <th>5</th>\n      <td>Los Angeles Lakers</td>\n      <td>117.6</td>\n    </tr>\n    <tr>\n      <th>6</th>\n      <td>Indiana Pacers</td>\n      <td>117.4</td>\n    </tr>\n    <tr>\n      <th>7</th>\n      <td>Golden State Warriors</td>\n      <td>117.1</td>\n    </tr>\n    <tr>\n      <th>8</th>\n      <td>Atlanta Hawks</td>\n      <td>116.9</td>\n    </tr>\n    <tr>\n      <th>9</th>\n      <td>Oklahoma City Thunder</td>\n      <td>116.6</td>\n    </tr>\n    <tr>\n      <th>10</th>\n      <td>Portland Trail Blazers</td>\n      <td>115.8</td>\n    </tr>\n    <tr>\n      <th>11</th>\n      <td>Minnesota Timberwolves</td>\n      <td>115.6</td>\n    </tr>\n    <tr>\n      <th>12</th>\n      <td>Orlando Magic</td>\n      <td>113.7</td>\n    </tr>\n    <tr>\n      <th>13</th>\n      <td>New Orleans Pelicans</td>\n      <td>113.4</td>\n    </tr>\n    <tr>\n      <th>14</th>\n      <td>Washington Wizards</td>\n      <td>113.3</td>\n    </tr>\n    <tr>\n      <th>15</th>\n      <td>Dallas Mavericks</td>\n      <td>113.2</td>\n    </tr>\n    <tr>\n      <th>16</th>\n      <td>LA Clippers</td>\n      <td>113.0</td>\n    </tr>\n    <tr>\n      <th>17</th>\n      <td>Brooklyn Nets</td>\n      <td>112.9</td>\n    </tr>\n    <tr>\n      <th>18</th>\n      <td>Chicago Bulls</td>\n      <td>112.7</td>\n    </tr>\n    <tr>\n      <th>19</th>\n      <td>Denver Nuggets</td>\n      <td>112.6</td>\n    </tr>\n    <tr>\n      <th>20</th>\n      <td>Boston Celtics</td>\n      <td>112.4</td>\n    </tr>\n    <tr>\n      <th>21</th>\n      <td>New York Knicks</td>\n      <td>112.4</td>\n    </tr>\n    <tr>\n      <th>22</th>\n      <td>Milwaukee Bucks</td>\n      <td>111.5</td>\n    </tr>\n    <tr>\n      <th>23</th>\n      <td>Phoenix Suns</td>\n      <td>111.1</td>\n    </tr>\n    <tr>\n      <th>24</th>\n      <td>Philadelphia 76ers</td>\n      <td>110.7</td>\n    </tr>\n    <tr>\n      <th>25</th>\n      <td>Miami Heat</td>\n      <td>108.8</td>\n    </tr>\n    <tr>\n      <th>26</th>\n      <td>Cleveland Cavaliers</td>\n      <td>106.4</td>\n    </tr>\n  </tbody>\n</table>\n</div>"
     },
     "execution_count": 206,
     "metadata": {},
     "output_type": "execute_result"
    }
   ],
   "source": [
    "pd.read_sql_query(\"SELECT team_city || ' ' || team_name AS team, opp_pts_pg AS loosed_points_per_game FROM team_info_common ORDER BY opp_pts_pg DESC;\", connection)"
   ]
  },
  {
   "cell_type": "markdown",
   "id": "8cc9810c5a1bbb00",
   "metadata": {},
   "source": [
    "The conclusion is simple - if you want to win the league you can't lose much points."
   ]
  },
  {
   "cell_type": "markdown",
   "id": "e20c1e1bff0f52cd",
   "metadata": {},
   "source": [
    "Let's now create a view storing id of each conference team winner."
   ]
  },
  {
   "cell_type": "code",
   "execution_count": 207,
   "id": "b0dfb9cb45d8237f",
   "metadata": {
    "ExecuteTime": {
     "end_time": "2023-12-17T11:30:09.402556Z",
     "start_time": "2023-12-17T11:30:07.081277Z"
    }
   },
   "outputs": [],
   "source": [
    "try :\n",
    "    cursor.execute('CREATE VIEW Conference_winners AS SELECT team_id FROM team_info_common WHERE conf_rank = 1;')\n",
    "except sqlite3.OperationalError:\n",
    "    pass"
   ]
  },
  {
   "cell_type": "markdown",
   "id": "d6e961f4d3fd6ed7",
   "metadata": {},
   "source": [
    "Using previously created view now we want to get some informations about winner teams history, coach, owner and arena where they play."
   ]
  },
  {
   "cell_type": "code",
   "execution_count": 208,
   "id": "74e7576a778e9ead",
   "metadata": {
    "ExecuteTime": {
     "end_time": "2023-12-17T11:30:09.403311Z",
     "start_time": "2023-12-17T11:30:07.085065Z"
    }
   },
   "outputs": [
    {
     "data": {
      "text/plain": "              team  foundation_year         arena  arenacapacity  \\\n0   Denver Nuggets           1976.0    Ball Arena            NaN   \n1  Milwaukee Bucks           1968.0  Fiserv Forum        17500.0   \n\n                       owner         headcoach  \n0               Stan Kroenke    Michael Malone  \n1  Wesley Edens & Marc Lasry  Mike Budenholzer  ",
      "text/html": "<div>\n<style scoped>\n    .dataframe tbody tr th:only-of-type {\n        vertical-align: middle;\n    }\n\n    .dataframe tbody tr th {\n        vertical-align: top;\n    }\n\n    .dataframe thead th {\n        text-align: right;\n    }\n</style>\n<table border=\"1\" class=\"dataframe\">\n  <thead>\n    <tr style=\"text-align: right;\">\n      <th></th>\n      <th>team</th>\n      <th>foundation_year</th>\n      <th>arena</th>\n      <th>arenacapacity</th>\n      <th>owner</th>\n      <th>headcoach</th>\n    </tr>\n  </thead>\n  <tbody>\n    <tr>\n      <th>0</th>\n      <td>Denver Nuggets</td>\n      <td>1976.0</td>\n      <td>Ball Arena</td>\n      <td>NaN</td>\n      <td>Stan Kroenke</td>\n      <td>Michael Malone</td>\n    </tr>\n    <tr>\n      <th>1</th>\n      <td>Milwaukee Bucks</td>\n      <td>1968.0</td>\n      <td>Fiserv Forum</td>\n      <td>17500.0</td>\n      <td>Wesley Edens &amp; Marc Lasry</td>\n      <td>Mike Budenholzer</td>\n    </tr>\n  </tbody>\n</table>\n</div>"
     },
     "execution_count": 208,
     "metadata": {},
     "output_type": "execute_result"
    }
   ],
   "source": [
    "pd.read_sql_query(\"SELECT city || ' ' || nickname AS team, yearfounded AS foundation_year, arena, arenacapacity, owner, headcoach FROM team_details WHERE team_id IN (SELECT * FROM Conference_winners);\", connection)"
   ]
  },
  {
   "cell_type": "markdown",
   "id": "622738d1e82a87c2",
   "metadata": {},
   "source": [
    "## Updating missing values"
   ]
  },
  {
   "cell_type": "markdown",
   "id": "a8e220164abb7c7c",
   "metadata": {},
   "source": [
    "Randomly we discovered that we are missing informations about Ball Arena capacity. Maybe there are more missing values?"
   ]
  },
  {
   "cell_type": "code",
   "execution_count": 209,
   "id": "57e6e62f534e248b",
   "metadata": {
    "ExecuteTime": {
     "end_time": "2023-12-17T11:30:09.495711Z",
     "start_time": "2023-12-17T11:30:07.094560Z"
    }
   },
   "outputs": [
    {
     "data": {
      "text/plain": "                     team  arenacapacity\n0    New Orleans Pelicans            NaN\n1          Denver Nuggets            NaN\n2   Golden State Warriors            NaN\n3           Brooklyn Nets            NaN\n4           Orlando Magic            0.0\n5      Philadelphia 76ers            NaN\n6            Phoenix Suns            NaN\n7   Oklahoma City Thunder            NaN\n8         Toronto Raptors            NaN\n9               Utah Jazz            NaN\n10        Detroit Pistons            NaN",
      "text/html": "<div>\n<style scoped>\n    .dataframe tbody tr th:only-of-type {\n        vertical-align: middle;\n    }\n\n    .dataframe tbody tr th {\n        vertical-align: top;\n    }\n\n    .dataframe thead th {\n        text-align: right;\n    }\n</style>\n<table border=\"1\" class=\"dataframe\">\n  <thead>\n    <tr style=\"text-align: right;\">\n      <th></th>\n      <th>team</th>\n      <th>arenacapacity</th>\n    </tr>\n  </thead>\n  <tbody>\n    <tr>\n      <th>0</th>\n      <td>New Orleans Pelicans</td>\n      <td>NaN</td>\n    </tr>\n    <tr>\n      <th>1</th>\n      <td>Denver Nuggets</td>\n      <td>NaN</td>\n    </tr>\n    <tr>\n      <th>2</th>\n      <td>Golden State Warriors</td>\n      <td>NaN</td>\n    </tr>\n    <tr>\n      <th>3</th>\n      <td>Brooklyn Nets</td>\n      <td>NaN</td>\n    </tr>\n    <tr>\n      <th>4</th>\n      <td>Orlando Magic</td>\n      <td>0.0</td>\n    </tr>\n    <tr>\n      <th>5</th>\n      <td>Philadelphia 76ers</td>\n      <td>NaN</td>\n    </tr>\n    <tr>\n      <th>6</th>\n      <td>Phoenix Suns</td>\n      <td>NaN</td>\n    </tr>\n    <tr>\n      <th>7</th>\n      <td>Oklahoma City Thunder</td>\n      <td>NaN</td>\n    </tr>\n    <tr>\n      <th>8</th>\n      <td>Toronto Raptors</td>\n      <td>NaN</td>\n    </tr>\n    <tr>\n      <th>9</th>\n      <td>Utah Jazz</td>\n      <td>NaN</td>\n    </tr>\n    <tr>\n      <th>10</th>\n      <td>Detroit Pistons</td>\n      <td>NaN</td>\n    </tr>\n  </tbody>\n</table>\n</div>"
     },
     "execution_count": 209,
     "metadata": {},
     "output_type": "execute_result"
    }
   ],
   "source": [
    "pd.read_sql_query(\"SELECT city || ' ' || nickname AS team, arenacapacity FROM team_details WHERE arenacapacity IS NULL OR arenacapacity = 0;\", connection)"
   ]
  },
  {
   "cell_type": "markdown",
   "id": "51007a0a2dd21b33",
   "metadata": {},
   "source": [
    "This problem can fortunately be solved very quickly. After looking up on the Internet I found capacity of each arena. Let's update this data."
   ]
  },
  {
   "cell_type": "code",
   "execution_count": 210,
   "id": "b74eece7123de1e",
   "metadata": {
    "ExecuteTime": {
     "end_time": "2023-12-17T11:30:09.582861Z",
     "start_time": "2023-12-17T11:30:07.104842Z"
    }
   },
   "outputs": [
    {
     "data": {
      "text/plain": "<sqlite3.Cursor at 0x13db3e0c0>"
     },
     "execution_count": 210,
     "metadata": {},
     "output_type": "execute_result"
    }
   ],
   "source": [
    "cursor.execute(\"UPDATE team_details SET arenacapacity = (CASE WHEN nickname = 'Pelicans' THEN 16867 WHEN nickname = 'Nuggets' THEN 21000 WHEN nickname = 'Warriors' THEN 18064 WHEN nickname = 'Nets' THEN 19000 WHEN nickname = '76ers' THEN 20318 WHEN nickname = 'Suns' THEN 18422 WHEN nickname = 'Thunder' THEN 13611 WHEN nickname = 'Raptors' THEN 19800 WHEN nickname = 'Jazz' THEN 15000 WHEN nickname = 'Pistons' THEN 20491 WHEN nickname = 'Magic' THEN 20000 END) WHERE nickname IN ('Pelicans', 'Nuggets', 'Warriors', 'Nets', '76ers', 'Suns', 'Thunder', 'Raptors', 'Jazz', 'Pistons', 'Magic');\")"
   ]
  },
  {
   "cell_type": "markdown",
   "id": "f366832991f85124",
   "metadata": {},
   "source": [
    "## Which team have the biggest arena?"
   ]
  },
  {
   "cell_type": "markdown",
   "id": "a39ac012bb7f8413",
   "metadata": {},
   "source": [
    "Quick check if everything is OK now. We will display team arenas with capacity in decreasing order."
   ]
  },
  {
   "cell_type": "code",
   "execution_count": 211,
   "id": "7ba0ddda56006f99",
   "metadata": {
    "ExecuteTime": {
     "end_time": "2023-12-17T11:30:09.653259Z",
     "start_time": "2023-12-17T11:30:07.129584Z"
    }
   },
   "outputs": [
    {
     "data": {
      "text/plain": "                      team                       arena  arenacapacity\n0            Chicago Bulls               United Center        21711.0\n1           Denver Nuggets                  Ball Arena        21000.0\n2       Washington Wizards           Capital One Arena        20647.0\n3      Cleveland Cavaliers  Rocket Mortgage FieldHouse        20562.0\n4          Detroit Pistons        Little Caesars Arena        20491.0\n5       Philadelphia 76ers          Wells Fargo Center        20318.0\n6            Orlando Magic                Amway Center        20000.0\n7   Portland Trail Blazers                 Moda Center        19980.0\n8          Toronto Raptors            Scotiabank Arena        19800.0\n9          New York Knicks       Madison Square Garden        19763.0\n10              Miami Heat            Miami-Dade Arena        19600.0\n11  Minnesota Timberwolves               Target Center        19356.0\n12        Dallas Mavericks    American Airlines Center        19200.0\n13    Los Angeles Clippers            Crypto.com Arena        19060.0\n14      Los Angeles Lakers            Crypto.com Arena        19060.0\n15       Charlotte Hornets             Spectrum Center        19026.0\n16           Brooklyn Nets             Barclays Center        19000.0\n17           Atlanta Hawks            State Farm Arena        18729.0\n18       San Antonio Spurs                 AT&T Center        18694.0\n19          Boston Celtics                   TD Garden        18624.0\n20            Phoenix Suns            Footprint Center        18422.0\n21          Indiana Pacers      Gainbridge Fieldhouse         18345.0\n22       Memphis Grizzlies                  FedExForum        18119.0\n23         Houston Rockets               Toyota Center        18104.0\n24   Golden State Warriors                Chase Center        18064.0\n25         Milwaukee Bucks                Fiserv Forum        17500.0\n26        Sacramento Kings             Golden 1 Center        17500.0\n27    New Orleans Pelicans        Smoothie King Center        16867.0\n28               Utah Jazz                Vivint Arena        15000.0\n29   Oklahoma City Thunder               Paycom Center        13611.0",
      "text/html": "<div>\n<style scoped>\n    .dataframe tbody tr th:only-of-type {\n        vertical-align: middle;\n    }\n\n    .dataframe tbody tr th {\n        vertical-align: top;\n    }\n\n    .dataframe thead th {\n        text-align: right;\n    }\n</style>\n<table border=\"1\" class=\"dataframe\">\n  <thead>\n    <tr style=\"text-align: right;\">\n      <th></th>\n      <th>team</th>\n      <th>arena</th>\n      <th>arenacapacity</th>\n    </tr>\n  </thead>\n  <tbody>\n    <tr>\n      <th>0</th>\n      <td>Chicago Bulls</td>\n      <td>United Center</td>\n      <td>21711.0</td>\n    </tr>\n    <tr>\n      <th>1</th>\n      <td>Denver Nuggets</td>\n      <td>Ball Arena</td>\n      <td>21000.0</td>\n    </tr>\n    <tr>\n      <th>2</th>\n      <td>Washington Wizards</td>\n      <td>Capital One Arena</td>\n      <td>20647.0</td>\n    </tr>\n    <tr>\n      <th>3</th>\n      <td>Cleveland Cavaliers</td>\n      <td>Rocket Mortgage FieldHouse</td>\n      <td>20562.0</td>\n    </tr>\n    <tr>\n      <th>4</th>\n      <td>Detroit Pistons</td>\n      <td>Little Caesars Arena</td>\n      <td>20491.0</td>\n    </tr>\n    <tr>\n      <th>5</th>\n      <td>Philadelphia 76ers</td>\n      <td>Wells Fargo Center</td>\n      <td>20318.0</td>\n    </tr>\n    <tr>\n      <th>6</th>\n      <td>Orlando Magic</td>\n      <td>Amway Center</td>\n      <td>20000.0</td>\n    </tr>\n    <tr>\n      <th>7</th>\n      <td>Portland Trail Blazers</td>\n      <td>Moda Center</td>\n      <td>19980.0</td>\n    </tr>\n    <tr>\n      <th>8</th>\n      <td>Toronto Raptors</td>\n      <td>Scotiabank Arena</td>\n      <td>19800.0</td>\n    </tr>\n    <tr>\n      <th>9</th>\n      <td>New York Knicks</td>\n      <td>Madison Square Garden</td>\n      <td>19763.0</td>\n    </tr>\n    <tr>\n      <th>10</th>\n      <td>Miami Heat</td>\n      <td>Miami-Dade Arena</td>\n      <td>19600.0</td>\n    </tr>\n    <tr>\n      <th>11</th>\n      <td>Minnesota Timberwolves</td>\n      <td>Target Center</td>\n      <td>19356.0</td>\n    </tr>\n    <tr>\n      <th>12</th>\n      <td>Dallas Mavericks</td>\n      <td>American Airlines Center</td>\n      <td>19200.0</td>\n    </tr>\n    <tr>\n      <th>13</th>\n      <td>Los Angeles Clippers</td>\n      <td>Crypto.com Arena</td>\n      <td>19060.0</td>\n    </tr>\n    <tr>\n      <th>14</th>\n      <td>Los Angeles Lakers</td>\n      <td>Crypto.com Arena</td>\n      <td>19060.0</td>\n    </tr>\n    <tr>\n      <th>15</th>\n      <td>Charlotte Hornets</td>\n      <td>Spectrum Center</td>\n      <td>19026.0</td>\n    </tr>\n    <tr>\n      <th>16</th>\n      <td>Brooklyn Nets</td>\n      <td>Barclays Center</td>\n      <td>19000.0</td>\n    </tr>\n    <tr>\n      <th>17</th>\n      <td>Atlanta Hawks</td>\n      <td>State Farm Arena</td>\n      <td>18729.0</td>\n    </tr>\n    <tr>\n      <th>18</th>\n      <td>San Antonio Spurs</td>\n      <td>AT&amp;T Center</td>\n      <td>18694.0</td>\n    </tr>\n    <tr>\n      <th>19</th>\n      <td>Boston Celtics</td>\n      <td>TD Garden</td>\n      <td>18624.0</td>\n    </tr>\n    <tr>\n      <th>20</th>\n      <td>Phoenix Suns</td>\n      <td>Footprint Center</td>\n      <td>18422.0</td>\n    </tr>\n    <tr>\n      <th>21</th>\n      <td>Indiana Pacers</td>\n      <td>Gainbridge Fieldhouse</td>\n      <td>18345.0</td>\n    </tr>\n    <tr>\n      <th>22</th>\n      <td>Memphis Grizzlies</td>\n      <td>FedExForum</td>\n      <td>18119.0</td>\n    </tr>\n    <tr>\n      <th>23</th>\n      <td>Houston Rockets</td>\n      <td>Toyota Center</td>\n      <td>18104.0</td>\n    </tr>\n    <tr>\n      <th>24</th>\n      <td>Golden State Warriors</td>\n      <td>Chase Center</td>\n      <td>18064.0</td>\n    </tr>\n    <tr>\n      <th>25</th>\n      <td>Milwaukee Bucks</td>\n      <td>Fiserv Forum</td>\n      <td>17500.0</td>\n    </tr>\n    <tr>\n      <th>26</th>\n      <td>Sacramento Kings</td>\n      <td>Golden 1 Center</td>\n      <td>17500.0</td>\n    </tr>\n    <tr>\n      <th>27</th>\n      <td>New Orleans Pelicans</td>\n      <td>Smoothie King Center</td>\n      <td>16867.0</td>\n    </tr>\n    <tr>\n      <th>28</th>\n      <td>Utah Jazz</td>\n      <td>Vivint Arena</td>\n      <td>15000.0</td>\n    </tr>\n    <tr>\n      <th>29</th>\n      <td>Oklahoma City Thunder</td>\n      <td>Paycom Center</td>\n      <td>13611.0</td>\n    </tr>\n  </tbody>\n</table>\n</div>"
     },
     "execution_count": 211,
     "metadata": {},
     "output_type": "execute_result"
    }
   ],
   "source": [
    "pd.read_sql_query(\"SELECT city || ' ' || nickname AS team, arena, arenacapacity FROM team_details ORDER BY arenacapacity DESC\", connection)"
   ]
  },
  {
   "cell_type": "markdown",
   "source": [
    "The answer is - Chicago Bulls."
   ],
   "metadata": {
    "collapsed": false
   },
   "id": "5e65685814f1c15b"
  },
  {
   "cell_type": "markdown",
   "id": "e1f7022e6cd73f46",
   "metadata": {},
   "source": [
    "## Benchmarking Denver Nuggets and Milwaukee Bucks matches"
   ]
  },
  {
   "cell_type": "markdown",
   "id": "510b2555fb27fd71",
   "metadata": {},
   "source": [
    "Let's get the results of home and away matches of Denver Nuggets first."
   ]
  },
  {
   "cell_type": "code",
   "execution_count": 212,
   "id": "2236f913f91a942c",
   "metadata": {
    "ExecuteTime": {
     "end_time": "2023-12-17T11:30:09.698223Z",
     "start_time": "2023-12-17T11:30:07.144773Z"
    }
   },
   "outputs": [
    {
     "data": {
      "text/plain": "                  opponent result  plus_minus_score\n0    Oklahoma City Thunder      W                 5\n1       Los Angeles Lakers      W                11\n2                Utah Jazz      W                16\n3        San Antonio Spurs      W                25\n4          New York Knicks      L                -3\n5          Detroit Pistons      L                -2\n6          Houston Rockets      W                16\n7          Houston Rockets      W                20\n8         Dallas Mavericks      L                -1\n9                Utah Jazz      W                 5\n10      Washington Wizards      W                13\n11       Charlotte Hornets      W                 4\n12       Memphis Grizzlies      W                14\n13  Portland Trail Blazers      W                13\n14            Phoenix Suns      W                 3\n15              Miami Heat      W                 5\n16          Boston Celtics      W                12\n17             LA Clippers      W                31\n18     Cleveland Cavaliers      W                13\n19      Los Angeles Lakers      W                13\n20            Phoenix Suns      W                29\n21           Orlando Magic      W                 3\n22  Portland Trail Blazers      W                 9\n23  Minnesota Timberwolves      W                 4\n24          Indiana Pacers      W                23\n25   Oklahoma City Thunder      L                -2\n26    New Orleans Pelicans      W                 9\n27   Golden State Warriors      W                17\n28           Atlanta Hawks      W                20\n29  Minnesota Timberwolves      W                34\n30        Dallas Mavericks      W                 9\n31             LA Clippers      W                10\n32       Memphis Grizzlies      W                16\n33         Toronto Raptors      W                 5\n34           Chicago Bulls      L               -21\n35           Brooklyn Nets      L                -2",
      "text/html": "<div>\n<style scoped>\n    .dataframe tbody tr th:only-of-type {\n        vertical-align: middle;\n    }\n\n    .dataframe tbody tr th {\n        vertical-align: top;\n    }\n\n    .dataframe thead th {\n        text-align: right;\n    }\n</style>\n<table border=\"1\" class=\"dataframe\">\n  <thead>\n    <tr style=\"text-align: right;\">\n      <th></th>\n      <th>opponent</th>\n      <th>result</th>\n      <th>plus_minus_score</th>\n    </tr>\n  </thead>\n  <tbody>\n    <tr>\n      <th>0</th>\n      <td>Oklahoma City Thunder</td>\n      <td>W</td>\n      <td>5</td>\n    </tr>\n    <tr>\n      <th>1</th>\n      <td>Los Angeles Lakers</td>\n      <td>W</td>\n      <td>11</td>\n    </tr>\n    <tr>\n      <th>2</th>\n      <td>Utah Jazz</td>\n      <td>W</td>\n      <td>16</td>\n    </tr>\n    <tr>\n      <th>3</th>\n      <td>San Antonio Spurs</td>\n      <td>W</td>\n      <td>25</td>\n    </tr>\n    <tr>\n      <th>4</th>\n      <td>New York Knicks</td>\n      <td>L</td>\n      <td>-3</td>\n    </tr>\n    <tr>\n      <th>5</th>\n      <td>Detroit Pistons</td>\n      <td>L</td>\n      <td>-2</td>\n    </tr>\n    <tr>\n      <th>6</th>\n      <td>Houston Rockets</td>\n      <td>W</td>\n      <td>16</td>\n    </tr>\n    <tr>\n      <th>7</th>\n      <td>Houston Rockets</td>\n      <td>W</td>\n      <td>20</td>\n    </tr>\n    <tr>\n      <th>8</th>\n      <td>Dallas Mavericks</td>\n      <td>L</td>\n      <td>-1</td>\n    </tr>\n    <tr>\n      <th>9</th>\n      <td>Utah Jazz</td>\n      <td>W</td>\n      <td>5</td>\n    </tr>\n    <tr>\n      <th>10</th>\n      <td>Washington Wizards</td>\n      <td>W</td>\n      <td>13</td>\n    </tr>\n    <tr>\n      <th>11</th>\n      <td>Charlotte Hornets</td>\n      <td>W</td>\n      <td>4</td>\n    </tr>\n    <tr>\n      <th>12</th>\n      <td>Memphis Grizzlies</td>\n      <td>W</td>\n      <td>14</td>\n    </tr>\n    <tr>\n      <th>13</th>\n      <td>Portland Trail Blazers</td>\n      <td>W</td>\n      <td>13</td>\n    </tr>\n    <tr>\n      <th>14</th>\n      <td>Phoenix Suns</td>\n      <td>W</td>\n      <td>3</td>\n    </tr>\n    <tr>\n      <th>15</th>\n      <td>Miami Heat</td>\n      <td>W</td>\n      <td>5</td>\n    </tr>\n    <tr>\n      <th>16</th>\n      <td>Boston Celtics</td>\n      <td>W</td>\n      <td>12</td>\n    </tr>\n    <tr>\n      <th>17</th>\n      <td>LA Clippers</td>\n      <td>W</td>\n      <td>31</td>\n    </tr>\n    <tr>\n      <th>18</th>\n      <td>Cleveland Cavaliers</td>\n      <td>W</td>\n      <td>13</td>\n    </tr>\n    <tr>\n      <th>19</th>\n      <td>Los Angeles Lakers</td>\n      <td>W</td>\n      <td>13</td>\n    </tr>\n    <tr>\n      <th>20</th>\n      <td>Phoenix Suns</td>\n      <td>W</td>\n      <td>29</td>\n    </tr>\n    <tr>\n      <th>21</th>\n      <td>Orlando Magic</td>\n      <td>W</td>\n      <td>3</td>\n    </tr>\n    <tr>\n      <th>22</th>\n      <td>Portland Trail Blazers</td>\n      <td>W</td>\n      <td>9</td>\n    </tr>\n    <tr>\n      <th>23</th>\n      <td>Minnesota Timberwolves</td>\n      <td>W</td>\n      <td>4</td>\n    </tr>\n    <tr>\n      <th>24</th>\n      <td>Indiana Pacers</td>\n      <td>W</td>\n      <td>23</td>\n    </tr>\n    <tr>\n      <th>25</th>\n      <td>Oklahoma City Thunder</td>\n      <td>L</td>\n      <td>-2</td>\n    </tr>\n    <tr>\n      <th>26</th>\n      <td>New Orleans Pelicans</td>\n      <td>W</td>\n      <td>9</td>\n    </tr>\n    <tr>\n      <th>27</th>\n      <td>Golden State Warriors</td>\n      <td>W</td>\n      <td>17</td>\n    </tr>\n    <tr>\n      <th>28</th>\n      <td>Atlanta Hawks</td>\n      <td>W</td>\n      <td>20</td>\n    </tr>\n    <tr>\n      <th>29</th>\n      <td>Minnesota Timberwolves</td>\n      <td>W</td>\n      <td>34</td>\n    </tr>\n    <tr>\n      <th>30</th>\n      <td>Dallas Mavericks</td>\n      <td>W</td>\n      <td>9</td>\n    </tr>\n    <tr>\n      <th>31</th>\n      <td>LA Clippers</td>\n      <td>W</td>\n      <td>10</td>\n    </tr>\n    <tr>\n      <th>32</th>\n      <td>Memphis Grizzlies</td>\n      <td>W</td>\n      <td>16</td>\n    </tr>\n    <tr>\n      <th>33</th>\n      <td>Toronto Raptors</td>\n      <td>W</td>\n      <td>5</td>\n    </tr>\n    <tr>\n      <th>34</th>\n      <td>Chicago Bulls</td>\n      <td>L</td>\n      <td>-21</td>\n    </tr>\n    <tr>\n      <th>35</th>\n      <td>Brooklyn Nets</td>\n      <td>L</td>\n      <td>-2</td>\n    </tr>\n  </tbody>\n</table>\n</div>"
     },
     "execution_count": 212,
     "metadata": {},
     "output_type": "execute_result"
    }
   ],
   "source": [
    "pd.read_sql_query(\"SELECT team_name_away AS opponent, wl_home AS result, plus_minus_home AS plus_minus_score FROM game WHERE season_id = '22022' AND team_name_home = 'Denver Nuggets';\", connection)"
   ]
  },
  {
   "cell_type": "code",
   "execution_count": 213,
   "id": "a3e0c91a7d794217",
   "metadata": {
    "ExecuteTime": {
     "end_time": "2023-12-17T11:30:09.698998Z",
     "start_time": "2023-12-17T11:30:07.166469Z"
    }
   },
   "outputs": [
    {
     "data": {
      "text/plain": "                  opponent result  plus_minus_score\n0                Utah Jazz      L               -21\n1    Golden State Warriors      W                 5\n2   Portland Trail Blazers      L               -25\n3       Los Angeles Lakers      L               -11\n4    Oklahoma City Thunder      W                12\n5        San Antonio Spurs      W                 6\n6           Indiana Pacers      W                 3\n7           Boston Celtics      L               -19\n8            Chicago Bulls      W                23\n9         Dallas Mavericks      L               -28\n10        Dallas Mavericks      W                 1\n11   Oklahoma City Thunder      W                 5\n12             LA Clippers      W                10\n13           Atlanta Hawks      L                -8\n14    New Orleans Pelicans      L               -15\n15  Portland Trail Blazers      W                 1\n16      Los Angeles Lakers      L               -18\n17        Sacramento Kings      W                 7\n18        Sacramento Kings      L                -1\n19  Minnesota Timberwolves      L               -13\n20             LA Clippers      W                12\n21    New Orleans Pelicans      W                 1\n22         Milwaukee Bucks      L                -8\n23      Philadelphia 76ers      L                -7\n24  Minnesota Timberwolves      L               -30\n25           Orlando Magic      L               -11\n26       Charlotte Hornets      W                14\n27              Miami Heat      W                 4\n28     Cleveland Cavaliers      W                 6\n29       Memphis Grizzlies      L               -18\n30         Houston Rockets      W                21\n31       San Antonio Spurs      L                -8",
      "text/html": "<div>\n<style scoped>\n    .dataframe tbody tr th:only-of-type {\n        vertical-align: middle;\n    }\n\n    .dataframe tbody tr th {\n        vertical-align: top;\n    }\n\n    .dataframe thead th {\n        text-align: right;\n    }\n</style>\n<table border=\"1\" class=\"dataframe\">\n  <thead>\n    <tr style=\"text-align: right;\">\n      <th></th>\n      <th>opponent</th>\n      <th>result</th>\n      <th>plus_minus_score</th>\n    </tr>\n  </thead>\n  <tbody>\n    <tr>\n      <th>0</th>\n      <td>Utah Jazz</td>\n      <td>L</td>\n      <td>-21</td>\n    </tr>\n    <tr>\n      <th>1</th>\n      <td>Golden State Warriors</td>\n      <td>W</td>\n      <td>5</td>\n    </tr>\n    <tr>\n      <th>2</th>\n      <td>Portland Trail Blazers</td>\n      <td>L</td>\n      <td>-25</td>\n    </tr>\n    <tr>\n      <th>3</th>\n      <td>Los Angeles Lakers</td>\n      <td>L</td>\n      <td>-11</td>\n    </tr>\n    <tr>\n      <th>4</th>\n      <td>Oklahoma City Thunder</td>\n      <td>W</td>\n      <td>12</td>\n    </tr>\n    <tr>\n      <th>5</th>\n      <td>San Antonio Spurs</td>\n      <td>W</td>\n      <td>6</td>\n    </tr>\n    <tr>\n      <th>6</th>\n      <td>Indiana Pacers</td>\n      <td>W</td>\n      <td>3</td>\n    </tr>\n    <tr>\n      <th>7</th>\n      <td>Boston Celtics</td>\n      <td>L</td>\n      <td>-19</td>\n    </tr>\n    <tr>\n      <th>8</th>\n      <td>Chicago Bulls</td>\n      <td>W</td>\n      <td>23</td>\n    </tr>\n    <tr>\n      <th>9</th>\n      <td>Dallas Mavericks</td>\n      <td>L</td>\n      <td>-28</td>\n    </tr>\n    <tr>\n      <th>10</th>\n      <td>Dallas Mavericks</td>\n      <td>W</td>\n      <td>1</td>\n    </tr>\n    <tr>\n      <th>11</th>\n      <td>Oklahoma City Thunder</td>\n      <td>W</td>\n      <td>5</td>\n    </tr>\n    <tr>\n      <th>12</th>\n      <td>LA Clippers</td>\n      <td>W</td>\n      <td>10</td>\n    </tr>\n    <tr>\n      <th>13</th>\n      <td>Atlanta Hawks</td>\n      <td>L</td>\n      <td>-8</td>\n    </tr>\n    <tr>\n      <th>14</th>\n      <td>New Orleans Pelicans</td>\n      <td>L</td>\n      <td>-15</td>\n    </tr>\n    <tr>\n      <th>15</th>\n      <td>Portland Trail Blazers</td>\n      <td>W</td>\n      <td>1</td>\n    </tr>\n    <tr>\n      <th>16</th>\n      <td>Los Angeles Lakers</td>\n      <td>L</td>\n      <td>-18</td>\n    </tr>\n    <tr>\n      <th>17</th>\n      <td>Sacramento Kings</td>\n      <td>W</td>\n      <td>7</td>\n    </tr>\n    <tr>\n      <th>18</th>\n      <td>Sacramento Kings</td>\n      <td>L</td>\n      <td>-1</td>\n    </tr>\n    <tr>\n      <th>19</th>\n      <td>Minnesota Timberwolves</td>\n      <td>L</td>\n      <td>-13</td>\n    </tr>\n    <tr>\n      <th>20</th>\n      <td>LA Clippers</td>\n      <td>W</td>\n      <td>12</td>\n    </tr>\n    <tr>\n      <th>21</th>\n      <td>New Orleans Pelicans</td>\n      <td>W</td>\n      <td>1</td>\n    </tr>\n    <tr>\n      <th>22</th>\n      <td>Milwaukee Bucks</td>\n      <td>L</td>\n      <td>-8</td>\n    </tr>\n    <tr>\n      <th>23</th>\n      <td>Philadelphia 76ers</td>\n      <td>L</td>\n      <td>-7</td>\n    </tr>\n    <tr>\n      <th>24</th>\n      <td>Minnesota Timberwolves</td>\n      <td>L</td>\n      <td>-30</td>\n    </tr>\n    <tr>\n      <th>25</th>\n      <td>Orlando Magic</td>\n      <td>L</td>\n      <td>-11</td>\n    </tr>\n    <tr>\n      <th>26</th>\n      <td>Charlotte Hornets</td>\n      <td>W</td>\n      <td>14</td>\n    </tr>\n    <tr>\n      <th>27</th>\n      <td>Miami Heat</td>\n      <td>W</td>\n      <td>4</td>\n    </tr>\n    <tr>\n      <th>28</th>\n      <td>Cleveland Cavaliers</td>\n      <td>W</td>\n      <td>6</td>\n    </tr>\n    <tr>\n      <th>29</th>\n      <td>Memphis Grizzlies</td>\n      <td>L</td>\n      <td>-18</td>\n    </tr>\n    <tr>\n      <th>30</th>\n      <td>Houston Rockets</td>\n      <td>W</td>\n      <td>21</td>\n    </tr>\n    <tr>\n      <th>31</th>\n      <td>San Antonio Spurs</td>\n      <td>L</td>\n      <td>-8</td>\n    </tr>\n  </tbody>\n</table>\n</div>"
     },
     "execution_count": 213,
     "metadata": {},
     "output_type": "execute_result"
    }
   ],
   "source": [
    "pd.read_sql_query(\"SELECT team_name_home AS opponent, wl_away AS result, plus_minus_away AS plus_minus_score FROM game WHERE season_id = '22022' AND team_name_away = 'Denver Nuggets';\", connection)"
   ]
  },
  {
   "cell_type": "markdown",
   "id": "fc0a68790ada2f37",
   "metadata": {},
   "source": [
    "Now the same thing with Milwaukee Bucks."
   ]
  },
  {
   "cell_type": "code",
   "execution_count": 214,
   "id": "c343afcde5ed99da",
   "metadata": {
    "ExecuteTime": {
     "end_time": "2023-12-17T11:30:09.732158Z",
     "start_time": "2023-12-17T11:30:07.186280Z"
    }
   },
   "outputs": [
    {
     "data": {
      "text/plain": "                  opponent result  plus_minus_score\n0          Houston Rockets      W                20\n1            Brooklyn Nets      W                11\n2          New York Knicks      W                11\n3            Atlanta Hawks      W                 8\n4          Detroit Pistons      W                 2\n5          Detroit Pistons      W                25\n6    Oklahoma City Thunder      W                14\n7            Atlanta Hawks      L               -15\n8      Cleveland Cavaliers      W                15\n9   Portland Trail Blazers      W                 8\n10           Chicago Bulls      L                -5\n11     Cleveland Cavaliers      W                15\n12        Dallas Mavericks      W                 9\n13      Los Angeles Lakers      L                -4\n14        Sacramento Kings      W                13\n15   Golden State Warriors      W                17\n16               Utah Jazz      W                26\n17  Minnesota Timberwolves      W                 9\n18      Washington Wizards      L               -23\n19      Washington Wizards      W                10\n20       Charlotte Hornets      L               -29\n21          Indiana Pacers      W                13\n22         Toronto Raptors      W                 8\n23          Denver Nuggets      W                 8\n24    New Orleans Pelicans      W                25\n25       Charlotte Hornets      W                 9\n26             LA Clippers      W                 1\n27              Miami Heat      W                 8\n28          Boston Celtics      W                 6\n29              Miami Heat      W                29\n30            Phoenix Suns      W                 3\n31           Orlando Magic      W                22\n32      Philadelphia 76ers      L                -3\n33           Brooklyn Nets      W                 5",
      "text/html": "<div>\n<style scoped>\n    .dataframe tbody tr th:only-of-type {\n        vertical-align: middle;\n    }\n\n    .dataframe tbody tr th {\n        vertical-align: top;\n    }\n\n    .dataframe thead th {\n        text-align: right;\n    }\n</style>\n<table border=\"1\" class=\"dataframe\">\n  <thead>\n    <tr style=\"text-align: right;\">\n      <th></th>\n      <th>opponent</th>\n      <th>result</th>\n      <th>plus_minus_score</th>\n    </tr>\n  </thead>\n  <tbody>\n    <tr>\n      <th>0</th>\n      <td>Houston Rockets</td>\n      <td>W</td>\n      <td>20</td>\n    </tr>\n    <tr>\n      <th>1</th>\n      <td>Brooklyn Nets</td>\n      <td>W</td>\n      <td>11</td>\n    </tr>\n    <tr>\n      <th>2</th>\n      <td>New York Knicks</td>\n      <td>W</td>\n      <td>11</td>\n    </tr>\n    <tr>\n      <th>3</th>\n      <td>Atlanta Hawks</td>\n      <td>W</td>\n      <td>8</td>\n    </tr>\n    <tr>\n      <th>4</th>\n      <td>Detroit Pistons</td>\n      <td>W</td>\n      <td>2</td>\n    </tr>\n    <tr>\n      <th>5</th>\n      <td>Detroit Pistons</td>\n      <td>W</td>\n      <td>25</td>\n    </tr>\n    <tr>\n      <th>6</th>\n      <td>Oklahoma City Thunder</td>\n      <td>W</td>\n      <td>14</td>\n    </tr>\n    <tr>\n      <th>7</th>\n      <td>Atlanta Hawks</td>\n      <td>L</td>\n      <td>-15</td>\n    </tr>\n    <tr>\n      <th>8</th>\n      <td>Cleveland Cavaliers</td>\n      <td>W</td>\n      <td>15</td>\n    </tr>\n    <tr>\n      <th>9</th>\n      <td>Portland Trail Blazers</td>\n      <td>W</td>\n      <td>8</td>\n    </tr>\n    <tr>\n      <th>10</th>\n      <td>Chicago Bulls</td>\n      <td>L</td>\n      <td>-5</td>\n    </tr>\n    <tr>\n      <th>11</th>\n      <td>Cleveland Cavaliers</td>\n      <td>W</td>\n      <td>15</td>\n    </tr>\n    <tr>\n      <th>12</th>\n      <td>Dallas Mavericks</td>\n      <td>W</td>\n      <td>9</td>\n    </tr>\n    <tr>\n      <th>13</th>\n      <td>Los Angeles Lakers</td>\n      <td>L</td>\n      <td>-4</td>\n    </tr>\n    <tr>\n      <th>14</th>\n      <td>Sacramento Kings</td>\n      <td>W</td>\n      <td>13</td>\n    </tr>\n    <tr>\n      <th>15</th>\n      <td>Golden State Warriors</td>\n      <td>W</td>\n      <td>17</td>\n    </tr>\n    <tr>\n      <th>16</th>\n      <td>Utah Jazz</td>\n      <td>W</td>\n      <td>26</td>\n    </tr>\n    <tr>\n      <th>17</th>\n      <td>Minnesota Timberwolves</td>\n      <td>W</td>\n      <td>9</td>\n    </tr>\n    <tr>\n      <th>18</th>\n      <td>Washington Wizards</td>\n      <td>L</td>\n      <td>-23</td>\n    </tr>\n    <tr>\n      <th>19</th>\n      <td>Washington Wizards</td>\n      <td>W</td>\n      <td>10</td>\n    </tr>\n    <tr>\n      <th>20</th>\n      <td>Charlotte Hornets</td>\n      <td>L</td>\n      <td>-29</td>\n    </tr>\n    <tr>\n      <th>21</th>\n      <td>Indiana Pacers</td>\n      <td>W</td>\n      <td>13</td>\n    </tr>\n    <tr>\n      <th>22</th>\n      <td>Toronto Raptors</td>\n      <td>W</td>\n      <td>8</td>\n    </tr>\n    <tr>\n      <th>23</th>\n      <td>Denver Nuggets</td>\n      <td>W</td>\n      <td>8</td>\n    </tr>\n    <tr>\n      <th>24</th>\n      <td>New Orleans Pelicans</td>\n      <td>W</td>\n      <td>25</td>\n    </tr>\n    <tr>\n      <th>25</th>\n      <td>Charlotte Hornets</td>\n      <td>W</td>\n      <td>9</td>\n    </tr>\n    <tr>\n      <th>26</th>\n      <td>LA Clippers</td>\n      <td>W</td>\n      <td>1</td>\n    </tr>\n    <tr>\n      <th>27</th>\n      <td>Miami Heat</td>\n      <td>W</td>\n      <td>8</td>\n    </tr>\n    <tr>\n      <th>28</th>\n      <td>Boston Celtics</td>\n      <td>W</td>\n      <td>6</td>\n    </tr>\n    <tr>\n      <th>29</th>\n      <td>Miami Heat</td>\n      <td>W</td>\n      <td>29</td>\n    </tr>\n    <tr>\n      <th>30</th>\n      <td>Phoenix Suns</td>\n      <td>W</td>\n      <td>3</td>\n    </tr>\n    <tr>\n      <th>31</th>\n      <td>Orlando Magic</td>\n      <td>W</td>\n      <td>22</td>\n    </tr>\n    <tr>\n      <th>32</th>\n      <td>Philadelphia 76ers</td>\n      <td>L</td>\n      <td>-3</td>\n    </tr>\n    <tr>\n      <th>33</th>\n      <td>Brooklyn Nets</td>\n      <td>W</td>\n      <td>5</td>\n    </tr>\n  </tbody>\n</table>\n</div>"
     },
     "execution_count": 214,
     "metadata": {},
     "output_type": "execute_result"
    }
   ],
   "source": [
    "pd.read_sql_query(\"SELECT team_name_away AS opponent, wl_home AS result, plus_minus_home AS plus_minus_score FROM game WHERE season_id = '22022' AND team_name_home = 'Milwaukee Bucks';\", connection)"
   ]
  },
  {
   "cell_type": "code",
   "execution_count": 215,
   "id": "690d5c4cd33246c0",
   "metadata": {
    "ExecuteTime": {
     "end_time": "2023-12-17T11:30:09.780423Z",
     "start_time": "2023-12-17T11:30:07.203263Z"
    }
   },
   "outputs": [
    {
     "data": {
      "text/plain": "                  opponent result  plus_minus_score\n0       Philadelphia 76ers      W                 2\n1   Minnesota Timberwolves      W                13\n2            Atlanta Hawks      L               -19\n3    Oklahoma City Thunder      W                 4\n4        San Antonio Spurs      L               -18\n5       Philadelphia 76ers      L                -8\n6          New York Knicks      W                 6\n7        Charlotte Hornets      W                 9\n8            Orlando Magic      W                 7\n9         Dallas Mavericks      W                 1\n10         Houston Rockets      L                -5\n11       Memphis Grizzlies      L               -41\n12    New Orleans Pelicans      W                 9\n13     Cleveland Cavaliers      L                -8\n14           Brooklyn Nets      L               -18\n15          Boston Celtics      L               -21\n16           Chicago Bulls      L                -6\n17         Toronto Raptors      W                 3\n18         New York Knicks      W                 4\n19           Atlanta Hawks      W                 9\n20              Miami Heat      L                -6\n21              Miami Heat      L               -16\n22     Cleveland Cavaliers      L               -12\n23         Detroit Pistons      W                20\n24          Indiana Pacers      W                10\n25  Portland Trail Blazers      W                19\n26      Los Angeles Lakers      W                 9\n27             LA Clippers      W                13\n28           Chicago Bulls      W                12\n29           Brooklyn Nets      W                14\n30      Washington Wizards   None                 5\n31           Orlando Magic      W                11\n32   Golden State Warriors      L                -9",
      "text/html": "<div>\n<style scoped>\n    .dataframe tbody tr th:only-of-type {\n        vertical-align: middle;\n    }\n\n    .dataframe tbody tr th {\n        vertical-align: top;\n    }\n\n    .dataframe thead th {\n        text-align: right;\n    }\n</style>\n<table border=\"1\" class=\"dataframe\">\n  <thead>\n    <tr style=\"text-align: right;\">\n      <th></th>\n      <th>opponent</th>\n      <th>result</th>\n      <th>plus_minus_score</th>\n    </tr>\n  </thead>\n  <tbody>\n    <tr>\n      <th>0</th>\n      <td>Philadelphia 76ers</td>\n      <td>W</td>\n      <td>2</td>\n    </tr>\n    <tr>\n      <th>1</th>\n      <td>Minnesota Timberwolves</td>\n      <td>W</td>\n      <td>13</td>\n    </tr>\n    <tr>\n      <th>2</th>\n      <td>Atlanta Hawks</td>\n      <td>L</td>\n      <td>-19</td>\n    </tr>\n    <tr>\n      <th>3</th>\n      <td>Oklahoma City Thunder</td>\n      <td>W</td>\n      <td>4</td>\n    </tr>\n    <tr>\n      <th>4</th>\n      <td>San Antonio Spurs</td>\n      <td>L</td>\n      <td>-18</td>\n    </tr>\n    <tr>\n      <th>5</th>\n      <td>Philadelphia 76ers</td>\n      <td>L</td>\n      <td>-8</td>\n    </tr>\n    <tr>\n      <th>6</th>\n      <td>New York Knicks</td>\n      <td>W</td>\n      <td>6</td>\n    </tr>\n    <tr>\n      <th>7</th>\n      <td>Charlotte Hornets</td>\n      <td>W</td>\n      <td>9</td>\n    </tr>\n    <tr>\n      <th>8</th>\n      <td>Orlando Magic</td>\n      <td>W</td>\n      <td>7</td>\n    </tr>\n    <tr>\n      <th>9</th>\n      <td>Dallas Mavericks</td>\n      <td>W</td>\n      <td>1</td>\n    </tr>\n    <tr>\n      <th>10</th>\n      <td>Houston Rockets</td>\n      <td>L</td>\n      <td>-5</td>\n    </tr>\n    <tr>\n      <th>11</th>\n      <td>Memphis Grizzlies</td>\n      <td>L</td>\n      <td>-41</td>\n    </tr>\n    <tr>\n      <th>12</th>\n      <td>New Orleans Pelicans</td>\n      <td>W</td>\n      <td>9</td>\n    </tr>\n    <tr>\n      <th>13</th>\n      <td>Cleveland Cavaliers</td>\n      <td>L</td>\n      <td>-8</td>\n    </tr>\n    <tr>\n      <th>14</th>\n      <td>Brooklyn Nets</td>\n      <td>L</td>\n      <td>-18</td>\n    </tr>\n    <tr>\n      <th>15</th>\n      <td>Boston Celtics</td>\n      <td>L</td>\n      <td>-21</td>\n    </tr>\n    <tr>\n      <th>16</th>\n      <td>Chicago Bulls</td>\n      <td>L</td>\n      <td>-6</td>\n    </tr>\n    <tr>\n      <th>17</th>\n      <td>Toronto Raptors</td>\n      <td>W</td>\n      <td>3</td>\n    </tr>\n    <tr>\n      <th>18</th>\n      <td>New York Knicks</td>\n      <td>W</td>\n      <td>4</td>\n    </tr>\n    <tr>\n      <th>19</th>\n      <td>Atlanta Hawks</td>\n      <td>W</td>\n      <td>9</td>\n    </tr>\n    <tr>\n      <th>20</th>\n      <td>Miami Heat</td>\n      <td>L</td>\n      <td>-6</td>\n    </tr>\n    <tr>\n      <th>21</th>\n      <td>Miami Heat</td>\n      <td>L</td>\n      <td>-16</td>\n    </tr>\n    <tr>\n      <th>22</th>\n      <td>Cleveland Cavaliers</td>\n      <td>L</td>\n      <td>-12</td>\n    </tr>\n    <tr>\n      <th>23</th>\n      <td>Detroit Pistons</td>\n      <td>W</td>\n      <td>20</td>\n    </tr>\n    <tr>\n      <th>24</th>\n      <td>Indiana Pacers</td>\n      <td>W</td>\n      <td>10</td>\n    </tr>\n    <tr>\n      <th>25</th>\n      <td>Portland Trail Blazers</td>\n      <td>W</td>\n      <td>19</td>\n    </tr>\n    <tr>\n      <th>26</th>\n      <td>Los Angeles Lakers</td>\n      <td>W</td>\n      <td>9</td>\n    </tr>\n    <tr>\n      <th>27</th>\n      <td>LA Clippers</td>\n      <td>W</td>\n      <td>13</td>\n    </tr>\n    <tr>\n      <th>28</th>\n      <td>Chicago Bulls</td>\n      <td>W</td>\n      <td>12</td>\n    </tr>\n    <tr>\n      <th>29</th>\n      <td>Brooklyn Nets</td>\n      <td>W</td>\n      <td>14</td>\n    </tr>\n    <tr>\n      <th>30</th>\n      <td>Washington Wizards</td>\n      <td>None</td>\n      <td>5</td>\n    </tr>\n    <tr>\n      <th>31</th>\n      <td>Orlando Magic</td>\n      <td>W</td>\n      <td>11</td>\n    </tr>\n    <tr>\n      <th>32</th>\n      <td>Golden State Warriors</td>\n      <td>L</td>\n      <td>-9</td>\n    </tr>\n  </tbody>\n</table>\n</div>"
     },
     "execution_count": 215,
     "metadata": {},
     "output_type": "execute_result"
    }
   ],
   "source": [
    "pd.read_sql_query(\"SELECT team_name_home AS opponent, wl_away AS result , plus_minus_away AS plus_minus_score FROM game WHERE season_id = '22022' AND team_name_away = 'Milwaukee Bucks';\", connection)"
   ]
  },
  {
   "cell_type": "markdown",
   "id": "fc6fa51a091eb8af",
   "metadata": {},
   "source": [
    "## Fans attendance"
   ]
  },
  {
   "cell_type": "markdown",
   "id": "b9defbcdb6fc38fd",
   "metadata": {},
   "source": [
    "Let's now investigate fans attendance at each home game for both teams. We will compare them with average attendance in whole season and rank particular matches with respect to this using some analytic functions. Start with Denver Nuggets."
   ]
  },
  {
   "cell_type": "code",
   "execution_count": 216,
   "id": "a6c63d9470ed511d",
   "metadata": {
    "ExecuteTime": {
     "end_time": "2023-12-17T11:30:09.987057Z",
     "start_time": "2023-12-17T11:30:07.220577Z"
    }
   },
   "outputs": [
    {
     "data": {
      "text/plain": "    attendance  average_attendance  attendance_rank\n0        19983        19161.194444                1\n1        19896        19161.194444                2\n2        19739        19161.194444                3\n3        19689        19161.194444                4\n4        19642        19161.194444                5\n5        19641        19161.194444                6\n6        19641        19161.194444                6\n7        19641        19161.194444                6\n8        19641        19161.194444                6\n9        19638        19161.194444               10\n10       19638        19161.194444               10\n11       19636        19161.194444               12\n12       19635        19161.194444               13\n13       19630        19161.194444               14\n14       19627        19161.194444               15\n15       19619        19161.194444               16\n16       19609        19161.194444               17\n17       19609        19161.194444               17\n18       19605        19161.194444               19\n19       19560        19161.194444               20\n20       19557        19161.194444               21\n21       19555        19161.194444               22\n22       19550        19161.194444               23\n23       19520        19161.194444               24\n24       19520        19161.194444               24\n25       19520        19161.194444               24\n26       19235        19161.194444               27\n27       19087        19161.194444               28\n28       18872        19161.194444               29\n29       18868        19161.194444               30\n30       18307        19161.194444               31\n31       18258        19161.194444               32\n32       18210        19161.194444               33\n33       16286        19161.194444               34\n34       16112        19161.194444               35\n35       16027        19161.194444               36",
      "text/html": "<div>\n<style scoped>\n    .dataframe tbody tr th:only-of-type {\n        vertical-align: middle;\n    }\n\n    .dataframe tbody tr th {\n        vertical-align: top;\n    }\n\n    .dataframe thead th {\n        text-align: right;\n    }\n</style>\n<table border=\"1\" class=\"dataframe\">\n  <thead>\n    <tr style=\"text-align: right;\">\n      <th></th>\n      <th>attendance</th>\n      <th>average_attendance</th>\n      <th>attendance_rank</th>\n    </tr>\n  </thead>\n  <tbody>\n    <tr>\n      <th>0</th>\n      <td>19983</td>\n      <td>19161.194444</td>\n      <td>1</td>\n    </tr>\n    <tr>\n      <th>1</th>\n      <td>19896</td>\n      <td>19161.194444</td>\n      <td>2</td>\n    </tr>\n    <tr>\n      <th>2</th>\n      <td>19739</td>\n      <td>19161.194444</td>\n      <td>3</td>\n    </tr>\n    <tr>\n      <th>3</th>\n      <td>19689</td>\n      <td>19161.194444</td>\n      <td>4</td>\n    </tr>\n    <tr>\n      <th>4</th>\n      <td>19642</td>\n      <td>19161.194444</td>\n      <td>5</td>\n    </tr>\n    <tr>\n      <th>5</th>\n      <td>19641</td>\n      <td>19161.194444</td>\n      <td>6</td>\n    </tr>\n    <tr>\n      <th>6</th>\n      <td>19641</td>\n      <td>19161.194444</td>\n      <td>6</td>\n    </tr>\n    <tr>\n      <th>7</th>\n      <td>19641</td>\n      <td>19161.194444</td>\n      <td>6</td>\n    </tr>\n    <tr>\n      <th>8</th>\n      <td>19641</td>\n      <td>19161.194444</td>\n      <td>6</td>\n    </tr>\n    <tr>\n      <th>9</th>\n      <td>19638</td>\n      <td>19161.194444</td>\n      <td>10</td>\n    </tr>\n    <tr>\n      <th>10</th>\n      <td>19638</td>\n      <td>19161.194444</td>\n      <td>10</td>\n    </tr>\n    <tr>\n      <th>11</th>\n      <td>19636</td>\n      <td>19161.194444</td>\n      <td>12</td>\n    </tr>\n    <tr>\n      <th>12</th>\n      <td>19635</td>\n      <td>19161.194444</td>\n      <td>13</td>\n    </tr>\n    <tr>\n      <th>13</th>\n      <td>19630</td>\n      <td>19161.194444</td>\n      <td>14</td>\n    </tr>\n    <tr>\n      <th>14</th>\n      <td>19627</td>\n      <td>19161.194444</td>\n      <td>15</td>\n    </tr>\n    <tr>\n      <th>15</th>\n      <td>19619</td>\n      <td>19161.194444</td>\n      <td>16</td>\n    </tr>\n    <tr>\n      <th>16</th>\n      <td>19609</td>\n      <td>19161.194444</td>\n      <td>17</td>\n    </tr>\n    <tr>\n      <th>17</th>\n      <td>19609</td>\n      <td>19161.194444</td>\n      <td>17</td>\n    </tr>\n    <tr>\n      <th>18</th>\n      <td>19605</td>\n      <td>19161.194444</td>\n      <td>19</td>\n    </tr>\n    <tr>\n      <th>19</th>\n      <td>19560</td>\n      <td>19161.194444</td>\n      <td>20</td>\n    </tr>\n    <tr>\n      <th>20</th>\n      <td>19557</td>\n      <td>19161.194444</td>\n      <td>21</td>\n    </tr>\n    <tr>\n      <th>21</th>\n      <td>19555</td>\n      <td>19161.194444</td>\n      <td>22</td>\n    </tr>\n    <tr>\n      <th>22</th>\n      <td>19550</td>\n      <td>19161.194444</td>\n      <td>23</td>\n    </tr>\n    <tr>\n      <th>23</th>\n      <td>19520</td>\n      <td>19161.194444</td>\n      <td>24</td>\n    </tr>\n    <tr>\n      <th>24</th>\n      <td>19520</td>\n      <td>19161.194444</td>\n      <td>24</td>\n    </tr>\n    <tr>\n      <th>25</th>\n      <td>19520</td>\n      <td>19161.194444</td>\n      <td>24</td>\n    </tr>\n    <tr>\n      <th>26</th>\n      <td>19235</td>\n      <td>19161.194444</td>\n      <td>27</td>\n    </tr>\n    <tr>\n      <th>27</th>\n      <td>19087</td>\n      <td>19161.194444</td>\n      <td>28</td>\n    </tr>\n    <tr>\n      <th>28</th>\n      <td>18872</td>\n      <td>19161.194444</td>\n      <td>29</td>\n    </tr>\n    <tr>\n      <th>29</th>\n      <td>18868</td>\n      <td>19161.194444</td>\n      <td>30</td>\n    </tr>\n    <tr>\n      <th>30</th>\n      <td>18307</td>\n      <td>19161.194444</td>\n      <td>31</td>\n    </tr>\n    <tr>\n      <th>31</th>\n      <td>18258</td>\n      <td>19161.194444</td>\n      <td>32</td>\n    </tr>\n    <tr>\n      <th>32</th>\n      <td>18210</td>\n      <td>19161.194444</td>\n      <td>33</td>\n    </tr>\n    <tr>\n      <th>33</th>\n      <td>16286</td>\n      <td>19161.194444</td>\n      <td>34</td>\n    </tr>\n    <tr>\n      <th>34</th>\n      <td>16112</td>\n      <td>19161.194444</td>\n      <td>35</td>\n    </tr>\n    <tr>\n      <th>35</th>\n      <td>16027</td>\n      <td>19161.194444</td>\n      <td>36</td>\n    </tr>\n  </tbody>\n</table>\n</div>"
     },
     "execution_count": 216,
     "metadata": {},
     "output_type": "execute_result"
    }
   ],
   "source": [
    "pd.read_sql_query(\"SELECT game_info.attendance, AVG(game_info.attendance) OVER () average_attendance, rank() over (order by game_info.attendance DESC) attendance_rank FROM game JOIN game_info ON game.game_id = game_info.game_id WHERE game.season_id = '22022' AND game.team_name_home = 'Denver Nuggets';\", connection)"
   ]
  },
  {
   "cell_type": "markdown",
   "id": "bd37e2e325cede38",
   "metadata": {},
   "source": [
    "Milwaukee Bucks"
   ]
  },
  {
   "cell_type": "code",
   "execution_count": 217,
   "id": "b94e2f2589a131f1",
   "metadata": {
    "ExecuteTime": {
     "end_time": "2023-12-17T11:30:10.082489Z",
     "start_time": "2023-12-17T11:30:07.292105Z"
    }
   },
   "outputs": [
    {
     "data": {
      "text/plain": "    attendance  average_attendance  attendance_rank\n0        18100        17492.636364                1\n1        18018        17492.636364                2\n2        18008        17492.636364                3\n3        17938        17492.636364                4\n4        17713        17492.636364                5\n5        17676        17492.636364                6\n6        17636        17492.636364                7\n7        17628        17492.636364                8\n8        17627        17492.636364                9\n9        17623        17492.636364               10\n10       17587        17492.636364               11\n11       17447        17492.636364               12\n12       17412        17492.636364               13\n13       17354        17492.636364               14\n14       17352        17492.636364               15\n15       17341        17492.636364               16\n16       17341        17492.636364               16\n17       17341        17492.636364               16\n18       17341        17492.636364               16\n19       17341        17492.636364               16\n20       17341        17492.636364               16\n21       17341        17492.636364               16\n22       17341        17492.636364               16\n23       17341        17492.636364               16\n24       17341        17492.636364               16\n25       17341        17492.636364               16\n26       17341        17492.636364               16\n27       17341        17492.636364               16\n28       17341        17492.636364               16\n29       17341        17492.636364               16\n30       17341        17492.636364               16\n31       17341        17492.636364               16\n32       17341        17492.636364               16",
      "text/html": "<div>\n<style scoped>\n    .dataframe tbody tr th:only-of-type {\n        vertical-align: middle;\n    }\n\n    .dataframe tbody tr th {\n        vertical-align: top;\n    }\n\n    .dataframe thead th {\n        text-align: right;\n    }\n</style>\n<table border=\"1\" class=\"dataframe\">\n  <thead>\n    <tr style=\"text-align: right;\">\n      <th></th>\n      <th>attendance</th>\n      <th>average_attendance</th>\n      <th>attendance_rank</th>\n    </tr>\n  </thead>\n  <tbody>\n    <tr>\n      <th>0</th>\n      <td>18100</td>\n      <td>17492.636364</td>\n      <td>1</td>\n    </tr>\n    <tr>\n      <th>1</th>\n      <td>18018</td>\n      <td>17492.636364</td>\n      <td>2</td>\n    </tr>\n    <tr>\n      <th>2</th>\n      <td>18008</td>\n      <td>17492.636364</td>\n      <td>3</td>\n    </tr>\n    <tr>\n      <th>3</th>\n      <td>17938</td>\n      <td>17492.636364</td>\n      <td>4</td>\n    </tr>\n    <tr>\n      <th>4</th>\n      <td>17713</td>\n      <td>17492.636364</td>\n      <td>5</td>\n    </tr>\n    <tr>\n      <th>5</th>\n      <td>17676</td>\n      <td>17492.636364</td>\n      <td>6</td>\n    </tr>\n    <tr>\n      <th>6</th>\n      <td>17636</td>\n      <td>17492.636364</td>\n      <td>7</td>\n    </tr>\n    <tr>\n      <th>7</th>\n      <td>17628</td>\n      <td>17492.636364</td>\n      <td>8</td>\n    </tr>\n    <tr>\n      <th>8</th>\n      <td>17627</td>\n      <td>17492.636364</td>\n      <td>9</td>\n    </tr>\n    <tr>\n      <th>9</th>\n      <td>17623</td>\n      <td>17492.636364</td>\n      <td>10</td>\n    </tr>\n    <tr>\n      <th>10</th>\n      <td>17587</td>\n      <td>17492.636364</td>\n      <td>11</td>\n    </tr>\n    <tr>\n      <th>11</th>\n      <td>17447</td>\n      <td>17492.636364</td>\n      <td>12</td>\n    </tr>\n    <tr>\n      <th>12</th>\n      <td>17412</td>\n      <td>17492.636364</td>\n      <td>13</td>\n    </tr>\n    <tr>\n      <th>13</th>\n      <td>17354</td>\n      <td>17492.636364</td>\n      <td>14</td>\n    </tr>\n    <tr>\n      <th>14</th>\n      <td>17352</td>\n      <td>17492.636364</td>\n      <td>15</td>\n    </tr>\n    <tr>\n      <th>15</th>\n      <td>17341</td>\n      <td>17492.636364</td>\n      <td>16</td>\n    </tr>\n    <tr>\n      <th>16</th>\n      <td>17341</td>\n      <td>17492.636364</td>\n      <td>16</td>\n    </tr>\n    <tr>\n      <th>17</th>\n      <td>17341</td>\n      <td>17492.636364</td>\n      <td>16</td>\n    </tr>\n    <tr>\n      <th>18</th>\n      <td>17341</td>\n      <td>17492.636364</td>\n      <td>16</td>\n    </tr>\n    <tr>\n      <th>19</th>\n      <td>17341</td>\n      <td>17492.636364</td>\n      <td>16</td>\n    </tr>\n    <tr>\n      <th>20</th>\n      <td>17341</td>\n      <td>17492.636364</td>\n      <td>16</td>\n    </tr>\n    <tr>\n      <th>21</th>\n      <td>17341</td>\n      <td>17492.636364</td>\n      <td>16</td>\n    </tr>\n    <tr>\n      <th>22</th>\n      <td>17341</td>\n      <td>17492.636364</td>\n      <td>16</td>\n    </tr>\n    <tr>\n      <th>23</th>\n      <td>17341</td>\n      <td>17492.636364</td>\n      <td>16</td>\n    </tr>\n    <tr>\n      <th>24</th>\n      <td>17341</td>\n      <td>17492.636364</td>\n      <td>16</td>\n    </tr>\n    <tr>\n      <th>25</th>\n      <td>17341</td>\n      <td>17492.636364</td>\n      <td>16</td>\n    </tr>\n    <tr>\n      <th>26</th>\n      <td>17341</td>\n      <td>17492.636364</td>\n      <td>16</td>\n    </tr>\n    <tr>\n      <th>27</th>\n      <td>17341</td>\n      <td>17492.636364</td>\n      <td>16</td>\n    </tr>\n    <tr>\n      <th>28</th>\n      <td>17341</td>\n      <td>17492.636364</td>\n      <td>16</td>\n    </tr>\n    <tr>\n      <th>29</th>\n      <td>17341</td>\n      <td>17492.636364</td>\n      <td>16</td>\n    </tr>\n    <tr>\n      <th>30</th>\n      <td>17341</td>\n      <td>17492.636364</td>\n      <td>16</td>\n    </tr>\n    <tr>\n      <th>31</th>\n      <td>17341</td>\n      <td>17492.636364</td>\n      <td>16</td>\n    </tr>\n    <tr>\n      <th>32</th>\n      <td>17341</td>\n      <td>17492.636364</td>\n      <td>16</td>\n    </tr>\n  </tbody>\n</table>\n</div>"
     },
     "execution_count": 217,
     "metadata": {},
     "output_type": "execute_result"
    }
   ],
   "source": [
    "pd.read_sql_query(\"SELECT game_info.attendance, AVG(game_info.attendance) OVER () average_attendance, rank() over (order by game_info.attendance DESC) attendance_rank FROM game JOIN game_info ON game.game_id = game_info.game_id WHERE game.season_id = '22022' AND game.team_name_home = 'Milwaukee Bucks';\", connection)"
   ]
  },
  {
   "cell_type": "markdown",
   "id": "eb7dda26c187c0aa",
   "metadata": {},
   "source": [
    "Arenas are almost full during both team matches."
   ]
  },
  {
   "cell_type": "markdown",
   "id": "bb08ae154e8dcdc0",
   "metadata": {},
   "source": [
    "## How does game time impact on game result?"
   ]
  },
  {
   "cell_type": "markdown",
   "id": "be93966596cab43b",
   "metadata": {},
   "source": [
    "Does the time impact on result of match for our 2 teams? Let's see the results."
   ]
  },
  {
   "cell_type": "markdown",
   "source": [
    "First we need to convert time in format HH:MM into minutes to compare the results."
   ],
   "metadata": {
    "collapsed": false
   },
   "id": "317bfe1afce31191"
  },
  {
   "cell_type": "markdown",
   "id": "68ebc35afd686978",
   "metadata": {},
   "source": [
    "Denver at home"
   ]
  },
  {
   "cell_type": "code",
   "execution_count": 218,
   "id": "3ffced9d63648191",
   "metadata": {
    "ExecuteTime": {
     "end_time": "2023-12-17T11:30:10.286765Z",
     "start_time": "2023-12-17T11:30:07.367328Z"
    }
   },
   "outputs": [
    {
     "data": {
      "text/plain": "  result  average_game_time\n0      L             137.33\n1      W             137.07",
      "text/html": "<div>\n<style scoped>\n    .dataframe tbody tr th:only-of-type {\n        vertical-align: middle;\n    }\n\n    .dataframe tbody tr th {\n        vertical-align: top;\n    }\n\n    .dataframe thead th {\n        text-align: right;\n    }\n</style>\n<table border=\"1\" class=\"dataframe\">\n  <thead>\n    <tr style=\"text-align: right;\">\n      <th></th>\n      <th>result</th>\n      <th>average_game_time</th>\n    </tr>\n  </thead>\n  <tbody>\n    <tr>\n      <th>0</th>\n      <td>L</td>\n      <td>137.33</td>\n    </tr>\n    <tr>\n      <th>1</th>\n      <td>W</td>\n      <td>137.07</td>\n    </tr>\n  </tbody>\n</table>\n</div>"
     },
     "execution_count": 218,
     "metadata": {},
     "output_type": "execute_result"
    }
   ],
   "source": [
    "pd.read_sql_query(\"SELECT game.wl_home AS result, ROUND(AVG(CAST(SUBSTRING(game_info.game_time, 1, INSTR(game_info.game_time, ':') - 1) AS INT) * 60 + CAST(SUBSTRING(game_info.game_time, INSTR(game_info.game_time,':') + 1, LENGTH(game_info.game_time)) AS INT)),2) AS average_game_time FROM game JOIN game_info ON game.game_id = game_info.game_id WHERE game.season_id = '22022' AND game.team_name_home = 'Denver Nuggets' GROUP BY game.wl_home;\", connection)"
   ]
  },
  {
   "cell_type": "markdown",
   "id": "373d06d54351ccb6",
   "metadata": {},
   "source": [
    "Denver away"
   ]
  },
  {
   "cell_type": "code",
   "execution_count": 219,
   "id": "63c3a2f7d9dd7d11",
   "metadata": {
    "ExecuteTime": {
     "end_time": "2023-12-17T11:30:10.451077Z",
     "start_time": "2023-12-17T11:30:07.439382Z"
    }
   },
   "outputs": [
    {
     "data": {
      "text/plain": "  result  average_game_time\n0      L             131.19\n1      W             132.69",
      "text/html": "<div>\n<style scoped>\n    .dataframe tbody tr th:only-of-type {\n        vertical-align: middle;\n    }\n\n    .dataframe tbody tr th {\n        vertical-align: top;\n    }\n\n    .dataframe thead th {\n        text-align: right;\n    }\n</style>\n<table border=\"1\" class=\"dataframe\">\n  <thead>\n    <tr style=\"text-align: right;\">\n      <th></th>\n      <th>result</th>\n      <th>average_game_time</th>\n    </tr>\n  </thead>\n  <tbody>\n    <tr>\n      <th>0</th>\n      <td>L</td>\n      <td>131.19</td>\n    </tr>\n    <tr>\n      <th>1</th>\n      <td>W</td>\n      <td>132.69</td>\n    </tr>\n  </tbody>\n</table>\n</div>"
     },
     "execution_count": 219,
     "metadata": {},
     "output_type": "execute_result"
    }
   ],
   "source": [
    "pd.read_sql_query(\"SELECT game.wl_away AS result, ROUND(AVG(CAST(SUBSTRING(game_info.game_time, 1, INSTR(game_info.game_time, ':') - 1) AS INT) * 60 + CAST(SUBSTRING(game_info.game_time, INSTR(game_info.game_time,':') + 1, LENGTH(game_info.game_time)) AS INT)),2) AS average_game_time FROM game JOIN game_info ON game.game_id = game_info.game_id WHERE game.season_id = '22022' AND game.team_name_away = 'Denver Nuggets' GROUP BY game.wl_away;\", connection)"
   ]
  },
  {
   "cell_type": "markdown",
   "id": "38c0318d79ffccb7",
   "metadata": {},
   "source": [
    "Milwaukee home"
   ]
  },
  {
   "cell_type": "code",
   "execution_count": 220,
   "id": "37c014d05f799922",
   "metadata": {
    "ExecuteTime": {
     "end_time": "2023-12-17T11:30:10.635119Z",
     "start_time": "2023-12-17T11:30:07.507251Z"
    }
   },
   "outputs": [
    {
     "data": {
      "text/plain": "  result  average_game_time\n0      L             137.33\n1      W             135.74",
      "text/html": "<div>\n<style scoped>\n    .dataframe tbody tr th:only-of-type {\n        vertical-align: middle;\n    }\n\n    .dataframe tbody tr th {\n        vertical-align: top;\n    }\n\n    .dataframe thead th {\n        text-align: right;\n    }\n</style>\n<table border=\"1\" class=\"dataframe\">\n  <thead>\n    <tr style=\"text-align: right;\">\n      <th></th>\n      <th>result</th>\n      <th>average_game_time</th>\n    </tr>\n  </thead>\n  <tbody>\n    <tr>\n      <th>0</th>\n      <td>L</td>\n      <td>137.33</td>\n    </tr>\n    <tr>\n      <th>1</th>\n      <td>W</td>\n      <td>135.74</td>\n    </tr>\n  </tbody>\n</table>\n</div>"
     },
     "execution_count": 220,
     "metadata": {},
     "output_type": "execute_result"
    }
   ],
   "source": [
    "pd.read_sql_query(\"SELECT game.wl_home AS result, ROUND(AVG(CAST(SUBSTRING(game_info.game_time, 1, INSTR(game_info.game_time, ':') - 1) AS INT) * 60 + CAST(SUBSTRING(game_info.game_time, INSTR(game_info.game_time,':') + 1, LENGTH(game_info.game_time)) AS INT)),2) AS average_game_time FROM game JOIN game_info ON game.game_id = game_info.game_id WHERE game.season_id = '22022' AND game.team_name_home = 'Milwaukee Bucks' GROUP BY game.wl_home;\", connection)"
   ]
  },
  {
   "cell_type": "markdown",
   "id": "579e57b4074264bd",
   "metadata": {},
   "source": [
    "Milwaukee away"
   ]
  },
  {
   "cell_type": "code",
   "execution_count": 221,
   "id": "1fc6910c30f63df",
   "metadata": {
    "ExecuteTime": {
     "end_time": "2023-12-17T11:30:10.651275Z",
     "start_time": "2023-12-17T11:30:07.584864Z"
    }
   },
   "outputs": [
    {
     "data": {
      "text/plain": "  result  average_game_time\n0      W             140.44\n1      L             136.31",
      "text/html": "<div>\n<style scoped>\n    .dataframe tbody tr th:only-of-type {\n        vertical-align: middle;\n    }\n\n    .dataframe tbody tr th {\n        vertical-align: top;\n    }\n\n    .dataframe thead th {\n        text-align: right;\n    }\n</style>\n<table border=\"1\" class=\"dataframe\">\n  <thead>\n    <tr style=\"text-align: right;\">\n      <th></th>\n      <th>result</th>\n      <th>average_game_time</th>\n    </tr>\n  </thead>\n  <tbody>\n    <tr>\n      <th>0</th>\n      <td>W</td>\n      <td>140.44</td>\n    </tr>\n    <tr>\n      <th>1</th>\n      <td>L</td>\n      <td>136.31</td>\n    </tr>\n  </tbody>\n</table>\n</div>"
     },
     "execution_count": 221,
     "metadata": {},
     "output_type": "execute_result"
    }
   ],
   "source": [
    "pd.read_sql_query(\"SELECT game.wl_away AS result, ROUND(AVG(CAST(SUBSTRING(game_info.game_time, 1, INSTR(game_info.game_time, ':') - 1) AS INT) * 60 + CAST(SUBSTRING(game_info.game_time, INSTR(game_info.game_time,':') + 1, LENGTH(game_info.game_time)) AS INT)),2) AS average_game_time FROM game JOIN game_info ON game.game_id = game_info.game_id WHERE game.season_id = '22022' AND game.team_name_away = 'Milwaukee Bucks' AND game.wl_away IS NOT NULL GROUP BY game.wl_home;\", connection)"
   ]
  },
  {
   "cell_type": "markdown",
   "id": "1c5417147af915cd",
   "metadata": {},
   "source": [
    "Difference in results are bigger in Milwaukee Bucks. The longer they play at home the bigger is chance they will lose. On the other hand when they play longer away they are more likely to win."
   ]
  },
  {
   "cell_type": "markdown",
   "id": "5c6f8c39721395ec",
   "metadata": {},
   "source": [
    "## Lastest season teams' squad"
   ]
  },
  {
   "cell_type": "markdown",
   "id": "843a947a13bcf97e",
   "metadata": {},
   "source": [
    "Let's see players from 2022/23 season in both teams. We will calculate their age based on birthdate and mark them as veteran if they have at least 7 seasons played."
   ]
  },
  {
   "cell_type": "markdown",
   "id": "4ac73cc146c38ec8",
   "metadata": {},
   "source": [
    "Denver Nuggets"
   ]
  },
  {
   "cell_type": "code",
   "execution_count": 222,
   "id": "eb263398cf8f47cf",
   "metadata": {
    "ExecuteTime": {
     "end_time": "2023-12-17T11:30:10.652220Z",
     "start_time": "2023-12-17T11:30:07.732253Z"
    }
   },
   "outputs": [
    {
     "data": {
      "text/plain": "           player  age          school    country height weight veteranStatus  \\\n0     Bruce Brown   27           Miami        USA    6-4    202            No   \n1  Reggie Jackson   33  Boston College        USA    6-2    208           Yes   \n2      Zeke Nnaji   22         Arizona        USA    6-9    240            No   \n3       Ish Smith   35     Wake Forest        USA    6-0    175           Yes   \n4   Peyton Watson   21            UCLA        USA    6-7    200            No   \n5      Jack White   26            Duke  Australia    6-7    225            No   \n\n  jersey        position  \n0     11   Guard-Forward  \n1      1           Guard  \n2     22  Forward-Center  \n3     14           Guard  \n4      8           Guard  \n5     10         Forward  ",
      "text/html": "<div>\n<style scoped>\n    .dataframe tbody tr th:only-of-type {\n        vertical-align: middle;\n    }\n\n    .dataframe tbody tr th {\n        vertical-align: top;\n    }\n\n    .dataframe thead th {\n        text-align: right;\n    }\n</style>\n<table border=\"1\" class=\"dataframe\">\n  <thead>\n    <tr style=\"text-align: right;\">\n      <th></th>\n      <th>player</th>\n      <th>age</th>\n      <th>school</th>\n      <th>country</th>\n      <th>height</th>\n      <th>weight</th>\n      <th>veteranStatus</th>\n      <th>jersey</th>\n      <th>position</th>\n    </tr>\n  </thead>\n  <tbody>\n    <tr>\n      <th>0</th>\n      <td>Bruce Brown</td>\n      <td>27</td>\n      <td>Miami</td>\n      <td>USA</td>\n      <td>6-4</td>\n      <td>202</td>\n      <td>No</td>\n      <td>11</td>\n      <td>Guard-Forward</td>\n    </tr>\n    <tr>\n      <th>1</th>\n      <td>Reggie Jackson</td>\n      <td>33</td>\n      <td>Boston College</td>\n      <td>USA</td>\n      <td>6-2</td>\n      <td>208</td>\n      <td>Yes</td>\n      <td>1</td>\n      <td>Guard</td>\n    </tr>\n    <tr>\n      <th>2</th>\n      <td>Zeke Nnaji</td>\n      <td>22</td>\n      <td>Arizona</td>\n      <td>USA</td>\n      <td>6-9</td>\n      <td>240</td>\n      <td>No</td>\n      <td>22</td>\n      <td>Forward-Center</td>\n    </tr>\n    <tr>\n      <th>3</th>\n      <td>Ish Smith</td>\n      <td>35</td>\n      <td>Wake Forest</td>\n      <td>USA</td>\n      <td>6-0</td>\n      <td>175</td>\n      <td>Yes</td>\n      <td>14</td>\n      <td>Guard</td>\n    </tr>\n    <tr>\n      <th>4</th>\n      <td>Peyton Watson</td>\n      <td>21</td>\n      <td>UCLA</td>\n      <td>USA</td>\n      <td>6-7</td>\n      <td>200</td>\n      <td>No</td>\n      <td>8</td>\n      <td>Guard</td>\n    </tr>\n    <tr>\n      <th>5</th>\n      <td>Jack White</td>\n      <td>26</td>\n      <td>Duke</td>\n      <td>Australia</td>\n      <td>6-7</td>\n      <td>225</td>\n      <td>No</td>\n      <td>10</td>\n      <td>Forward</td>\n    </tr>\n  </tbody>\n</table>\n</div>"
     },
     "execution_count": 222,
     "metadata": {},
     "output_type": "execute_result"
    }
   ],
   "source": [
    "pd.read_sql_query(\"SELECT display_first_last AS player, CAST((julianday('now') - julianday(birthdate))/365 AS INTEGER) AS age, school, country, height, weight, CASE WHEN season_exp > 6 THEN 'Yes' ELSE 'No' END AS veteranStatus, jersey, position FROM common_player_info WHERE team_code = 'nuggets' AND to_year = '2022' AND games_played_current_season_flag = 'Y';\", connection)"
   ]
  },
  {
   "cell_type": "markdown",
   "id": "c0a64deefb0f260f",
   "metadata": {},
   "source": [
    "Milwaukee Bucks"
   ]
  },
  {
   "cell_type": "code",
   "execution_count": 223,
   "id": "a1b2c5403241829",
   "metadata": {
    "ExecuteTime": {
     "end_time": "2023-12-17T11:30:10.653210Z",
     "start_time": "2023-12-17T11:30:07.762016Z"
    }
   },
   "outputs": [
    {
     "data": {
      "text/plain": "            player  age     school country height weight veteranStatus jersey  \\\n0    Grayson Allen   28       Duke     USA    6-4    198            No     12   \n1      Brook Lopez   35   Stanford     USA    7-1    282           Yes     11   \n2  Wesley Matthews   37  Marquette     USA    6-5    220           Yes     23   \n3  Khris Middleton   32  Texas A&M     USA    6-7    222           Yes     22   \n\n  position  \n0    Guard  \n1   Center  \n2    Guard  \n3  Forward  ",
      "text/html": "<div>\n<style scoped>\n    .dataframe tbody tr th:only-of-type {\n        vertical-align: middle;\n    }\n\n    .dataframe tbody tr th {\n        vertical-align: top;\n    }\n\n    .dataframe thead th {\n        text-align: right;\n    }\n</style>\n<table border=\"1\" class=\"dataframe\">\n  <thead>\n    <tr style=\"text-align: right;\">\n      <th></th>\n      <th>player</th>\n      <th>age</th>\n      <th>school</th>\n      <th>country</th>\n      <th>height</th>\n      <th>weight</th>\n      <th>veteranStatus</th>\n      <th>jersey</th>\n      <th>position</th>\n    </tr>\n  </thead>\n  <tbody>\n    <tr>\n      <th>0</th>\n      <td>Grayson Allen</td>\n      <td>28</td>\n      <td>Duke</td>\n      <td>USA</td>\n      <td>6-4</td>\n      <td>198</td>\n      <td>No</td>\n      <td>12</td>\n      <td>Guard</td>\n    </tr>\n    <tr>\n      <th>1</th>\n      <td>Brook Lopez</td>\n      <td>35</td>\n      <td>Stanford</td>\n      <td>USA</td>\n      <td>7-1</td>\n      <td>282</td>\n      <td>Yes</td>\n      <td>11</td>\n      <td>Center</td>\n    </tr>\n    <tr>\n      <th>2</th>\n      <td>Wesley Matthews</td>\n      <td>37</td>\n      <td>Marquette</td>\n      <td>USA</td>\n      <td>6-5</td>\n      <td>220</td>\n      <td>Yes</td>\n      <td>23</td>\n      <td>Guard</td>\n    </tr>\n    <tr>\n      <th>3</th>\n      <td>Khris Middleton</td>\n      <td>32</td>\n      <td>Texas A&amp;M</td>\n      <td>USA</td>\n      <td>6-7</td>\n      <td>222</td>\n      <td>Yes</td>\n      <td>22</td>\n      <td>Forward</td>\n    </tr>\n  </tbody>\n</table>\n</div>"
     },
     "execution_count": 223,
     "metadata": {},
     "output_type": "execute_result"
    }
   ],
   "source": [
    "pd.read_sql_query(\"SELECT display_first_last AS player, CAST((julianday('now') - julianday(birthdate))/365 AS INTEGER) AS age, school, country, height, weight, CASE WHEN season_exp > 6 THEN 'Yes' ELSE 'No' END AS veteranStatus, jersey, position FROM common_player_info WHERE team_code = 'bucks' AND to_year = '2022' AND games_played_current_season_flag = 'Y';\", connection)"
   ]
  },
  {
   "cell_type": "markdown",
   "id": "ca3dd25eb41a8567",
   "metadata": {},
   "source": [
    "## Draft picks"
   ]
  },
  {
   "cell_type": "markdown",
   "id": "bfc91d5262625369",
   "metadata": {},
   "source": [
    "We are now interested about both teams draft picks from last 5 years. Let's discover players they picked."
   ]
  },
  {
   "cell_type": "markdown",
   "id": "f9c62c785143f498",
   "metadata": {},
   "source": [
    "Denver Nuggets"
   ]
  },
  {
   "cell_type": "code",
   "execution_count": 224,
   "id": "63c9fc3969b055c0",
   "metadata": {
    "ExecuteTime": {
     "end_time": "2023-12-17T11:30:10.687985Z",
     "start_time": "2023-12-17T11:30:07.790949Z"
    }
   },
   "outputs": [
    {
     "data": {
      "text/plain": "               player season  round_number  round_pick  overall_pick  \\\n0  Michael Porter Jr.   2018             1          14            14   \n1      Justin Jackson   2018             2          13            43   \n2        Thomas Welsh   2018             2          28            58   \n3          Zeke Nnaji   2020             1          22            22   \n4        Bones Hyland   2021             1          26            26   \n5     Christian Braun   2022             1          21            21   \n\n  draft_type            organization   organization_type  \n0      Draft                Missouri  College/University  \n1      Draft                Maryland  College/University  \n2      Draft  California-Los Angeles  College/University  \n3      Draft                 Arizona  College/University  \n4      Draft   Virginia Commonwealth  College/University  \n5      Draft                  Kansas  College/University  ",
      "text/html": "<div>\n<style scoped>\n    .dataframe tbody tr th:only-of-type {\n        vertical-align: middle;\n    }\n\n    .dataframe tbody tr th {\n        vertical-align: top;\n    }\n\n    .dataframe thead th {\n        text-align: right;\n    }\n</style>\n<table border=\"1\" class=\"dataframe\">\n  <thead>\n    <tr style=\"text-align: right;\">\n      <th></th>\n      <th>player</th>\n      <th>season</th>\n      <th>round_number</th>\n      <th>round_pick</th>\n      <th>overall_pick</th>\n      <th>draft_type</th>\n      <th>organization</th>\n      <th>organization_type</th>\n    </tr>\n  </thead>\n  <tbody>\n    <tr>\n      <th>0</th>\n      <td>Michael Porter Jr.</td>\n      <td>2018</td>\n      <td>1</td>\n      <td>14</td>\n      <td>14</td>\n      <td>Draft</td>\n      <td>Missouri</td>\n      <td>College/University</td>\n    </tr>\n    <tr>\n      <th>1</th>\n      <td>Justin Jackson</td>\n      <td>2018</td>\n      <td>2</td>\n      <td>13</td>\n      <td>43</td>\n      <td>Draft</td>\n      <td>Maryland</td>\n      <td>College/University</td>\n    </tr>\n    <tr>\n      <th>2</th>\n      <td>Thomas Welsh</td>\n      <td>2018</td>\n      <td>2</td>\n      <td>28</td>\n      <td>58</td>\n      <td>Draft</td>\n      <td>California-Los Angeles</td>\n      <td>College/University</td>\n    </tr>\n    <tr>\n      <th>3</th>\n      <td>Zeke Nnaji</td>\n      <td>2020</td>\n      <td>1</td>\n      <td>22</td>\n      <td>22</td>\n      <td>Draft</td>\n      <td>Arizona</td>\n      <td>College/University</td>\n    </tr>\n    <tr>\n      <th>4</th>\n      <td>Bones Hyland</td>\n      <td>2021</td>\n      <td>1</td>\n      <td>26</td>\n      <td>26</td>\n      <td>Draft</td>\n      <td>Virginia Commonwealth</td>\n      <td>College/University</td>\n    </tr>\n    <tr>\n      <th>5</th>\n      <td>Christian Braun</td>\n      <td>2022</td>\n      <td>1</td>\n      <td>21</td>\n      <td>21</td>\n      <td>Draft</td>\n      <td>Kansas</td>\n      <td>College/University</td>\n    </tr>\n  </tbody>\n</table>\n</div>"
     },
     "execution_count": 224,
     "metadata": {},
     "output_type": "execute_result"
    }
   ],
   "source": [
    "pd.read_sql_query(\"SELECT player_name AS player, season, round_number, round_pick, overall_pick, draft_type, organization, organization_type FROM draft_history WHERE season BETWEEN '2018' AND '2022' AND team_name = 'Nuggets';\", connection)"
   ]
  },
  {
   "cell_type": "markdown",
   "id": "cc6870cf54293879",
   "metadata": {},
   "source": [
    "Milwaukee Bucks"
   ]
  },
  {
   "cell_type": "code",
   "execution_count": 225,
   "id": "411a4bb277d7ab23",
   "metadata": {
    "ExecuteTime": {
     "end_time": "2023-12-17T11:30:10.740241Z",
     "start_time": "2023-12-17T11:30:07.818685Z"
    }
   },
   "outputs": [
    {
     "data": {
      "text/plain": "             player season  round_number  round_pick  overall_pick draft_type  \\\n0  Donte DiVincenzo   2018             1          17            17      Draft   \n1     Chimezie Metu   2018             2          19            49      Draft   \n2  Kevin Porter Jr.   2019             1          30            30      Draft   \n3      R.J. Hampton   2020             1          24            24      Draft   \n4      Jordan Nwora   2020             2          15            45      Draft   \n5       Isaiah Todd   2021             2           1            31      Draft   \n6  MarJon Beauchamp   2022             1          24            24      Draft   \n\n             organization   organization_type  \n0               Villanova  College/University  \n1     Southern California  College/University  \n2     Southern California  College/University  \n3  Breakers (New Zealand)     Other Team/Club  \n4              Louisville  College/University  \n5       Ignite (G League)     Other Team/Club  \n6       Ignite (G League)     Other Team/Club  ",
      "text/html": "<div>\n<style scoped>\n    .dataframe tbody tr th:only-of-type {\n        vertical-align: middle;\n    }\n\n    .dataframe tbody tr th {\n        vertical-align: top;\n    }\n\n    .dataframe thead th {\n        text-align: right;\n    }\n</style>\n<table border=\"1\" class=\"dataframe\">\n  <thead>\n    <tr style=\"text-align: right;\">\n      <th></th>\n      <th>player</th>\n      <th>season</th>\n      <th>round_number</th>\n      <th>round_pick</th>\n      <th>overall_pick</th>\n      <th>draft_type</th>\n      <th>organization</th>\n      <th>organization_type</th>\n    </tr>\n  </thead>\n  <tbody>\n    <tr>\n      <th>0</th>\n      <td>Donte DiVincenzo</td>\n      <td>2018</td>\n      <td>1</td>\n      <td>17</td>\n      <td>17</td>\n      <td>Draft</td>\n      <td>Villanova</td>\n      <td>College/University</td>\n    </tr>\n    <tr>\n      <th>1</th>\n      <td>Chimezie Metu</td>\n      <td>2018</td>\n      <td>2</td>\n      <td>19</td>\n      <td>49</td>\n      <td>Draft</td>\n      <td>Southern California</td>\n      <td>College/University</td>\n    </tr>\n    <tr>\n      <th>2</th>\n      <td>Kevin Porter Jr.</td>\n      <td>2019</td>\n      <td>1</td>\n      <td>30</td>\n      <td>30</td>\n      <td>Draft</td>\n      <td>Southern California</td>\n      <td>College/University</td>\n    </tr>\n    <tr>\n      <th>3</th>\n      <td>R.J. Hampton</td>\n      <td>2020</td>\n      <td>1</td>\n      <td>24</td>\n      <td>24</td>\n      <td>Draft</td>\n      <td>Breakers (New Zealand)</td>\n      <td>Other Team/Club</td>\n    </tr>\n    <tr>\n      <th>4</th>\n      <td>Jordan Nwora</td>\n      <td>2020</td>\n      <td>2</td>\n      <td>15</td>\n      <td>45</td>\n      <td>Draft</td>\n      <td>Louisville</td>\n      <td>College/University</td>\n    </tr>\n    <tr>\n      <th>5</th>\n      <td>Isaiah Todd</td>\n      <td>2021</td>\n      <td>2</td>\n      <td>1</td>\n      <td>31</td>\n      <td>Draft</td>\n      <td>Ignite (G League)</td>\n      <td>Other Team/Club</td>\n    </tr>\n    <tr>\n      <th>6</th>\n      <td>MarJon Beauchamp</td>\n      <td>2022</td>\n      <td>1</td>\n      <td>24</td>\n      <td>24</td>\n      <td>Draft</td>\n      <td>Ignite (G League)</td>\n      <td>Other Team/Club</td>\n    </tr>\n  </tbody>\n</table>\n</div>"
     },
     "execution_count": 225,
     "metadata": {},
     "output_type": "execute_result"
    }
   ],
   "source": [
    "pd.read_sql_query(\"SELECT player_name AS player, season, round_number, round_pick, overall_pick, draft_type, organization, organization_type FROM draft_history WHERE season BETWEEN '2018' AND '2022' AND team_name = 'Bucks';\", connection)"
   ]
  },
  {
   "cell_type": "markdown",
   "id": "95e06bbb1a5c30a9",
   "metadata": {},
   "source": [
    "Nuggets have choosen players only from collage or university. Bucks obtained also players from other teams."
   ]
  },
  {
   "cell_type": "markdown",
   "id": "2481c289e053d8ae",
   "metadata": {},
   "source": [
    "## More details about drafted players"
   ]
  },
  {
   "cell_type": "markdown",
   "id": "8718b938fb09f244",
   "metadata": {},
   "source": [
    "Let's get more details about those players. Unfortunately draft_combine_stats is not coherent with draft history table so we have some different results here."
   ]
  },
  {
   "cell_type": "markdown",
   "id": "3b8ff0f12fe96f09",
   "metadata": {},
   "source": [
    "We created a column height_quartile to assign each player height to adequate quartile."
   ]
  },
  {
   "cell_type": "markdown",
   "id": "24bf36ca44c2534",
   "metadata": {},
   "source": [
    "Denver Nuggets"
   ]
  },
  {
   "cell_type": "code",
   "execution_count": 226,
   "id": "6975dcdcc41fe4bf",
   "metadata": {
    "ExecuteTime": {
     "end_time": "2023-12-17T11:30:10.741629Z",
     "start_time": "2023-12-17T11:30:07.837516Z"
    }
   },
   "outputs": [
    {
     "data": {
      "text/plain": "                 player position  height_without_shoes  height_quartile  \\\n0       Nah'Shon Hyland       SG                 74.00                1   \n1       Christian Braun       SG                 77.50                1   \n2  Justin Jackson (UMD)       SF                 77.75                2   \n3        Justin Jackson       PF                 78.00                2   \n4            Zeke Nnaji     PF-C                 81.25                3   \n5        Michael Porter    SF-PF                 81.50                3   \n6          Thomas Welsh     PF-C                 83.50                4   \n\n   height_with_shoes  weight  wingspan  standing_reach body_fat_pct  \\\n0              75.50  169.00     81.25           101.5          5.8   \n1              79.00  209.20     78.50            99.5          6.2   \n2              79.00   219.4     87.25           107.0          7.1   \n3              78.75   229.4     87.00           105.0          8.9   \n4              82.50   246.8     86.00           105.5          5.9   \n5              82.75     211     84.25           108.5          6.4   \n6              84.50     254     84.00           109.5         10.9   \n\n  hand_length hand_width  standing_vertical_leap  max_vertical_leap  \\\n0        8.75        9.0                    26.5               34.0   \n1         8.0        8.5                    33.5               40.0   \n2         9.0        9.5                    26.5               31.5   \n3         9.0        9.5                     NaN                NaN   \n4         9.0       10.5                    33.0               38.0   \n5        8.75       9.25                     NaN                NaN   \n6         9.0       10.5                     NaN                NaN   \n\n   lane_agility_time  three_quarter_sprint  bench_press  \n0              10.53                  3.10          NaN  \n1              11.00                  3.16          NaN  \n2              11.78                  3.43          NaN  \n3                NaN                   NaN          NaN  \n4              10.94                  3.20          NaN  \n5                NaN                   NaN          NaN  \n6                NaN                   NaN         11.0  ",
      "text/html": "<div>\n<style scoped>\n    .dataframe tbody tr th:only-of-type {\n        vertical-align: middle;\n    }\n\n    .dataframe tbody tr th {\n        vertical-align: top;\n    }\n\n    .dataframe thead th {\n        text-align: right;\n    }\n</style>\n<table border=\"1\" class=\"dataframe\">\n  <thead>\n    <tr style=\"text-align: right;\">\n      <th></th>\n      <th>player</th>\n      <th>position</th>\n      <th>height_without_shoes</th>\n      <th>height_quartile</th>\n      <th>height_with_shoes</th>\n      <th>weight</th>\n      <th>wingspan</th>\n      <th>standing_reach</th>\n      <th>body_fat_pct</th>\n      <th>hand_length</th>\n      <th>hand_width</th>\n      <th>standing_vertical_leap</th>\n      <th>max_vertical_leap</th>\n      <th>lane_agility_time</th>\n      <th>three_quarter_sprint</th>\n      <th>bench_press</th>\n    </tr>\n  </thead>\n  <tbody>\n    <tr>\n      <th>0</th>\n      <td>Nah'Shon Hyland</td>\n      <td>SG</td>\n      <td>74.00</td>\n      <td>1</td>\n      <td>75.50</td>\n      <td>169.00</td>\n      <td>81.25</td>\n      <td>101.5</td>\n      <td>5.8</td>\n      <td>8.75</td>\n      <td>9.0</td>\n      <td>26.5</td>\n      <td>34.0</td>\n      <td>10.53</td>\n      <td>3.10</td>\n      <td>NaN</td>\n    </tr>\n    <tr>\n      <th>1</th>\n      <td>Christian Braun</td>\n      <td>SG</td>\n      <td>77.50</td>\n      <td>1</td>\n      <td>79.00</td>\n      <td>209.20</td>\n      <td>78.50</td>\n      <td>99.5</td>\n      <td>6.2</td>\n      <td>8.0</td>\n      <td>8.5</td>\n      <td>33.5</td>\n      <td>40.0</td>\n      <td>11.00</td>\n      <td>3.16</td>\n      <td>NaN</td>\n    </tr>\n    <tr>\n      <th>2</th>\n      <td>Justin Jackson (UMD)</td>\n      <td>SF</td>\n      <td>77.75</td>\n      <td>2</td>\n      <td>79.00</td>\n      <td>219.4</td>\n      <td>87.25</td>\n      <td>107.0</td>\n      <td>7.1</td>\n      <td>9.0</td>\n      <td>9.5</td>\n      <td>26.5</td>\n      <td>31.5</td>\n      <td>11.78</td>\n      <td>3.43</td>\n      <td>NaN</td>\n    </tr>\n    <tr>\n      <th>3</th>\n      <td>Justin Jackson</td>\n      <td>PF</td>\n      <td>78.00</td>\n      <td>2</td>\n      <td>78.75</td>\n      <td>229.4</td>\n      <td>87.00</td>\n      <td>105.0</td>\n      <td>8.9</td>\n      <td>9.0</td>\n      <td>9.5</td>\n      <td>NaN</td>\n      <td>NaN</td>\n      <td>NaN</td>\n      <td>NaN</td>\n      <td>NaN</td>\n    </tr>\n    <tr>\n      <th>4</th>\n      <td>Zeke Nnaji</td>\n      <td>PF-C</td>\n      <td>81.25</td>\n      <td>3</td>\n      <td>82.50</td>\n      <td>246.8</td>\n      <td>86.00</td>\n      <td>105.5</td>\n      <td>5.9</td>\n      <td>9.0</td>\n      <td>10.5</td>\n      <td>33.0</td>\n      <td>38.0</td>\n      <td>10.94</td>\n      <td>3.20</td>\n      <td>NaN</td>\n    </tr>\n    <tr>\n      <th>5</th>\n      <td>Michael Porter</td>\n      <td>SF-PF</td>\n      <td>81.50</td>\n      <td>3</td>\n      <td>82.75</td>\n      <td>211</td>\n      <td>84.25</td>\n      <td>108.5</td>\n      <td>6.4</td>\n      <td>8.75</td>\n      <td>9.25</td>\n      <td>NaN</td>\n      <td>NaN</td>\n      <td>NaN</td>\n      <td>NaN</td>\n      <td>NaN</td>\n    </tr>\n    <tr>\n      <th>6</th>\n      <td>Thomas Welsh</td>\n      <td>PF-C</td>\n      <td>83.50</td>\n      <td>4</td>\n      <td>84.50</td>\n      <td>254</td>\n      <td>84.00</td>\n      <td>109.5</td>\n      <td>10.9</td>\n      <td>9.0</td>\n      <td>10.5</td>\n      <td>NaN</td>\n      <td>NaN</td>\n      <td>NaN</td>\n      <td>NaN</td>\n      <td>11.0</td>\n    </tr>\n  </tbody>\n</table>\n</div>"
     },
     "execution_count": 226,
     "metadata": {},
     "output_type": "execute_result"
    }
   ],
   "source": [
    "pd.read_sql_query(\"SELECT player_name AS player, position, height_wo_shoes AS height_without_shoes, NTILE(4) OVER (ORDER BY height_wo_shoes) AS height_quartile, height_w_shoes AS height_with_shoes, weight, wingspan, standing_reach, body_fat_pct,hand_length, hand_width, standing_vertical_leap, max_vertical_leap, lane_agility_time, three_quarter_sprint, bench_press FROM draft_combine_stats WHERE player_id IN (SELECT person_id FROM draft_history WHERE season BETWEEN '2018' AND '2022' AND team_name = 'Nuggets');\", connection)"
   ]
  },
  {
   "cell_type": "markdown",
   "id": "a0afa1cfd2de9d5",
   "metadata": {},
   "source": [
    "Milwaukee Bucks"
   ]
  },
  {
   "cell_type": "code",
   "execution_count": 227,
   "id": "ba551902623c6851",
   "metadata": {
    "ExecuteTime": {
     "end_time": "2023-12-17T11:30:10.744686Z",
     "start_time": "2023-12-17T11:30:07.857346Z"
    }
   },
   "outputs": [
    {
     "data": {
      "text/plain": "             player position  height_without_shoes  height_quartile  \\\n0  Donte DiVincenzo       SG                 75.50                1   \n1  Kevin Porter Jr.       SG                 76.00                1   \n2  MarJon Beauchamp       SG                 77.25                2   \n3      Jordan Nwora       PF                 77.75                2   \n4      Jordan Nwora    SF-PF                 77.75                3   \n5     Chimezie Metu     PF-C                 80.50                3   \n6       Isaiah Todd       PF                 80.75                4   \n\n   height_with_shoes  weight  wingspan  standing_reach body_fat_pct  \\\n0               76.5   200.6     78.00            97.5          5.0   \n1               77.5   212.6     81.00           103.0          5.1   \n2               78.5  196.60     84.75           106.0          5.3   \n3               79.5     220     82.50           103.0          7.8   \n4               79.0     223     82.25           104.0        11.68   \n5               81.5   219.6     84.50           108.0         5.05   \n6               82.0  219.00     85.25           107.5          6.2   \n\n  hand_length hand_width  standing_vertical_leap  max_vertical_leap  \\\n0        8.25        9.0                    34.5               42.0   \n1        8.75       8.75                    27.0               34.0   \n2         9.0        9.0                     NaN                NaN   \n3         8.5       9.25                     NaN                NaN   \n4         8.5       9.25                    29.0               35.0   \n5         9.0       9.25                    29.5               36.0   \n6         9.0       9.75                    28.5               35.5   \n\n   lane_agility_time  three_quarter_sprint  bench_press  \n0              10.72                  3.11         12.0  \n1              10.82                  3.14          2.0  \n2                NaN                   NaN          NaN  \n3                NaN                   NaN          NaN  \n4              11.29                  3.43          NaN  \n5              11.89                  3.33          5.0  \n6              11.38                  3.31          NaN  ",
      "text/html": "<div>\n<style scoped>\n    .dataframe tbody tr th:only-of-type {\n        vertical-align: middle;\n    }\n\n    .dataframe tbody tr th {\n        vertical-align: top;\n    }\n\n    .dataframe thead th {\n        text-align: right;\n    }\n</style>\n<table border=\"1\" class=\"dataframe\">\n  <thead>\n    <tr style=\"text-align: right;\">\n      <th></th>\n      <th>player</th>\n      <th>position</th>\n      <th>height_without_shoes</th>\n      <th>height_quartile</th>\n      <th>height_with_shoes</th>\n      <th>weight</th>\n      <th>wingspan</th>\n      <th>standing_reach</th>\n      <th>body_fat_pct</th>\n      <th>hand_length</th>\n      <th>hand_width</th>\n      <th>standing_vertical_leap</th>\n      <th>max_vertical_leap</th>\n      <th>lane_agility_time</th>\n      <th>three_quarter_sprint</th>\n      <th>bench_press</th>\n    </tr>\n  </thead>\n  <tbody>\n    <tr>\n      <th>0</th>\n      <td>Donte DiVincenzo</td>\n      <td>SG</td>\n      <td>75.50</td>\n      <td>1</td>\n      <td>76.5</td>\n      <td>200.6</td>\n      <td>78.00</td>\n      <td>97.5</td>\n      <td>5.0</td>\n      <td>8.25</td>\n      <td>9.0</td>\n      <td>34.5</td>\n      <td>42.0</td>\n      <td>10.72</td>\n      <td>3.11</td>\n      <td>12.0</td>\n    </tr>\n    <tr>\n      <th>1</th>\n      <td>Kevin Porter Jr.</td>\n      <td>SG</td>\n      <td>76.00</td>\n      <td>1</td>\n      <td>77.5</td>\n      <td>212.6</td>\n      <td>81.00</td>\n      <td>103.0</td>\n      <td>5.1</td>\n      <td>8.75</td>\n      <td>8.75</td>\n      <td>27.0</td>\n      <td>34.0</td>\n      <td>10.82</td>\n      <td>3.14</td>\n      <td>2.0</td>\n    </tr>\n    <tr>\n      <th>2</th>\n      <td>MarJon Beauchamp</td>\n      <td>SG</td>\n      <td>77.25</td>\n      <td>2</td>\n      <td>78.5</td>\n      <td>196.60</td>\n      <td>84.75</td>\n      <td>106.0</td>\n      <td>5.3</td>\n      <td>9.0</td>\n      <td>9.0</td>\n      <td>NaN</td>\n      <td>NaN</td>\n      <td>NaN</td>\n      <td>NaN</td>\n      <td>NaN</td>\n    </tr>\n    <tr>\n      <th>3</th>\n      <td>Jordan Nwora</td>\n      <td>PF</td>\n      <td>77.75</td>\n      <td>2</td>\n      <td>79.5</td>\n      <td>220</td>\n      <td>82.50</td>\n      <td>103.0</td>\n      <td>7.8</td>\n      <td>8.5</td>\n      <td>9.25</td>\n      <td>NaN</td>\n      <td>NaN</td>\n      <td>NaN</td>\n      <td>NaN</td>\n      <td>NaN</td>\n    </tr>\n    <tr>\n      <th>4</th>\n      <td>Jordan Nwora</td>\n      <td>SF-PF</td>\n      <td>77.75</td>\n      <td>3</td>\n      <td>79.0</td>\n      <td>223</td>\n      <td>82.25</td>\n      <td>104.0</td>\n      <td>11.68</td>\n      <td>8.5</td>\n      <td>9.25</td>\n      <td>29.0</td>\n      <td>35.0</td>\n      <td>11.29</td>\n      <td>3.43</td>\n      <td>NaN</td>\n    </tr>\n    <tr>\n      <th>5</th>\n      <td>Chimezie Metu</td>\n      <td>PF-C</td>\n      <td>80.50</td>\n      <td>3</td>\n      <td>81.5</td>\n      <td>219.6</td>\n      <td>84.50</td>\n      <td>108.0</td>\n      <td>5.05</td>\n      <td>9.0</td>\n      <td>9.25</td>\n      <td>29.5</td>\n      <td>36.0</td>\n      <td>11.89</td>\n      <td>3.33</td>\n      <td>5.0</td>\n    </tr>\n    <tr>\n      <th>6</th>\n      <td>Isaiah Todd</td>\n      <td>PF</td>\n      <td>80.75</td>\n      <td>4</td>\n      <td>82.0</td>\n      <td>219.00</td>\n      <td>85.25</td>\n      <td>107.5</td>\n      <td>6.2</td>\n      <td>9.0</td>\n      <td>9.75</td>\n      <td>28.5</td>\n      <td>35.5</td>\n      <td>11.38</td>\n      <td>3.31</td>\n      <td>NaN</td>\n    </tr>\n  </tbody>\n</table>\n</div>"
     },
     "execution_count": 227,
     "metadata": {},
     "output_type": "execute_result"
    }
   ],
   "source": [
    "pd.read_sql_query(\"SELECT player_name AS player, position, height_wo_shoes AS height_without_shoes, NTILE(4) OVER (ORDER BY height_wo_shoes) AS height_quartile, height_w_shoes AS height_with_shoes, weight, wingspan, standing_reach, body_fat_pct,hand_length, hand_width, standing_vertical_leap, max_vertical_leap, lane_agility_time, three_quarter_sprint, bench_press FROM draft_combine_stats WHERE player_id IN (SELECT person_id FROM draft_history WHERE season BETWEEN '2018' AND '2022' AND team_name = 'Bucks');\", connection)"
   ]
  },
  {
   "cell_type": "markdown",
   "id": "d5f19b575321ffd9",
   "metadata": {},
   "source": [
    "## Pick numbers"
   ]
  },
  {
   "cell_type": "markdown",
   "id": "548f4ddb3cdc6c75",
   "metadata": {},
   "source": [
    "How many high picks (overall player pick lower than 10) does both teams made in the history?"
   ]
  },
  {
   "cell_type": "markdown",
   "id": "8eccbc5de8819a16",
   "metadata": {},
   "source": [
    "Denver Nuggets"
   ]
  },
  {
   "cell_type": "code",
   "execution_count": 228,
   "id": "42c72f6ce996c783",
   "metadata": {
    "ExecuteTime": {
     "end_time": "2023-12-17T11:30:10.746657Z",
     "start_time": "2023-12-17T11:30:07.875295Z"
    }
   },
   "outputs": [
    {
     "data": {
      "text/plain": "   number_of_high_picks\n0                    13",
      "text/html": "<div>\n<style scoped>\n    .dataframe tbody tr th:only-of-type {\n        vertical-align: middle;\n    }\n\n    .dataframe tbody tr th {\n        vertical-align: top;\n    }\n\n    .dataframe thead th {\n        text-align: right;\n    }\n</style>\n<table border=\"1\" class=\"dataframe\">\n  <thead>\n    <tr style=\"text-align: right;\">\n      <th></th>\n      <th>number_of_high_picks</th>\n    </tr>\n  </thead>\n  <tbody>\n    <tr>\n      <th>0</th>\n      <td>13</td>\n    </tr>\n  </tbody>\n</table>\n</div>"
     },
     "execution_count": 228,
     "metadata": {},
     "output_type": "execute_result"
    }
   ],
   "source": [
    "pd.read_sql_query(\"SELECT COUNT(*) AS number_of_high_picks FROM draft_history WHERE overall_pick < 10 AND team_name = 'Nuggets';\", connection)"
   ]
  },
  {
   "cell_type": "markdown",
   "id": "ead08b7dd0204503",
   "metadata": {},
   "source": [
    "Milwaukee Bucks"
   ]
  },
  {
   "cell_type": "code",
   "execution_count": 229,
   "id": "8f29590170b53b54",
   "metadata": {
    "ExecuteTime": {
     "end_time": "2023-12-17T11:30:10.747205Z",
     "start_time": "2023-12-17T11:30:07.882226Z"
    }
   },
   "outputs": [
    {
     "data": {
      "text/plain": "   number_of_high_picks\n0                    16",
      "text/html": "<div>\n<style scoped>\n    .dataframe tbody tr th:only-of-type {\n        vertical-align: middle;\n    }\n\n    .dataframe tbody tr th {\n        vertical-align: top;\n    }\n\n    .dataframe thead th {\n        text-align: right;\n    }\n</style>\n<table border=\"1\" class=\"dataframe\">\n  <thead>\n    <tr style=\"text-align: right;\">\n      <th></th>\n      <th>number_of_high_picks</th>\n    </tr>\n  </thead>\n  <tbody>\n    <tr>\n      <th>0</th>\n      <td>16</td>\n    </tr>\n  </tbody>\n</table>\n</div>"
     },
     "execution_count": 229,
     "metadata": {},
     "output_type": "execute_result"
    }
   ],
   "source": [
    "pd.read_sql_query(\"SELECT COUNT(*) AS number_of_high_picks FROM draft_history WHERE overall_pick < 10 AND team_name = 'Bucks';\", connection)"
   ]
  },
  {
   "cell_type": "markdown",
   "id": "3f231b6b28aa1fe",
   "metadata": {},
   "source": [
    "## Highest player in the league history"
   ]
  },
  {
   "cell_type": "markdown",
   "id": "8173e17fb544adea",
   "metadata": {},
   "source": [
    "I think everyone is curious who was the tallest player in the NBA. The answer is below."
   ]
  },
  {
   "cell_type": "code",
   "execution_count": 230,
   "id": "619616a3d71f9739",
   "metadata": {
    "ExecuteTime": {
     "end_time": "2023-12-17T11:30:10.747718Z",
     "start_time": "2023-12-17T11:30:07.888887Z"
    }
   },
   "outputs": [
    {
     "data": {
      "text/plain": "             player                team  age      school  country height  \\\n0  Gheorghe Muresan  Washington Bullets   52  Pau Orthez  Romania    7-7   \n\n  weight veteranStatus jersey position  \n0    303           Yes     77   Center  ",
      "text/html": "<div>\n<style scoped>\n    .dataframe tbody tr th:only-of-type {\n        vertical-align: middle;\n    }\n\n    .dataframe tbody tr th {\n        vertical-align: top;\n    }\n\n    .dataframe thead th {\n        text-align: right;\n    }\n</style>\n<table border=\"1\" class=\"dataframe\">\n  <thead>\n    <tr style=\"text-align: right;\">\n      <th></th>\n      <th>player</th>\n      <th>team</th>\n      <th>age</th>\n      <th>school</th>\n      <th>country</th>\n      <th>height</th>\n      <th>weight</th>\n      <th>veteranStatus</th>\n      <th>jersey</th>\n      <th>position</th>\n    </tr>\n  </thead>\n  <tbody>\n    <tr>\n      <th>0</th>\n      <td>Gheorghe Muresan</td>\n      <td>Washington Bullets</td>\n      <td>52</td>\n      <td>Pau Orthez</td>\n      <td>Romania</td>\n      <td>7-7</td>\n      <td>303</td>\n      <td>Yes</td>\n      <td>77</td>\n      <td>Center</td>\n    </tr>\n  </tbody>\n</table>\n</div>"
     },
     "execution_count": 230,
     "metadata": {},
     "output_type": "execute_result"
    }
   ],
   "source": [
    "pd.read_sql_query(\"SELECT display_first_last AS player, team_city || ' ' || team_name AS team, CAST((julianday('now') - julianday(birthdate))/365 AS INTEGER) AS age, school, country, MAX(height) AS height, weight, CASE WHEN season_exp > 6 THEN 'Yes' ELSE 'No' END AS veteranStatus, jersey, position FROM common_player_info;\", connection)"
   ]
  },
  {
   "cell_type": "markdown",
   "id": "1a47a9f75f6f4348",
   "metadata": {},
   "source": [
    "That's almost 2,31 m !"
   ]
  },
  {
   "cell_type": "markdown",
   "id": "787c04cb8924c26",
   "metadata": {},
   "source": [
    "## National minorities in the NBA"
   ]
  },
  {
   "cell_type": "markdown",
   "id": "c32794b39e7a92e3",
   "metadata": {},
   "source": [
    "The fact that NBA is dominated by Americans is obvious. We are more interested in what nationalities are in the next places in terms of the number of players in the league. We will use a window function to present what percent of all players represent particular nationality."
   ]
  },
  {
   "cell_type": "code",
   "execution_count": 231,
   "id": "39cfb1b7e9fffd51",
   "metadata": {
    "ExecuteTime": {
     "end_time": "2023-12-17T11:30:10.748890Z",
     "start_time": "2023-12-17T11:30:07.899206Z"
    }
   },
   "outputs": [
    {
     "data": {
      "text/plain": "                     country  COUNT(DISTINCT(person_id))  \\\n0                        USA                        2221   \n1                     Canada                          26   \n2                     France                          22   \n3                     Serbia                          18   \n4                    Croatia                          12   \n5                  Australia                          10   \n6                    Germany                          10   \n7                  Argentina                           8   \n8                  Lithuania                           7   \n9                     Turkey                           7   \n10                    Greece                           6   \n11                    Latvia                           6   \n12                    Russia                           6   \n13                   Senegal                           6   \n14                     Spain                           6   \n15                     China                           5   \n16                     Italy                           5   \n17                   Nigeria                           5   \n18                  Slovenia                           5   \n19    Bosnia and Herzegovina                           4   \n20                    Brazil                           4   \n21               Puerto Rico                           4   \n22                   Ukraine                           4   \n23                   Bahamas                           3   \n24                   Georgia                           3   \n25                Montenegro                           3   \n26                  Cameroon                           2   \n27                       DRC                           2   \n28        Dominican Republic                           2   \n29                   Finland                           2   \n30                     Haiti                           2   \n31                     Japan                           2   \n32               Netherlands                           2   \n33               South Sudan                           2   \n34                    Sweden                           2   \n35       Antigua and Barbuda                           1   \n36                   Austria                           1   \n37                Cabo Verde                           1   \n38            Czech Republic                           1   \n39                   Denmark                           1   \n40                     Egypt                           1   \n41                     Gabon                           1   \n42                     Ghana                           1   \n43                      Iran                           1   \n44                    Israel                           1   \n45                   Jamaica                           1   \n46                 Macedonia                           1   \n47                      Mali                           1   \n48                    Mexico                           1   \n49               New Zealand                           1   \n50                    Panama                           1   \n51                  Portugal                           1   \n52                   Romania                           1   \n53               South Korea                           1   \n54  St. Vincent & Grenadines                           1   \n55                  Tanzania                           1   \n56            United Kingdom                           1   \n57                 Venezuela                           1   \n\n    percent_of_all_players  \n0                90.394790  \n1                 1.058201  \n2                 0.895401  \n3                 0.732601  \n4                 0.488400  \n5                 0.407000  \n6                 0.407000  \n7                 0.325600  \n8                 0.284900  \n9                 0.284900  \n10                0.244200  \n11                0.244200  \n12                0.244200  \n13                0.244200  \n14                0.244200  \n15                0.203500  \n16                0.203500  \n17                0.203500  \n18                0.203500  \n19                0.162800  \n20                0.162800  \n21                0.162800  \n22                0.162800  \n23                0.122100  \n24                0.122100  \n25                0.122100  \n26                0.081400  \n27                0.081400  \n28                0.081400  \n29                0.081400  \n30                0.081400  \n31                0.081400  \n32                0.081400  \n33                0.081400  \n34                0.081400  \n35                0.040700  \n36                0.040700  \n37                0.040700  \n38                0.040700  \n39                0.040700  \n40                0.040700  \n41                0.040700  \n42                0.040700  \n43                0.040700  \n44                0.040700  \n45                0.040700  \n46                0.040700  \n47                0.040700  \n48                0.040700  \n49                0.040700  \n50                0.040700  \n51                0.040700  \n52                0.040700  \n53                0.040700  \n54                0.040700  \n55                0.040700  \n56                0.040700  \n57                0.040700  ",
      "text/html": "<div>\n<style scoped>\n    .dataframe tbody tr th:only-of-type {\n        vertical-align: middle;\n    }\n\n    .dataframe tbody tr th {\n        vertical-align: top;\n    }\n\n    .dataframe thead th {\n        text-align: right;\n    }\n</style>\n<table border=\"1\" class=\"dataframe\">\n  <thead>\n    <tr style=\"text-align: right;\">\n      <th></th>\n      <th>country</th>\n      <th>COUNT(DISTINCT(person_id))</th>\n      <th>percent_of_all_players</th>\n    </tr>\n  </thead>\n  <tbody>\n    <tr>\n      <th>0</th>\n      <td>USA</td>\n      <td>2221</td>\n      <td>90.394790</td>\n    </tr>\n    <tr>\n      <th>1</th>\n      <td>Canada</td>\n      <td>26</td>\n      <td>1.058201</td>\n    </tr>\n    <tr>\n      <th>2</th>\n      <td>France</td>\n      <td>22</td>\n      <td>0.895401</td>\n    </tr>\n    <tr>\n      <th>3</th>\n      <td>Serbia</td>\n      <td>18</td>\n      <td>0.732601</td>\n    </tr>\n    <tr>\n      <th>4</th>\n      <td>Croatia</td>\n      <td>12</td>\n      <td>0.488400</td>\n    </tr>\n    <tr>\n      <th>5</th>\n      <td>Australia</td>\n      <td>10</td>\n      <td>0.407000</td>\n    </tr>\n    <tr>\n      <th>6</th>\n      <td>Germany</td>\n      <td>10</td>\n      <td>0.407000</td>\n    </tr>\n    <tr>\n      <th>7</th>\n      <td>Argentina</td>\n      <td>8</td>\n      <td>0.325600</td>\n    </tr>\n    <tr>\n      <th>8</th>\n      <td>Lithuania</td>\n      <td>7</td>\n      <td>0.284900</td>\n    </tr>\n    <tr>\n      <th>9</th>\n      <td>Turkey</td>\n      <td>7</td>\n      <td>0.284900</td>\n    </tr>\n    <tr>\n      <th>10</th>\n      <td>Greece</td>\n      <td>6</td>\n      <td>0.244200</td>\n    </tr>\n    <tr>\n      <th>11</th>\n      <td>Latvia</td>\n      <td>6</td>\n      <td>0.244200</td>\n    </tr>\n    <tr>\n      <th>12</th>\n      <td>Russia</td>\n      <td>6</td>\n      <td>0.244200</td>\n    </tr>\n    <tr>\n      <th>13</th>\n      <td>Senegal</td>\n      <td>6</td>\n      <td>0.244200</td>\n    </tr>\n    <tr>\n      <th>14</th>\n      <td>Spain</td>\n      <td>6</td>\n      <td>0.244200</td>\n    </tr>\n    <tr>\n      <th>15</th>\n      <td>China</td>\n      <td>5</td>\n      <td>0.203500</td>\n    </tr>\n    <tr>\n      <th>16</th>\n      <td>Italy</td>\n      <td>5</td>\n      <td>0.203500</td>\n    </tr>\n    <tr>\n      <th>17</th>\n      <td>Nigeria</td>\n      <td>5</td>\n      <td>0.203500</td>\n    </tr>\n    <tr>\n      <th>18</th>\n      <td>Slovenia</td>\n      <td>5</td>\n      <td>0.203500</td>\n    </tr>\n    <tr>\n      <th>19</th>\n      <td>Bosnia and Herzegovina</td>\n      <td>4</td>\n      <td>0.162800</td>\n    </tr>\n    <tr>\n      <th>20</th>\n      <td>Brazil</td>\n      <td>4</td>\n      <td>0.162800</td>\n    </tr>\n    <tr>\n      <th>21</th>\n      <td>Puerto Rico</td>\n      <td>4</td>\n      <td>0.162800</td>\n    </tr>\n    <tr>\n      <th>22</th>\n      <td>Ukraine</td>\n      <td>4</td>\n      <td>0.162800</td>\n    </tr>\n    <tr>\n      <th>23</th>\n      <td>Bahamas</td>\n      <td>3</td>\n      <td>0.122100</td>\n    </tr>\n    <tr>\n      <th>24</th>\n      <td>Georgia</td>\n      <td>3</td>\n      <td>0.122100</td>\n    </tr>\n    <tr>\n      <th>25</th>\n      <td>Montenegro</td>\n      <td>3</td>\n      <td>0.122100</td>\n    </tr>\n    <tr>\n      <th>26</th>\n      <td>Cameroon</td>\n      <td>2</td>\n      <td>0.081400</td>\n    </tr>\n    <tr>\n      <th>27</th>\n      <td>DRC</td>\n      <td>2</td>\n      <td>0.081400</td>\n    </tr>\n    <tr>\n      <th>28</th>\n      <td>Dominican Republic</td>\n      <td>2</td>\n      <td>0.081400</td>\n    </tr>\n    <tr>\n      <th>29</th>\n      <td>Finland</td>\n      <td>2</td>\n      <td>0.081400</td>\n    </tr>\n    <tr>\n      <th>30</th>\n      <td>Haiti</td>\n      <td>2</td>\n      <td>0.081400</td>\n    </tr>\n    <tr>\n      <th>31</th>\n      <td>Japan</td>\n      <td>2</td>\n      <td>0.081400</td>\n    </tr>\n    <tr>\n      <th>32</th>\n      <td>Netherlands</td>\n      <td>2</td>\n      <td>0.081400</td>\n    </tr>\n    <tr>\n      <th>33</th>\n      <td>South Sudan</td>\n      <td>2</td>\n      <td>0.081400</td>\n    </tr>\n    <tr>\n      <th>34</th>\n      <td>Sweden</td>\n      <td>2</td>\n      <td>0.081400</td>\n    </tr>\n    <tr>\n      <th>35</th>\n      <td>Antigua and Barbuda</td>\n      <td>1</td>\n      <td>0.040700</td>\n    </tr>\n    <tr>\n      <th>36</th>\n      <td>Austria</td>\n      <td>1</td>\n      <td>0.040700</td>\n    </tr>\n    <tr>\n      <th>37</th>\n      <td>Cabo Verde</td>\n      <td>1</td>\n      <td>0.040700</td>\n    </tr>\n    <tr>\n      <th>38</th>\n      <td>Czech Republic</td>\n      <td>1</td>\n      <td>0.040700</td>\n    </tr>\n    <tr>\n      <th>39</th>\n      <td>Denmark</td>\n      <td>1</td>\n      <td>0.040700</td>\n    </tr>\n    <tr>\n      <th>40</th>\n      <td>Egypt</td>\n      <td>1</td>\n      <td>0.040700</td>\n    </tr>\n    <tr>\n      <th>41</th>\n      <td>Gabon</td>\n      <td>1</td>\n      <td>0.040700</td>\n    </tr>\n    <tr>\n      <th>42</th>\n      <td>Ghana</td>\n      <td>1</td>\n      <td>0.040700</td>\n    </tr>\n    <tr>\n      <th>43</th>\n      <td>Iran</td>\n      <td>1</td>\n      <td>0.040700</td>\n    </tr>\n    <tr>\n      <th>44</th>\n      <td>Israel</td>\n      <td>1</td>\n      <td>0.040700</td>\n    </tr>\n    <tr>\n      <th>45</th>\n      <td>Jamaica</td>\n      <td>1</td>\n      <td>0.040700</td>\n    </tr>\n    <tr>\n      <th>46</th>\n      <td>Macedonia</td>\n      <td>1</td>\n      <td>0.040700</td>\n    </tr>\n    <tr>\n      <th>47</th>\n      <td>Mali</td>\n      <td>1</td>\n      <td>0.040700</td>\n    </tr>\n    <tr>\n      <th>48</th>\n      <td>Mexico</td>\n      <td>1</td>\n      <td>0.040700</td>\n    </tr>\n    <tr>\n      <th>49</th>\n      <td>New Zealand</td>\n      <td>1</td>\n      <td>0.040700</td>\n    </tr>\n    <tr>\n      <th>50</th>\n      <td>Panama</td>\n      <td>1</td>\n      <td>0.040700</td>\n    </tr>\n    <tr>\n      <th>51</th>\n      <td>Portugal</td>\n      <td>1</td>\n      <td>0.040700</td>\n    </tr>\n    <tr>\n      <th>52</th>\n      <td>Romania</td>\n      <td>1</td>\n      <td>0.040700</td>\n    </tr>\n    <tr>\n      <th>53</th>\n      <td>South Korea</td>\n      <td>1</td>\n      <td>0.040700</td>\n    </tr>\n    <tr>\n      <th>54</th>\n      <td>St. Vincent &amp; Grenadines</td>\n      <td>1</td>\n      <td>0.040700</td>\n    </tr>\n    <tr>\n      <th>55</th>\n      <td>Tanzania</td>\n      <td>1</td>\n      <td>0.040700</td>\n    </tr>\n    <tr>\n      <th>56</th>\n      <td>United Kingdom</td>\n      <td>1</td>\n      <td>0.040700</td>\n    </tr>\n    <tr>\n      <th>57</th>\n      <td>Venezuela</td>\n      <td>1</td>\n      <td>0.040700</td>\n    </tr>\n  </tbody>\n</table>\n</div>"
     },
     "execution_count": 231,
     "metadata": {},
     "output_type": "execute_result"
    }
   ],
   "source": [
    "pd.read_sql_query(\"SELECT country, COUNT(DISTINCT(person_id)), 100.0*COUNT(DISTINCT(person_id))/SUM(COUNT(DISTINCT(person_id))) OVER () AS percent_of_all_players FROM common_player_info GROUP BY country ORDER BY 2 DESC;\", connection)"
   ]
  },
  {
   "cell_type": "markdown",
   "id": "cefd8d0036a1b6cc",
   "metadata": {},
   "source": [
    "Canada is on the second place here. The first european country in this ranking is France with 22 players."
   ]
  },
  {
   "cell_type": "markdown",
   "id": "7839ef651e6244d8",
   "metadata": {},
   "source": [
    "## Most dunks in one game"
   ]
  },
  {
   "cell_type": "markdown",
   "id": "dc9936b9ce65d03",
   "metadata": {},
   "source": [
    "Have you ever wondered what is the biggest number of dunks in a single game? Let's find out the answer. We just need to search for pattern \"dunk\" in a single match description and count them."
   ]
  },
  {
   "cell_type": "code",
   "execution_count": 232,
   "id": "52d74fc738314cf8",
   "metadata": {
    "ExecuteTime": {
     "end_time": "2023-12-17T11:30:18.191563Z",
     "start_time": "2023-12-17T11:30:07.910896Z"
    }
   },
   "outputs": [
    {
     "data": {
      "text/plain": "   number_of_dunks\n0               21",
      "text/html": "<div>\n<style scoped>\n    .dataframe tbody tr th:only-of-type {\n        vertical-align: middle;\n    }\n\n    .dataframe tbody tr th {\n        vertical-align: top;\n    }\n\n    .dataframe thead th {\n        text-align: right;\n    }\n</style>\n<table border=\"1\" class=\"dataframe\">\n  <thead>\n    <tr style=\"text-align: right;\">\n      <th></th>\n      <th>number_of_dunks</th>\n    </tr>\n  </thead>\n  <tbody>\n    <tr>\n      <th>0</th>\n      <td>21</td>\n    </tr>\n  </tbody>\n</table>\n</div>"
     },
     "execution_count": 232,
     "metadata": {},
     "output_type": "execute_result"
    }
   ],
   "source": [
    "pd.read_sql_query(\"SELECT COUNT(*) AS number_of_dunks FROM play_by_play WHERE LOWER(homedescription) LIKE '%dunk%' GROUP BY game_id ORDER BY 1 DESC LIMIT 1;\", connection)"
   ]
  },
  {
   "cell_type": "markdown",
   "id": "cb17df2ef229371f",
   "metadata": {},
   "source": [
    "Woow 21 dunks - that's a lot. Imagine how spectacular and at the same time one-horned this match must have been !"
   ]
  },
  {
   "cell_type": "markdown",
   "source": [
    "# Summary"
   ],
   "metadata": {
    "collapsed": false
   },
   "id": "ab6d5592d0d6541d"
  },
  {
   "cell_type": "markdown",
   "source": [
    "We have disovered a lot of interesting informations about NBA. Keep in mind that we have used only a small part of the dataset. Feel free to explore them on your own!"
   ],
   "metadata": {
    "collapsed": false
   },
   "id": "e468292e77f30c6e"
  }
 ],
 "metadata": {
  "kernelspec": {
   "display_name": "Python 3 (ipykernel)",
   "language": "python",
   "name": "python3"
  },
  "language_info": {
   "codemirror_mode": {
    "name": "ipython",
    "version": 3
   },
   "file_extension": ".py",
   "mimetype": "text/x-python",
   "name": "python",
   "nbconvert_exporter": "python",
   "pygments_lexer": "ipython3",
   "version": "3.11.3"
  }
 },
 "nbformat": 4,
 "nbformat_minor": 5
}
