{
 "cells": [
  {
   "cell_type": "markdown",
   "metadata": {},
   "source": [
    "# Cleaning US Census Data Portfolio"
   ]
  },
  {
   "cell_type": "markdown",
   "source": [
    "Census data is collected at regular intervals using methodologies such as total counts, sample surveys, and administrative records. After it is collected or generated, census data is summarized to represent counts, estimates of groups of people for different geographic areas."
   ],
   "metadata": {
    "collapsed": false
   }
  },
  {
   "cell_type": "code",
   "execution_count": 97,
   "outputs": [],
   "source": [
    "import glob\n",
    "import pandas as pd\n",
    "from sklearn.impute import KNNImputer"
   ],
   "metadata": {
    "collapsed": false,
    "ExecuteTime": {
     "end_time": "2023-09-02T10:33:21.735154Z",
     "start_time": "2023-09-02T10:33:21.624557Z"
    }
   }
  },
  {
   "cell_type": "code",
   "execution_count": 98,
   "metadata": {
    "ExecuteTime": {
     "end_time": "2023-09-02T10:33:21.919282Z",
     "start_time": "2023-09-02T10:33:21.635414Z"
    }
   },
   "outputs": [
    {
     "data": {
      "text/plain": "   Unnamed: 0           State  TotalPop Hispanic   White   Black Native  \\\n0           0    Rhode Island   1053661   13.36%  74.33%   5.68%  0.35%   \n1           1  South Carolina   4777576    5.06%  62.89%  28.75%  0.29%   \n2           2    South Dakota    843190    3.24%  82.50%   1.42%  9.42%   \n3           3       Tennessee   6499615    4.72%  73.49%  18.28%  0.23%   \n4           4           Texas  26538614   38.05%  44.69%  11.65%  0.26%   \n5           5            Utah   2903379   13.47%  79.41%   1.02%  1.08%   \n6           0            Utah   2903379   13.47%  79.41%   1.02%  1.08%   \n7           1         Vermont    626604    1.61%  93.98%   0.98%  0.30%   \n8           2        Virginia   8256630    8.01%  63.27%  20.18%  0.21%   \n9           3      Washington   6985464   11.14%  72.04%   3.38%  1.41%   \n\n   Asian Pacific       Income            GenderPop  \n0  3.25%   0.04%  $59,125.27       510388M_543273F  \n1  1.25%   0.05%  $46,296.81     2322409M_2455167F  \n2  1.02%   0.04%  $51,805.41       423477M_419713F  \n3  1.41%   0.04%  $47,328.08     3167756M_3331859F  \n4  3.67%   0.07%  $55,874.52   13171316M_13367298F  \n5  2.20%   0.83%  $63,488.92     1459229M_1444150F  \n6  2.20%   0.83%  $63,488.92     1459229M_1444150F  \n7  1.24%   0.03%  $55,602.97       308573M_318031F  \n8  5.46%   0.06%  $72,866.01     4060948M_4195682F  \n9  7.02%   0.61%  $64,493.77     3487725M_3497739F  ",
      "text/html": "<div>\n<style scoped>\n    .dataframe tbody tr th:only-of-type {\n        vertical-align: middle;\n    }\n\n    .dataframe tbody tr th {\n        vertical-align: top;\n    }\n\n    .dataframe thead th {\n        text-align: right;\n    }\n</style>\n<table border=\"1\" class=\"dataframe\">\n  <thead>\n    <tr style=\"text-align: right;\">\n      <th></th>\n      <th>Unnamed: 0</th>\n      <th>State</th>\n      <th>TotalPop</th>\n      <th>Hispanic</th>\n      <th>White</th>\n      <th>Black</th>\n      <th>Native</th>\n      <th>Asian</th>\n      <th>Pacific</th>\n      <th>Income</th>\n      <th>GenderPop</th>\n    </tr>\n  </thead>\n  <tbody>\n    <tr>\n      <th>0</th>\n      <td>0</td>\n      <td>Rhode Island</td>\n      <td>1053661</td>\n      <td>13.36%</td>\n      <td>74.33%</td>\n      <td>5.68%</td>\n      <td>0.35%</td>\n      <td>3.25%</td>\n      <td>0.04%</td>\n      <td>$59,125.27</td>\n      <td>510388M_543273F</td>\n    </tr>\n    <tr>\n      <th>1</th>\n      <td>1</td>\n      <td>South Carolina</td>\n      <td>4777576</td>\n      <td>5.06%</td>\n      <td>62.89%</td>\n      <td>28.75%</td>\n      <td>0.29%</td>\n      <td>1.25%</td>\n      <td>0.05%</td>\n      <td>$46,296.81</td>\n      <td>2322409M_2455167F</td>\n    </tr>\n    <tr>\n      <th>2</th>\n      <td>2</td>\n      <td>South Dakota</td>\n      <td>843190</td>\n      <td>3.24%</td>\n      <td>82.50%</td>\n      <td>1.42%</td>\n      <td>9.42%</td>\n      <td>1.02%</td>\n      <td>0.04%</td>\n      <td>$51,805.41</td>\n      <td>423477M_419713F</td>\n    </tr>\n    <tr>\n      <th>3</th>\n      <td>3</td>\n      <td>Tennessee</td>\n      <td>6499615</td>\n      <td>4.72%</td>\n      <td>73.49%</td>\n      <td>18.28%</td>\n      <td>0.23%</td>\n      <td>1.41%</td>\n      <td>0.04%</td>\n      <td>$47,328.08</td>\n      <td>3167756M_3331859F</td>\n    </tr>\n    <tr>\n      <th>4</th>\n      <td>4</td>\n      <td>Texas</td>\n      <td>26538614</td>\n      <td>38.05%</td>\n      <td>44.69%</td>\n      <td>11.65%</td>\n      <td>0.26%</td>\n      <td>3.67%</td>\n      <td>0.07%</td>\n      <td>$55,874.52</td>\n      <td>13171316M_13367298F</td>\n    </tr>\n    <tr>\n      <th>5</th>\n      <td>5</td>\n      <td>Utah</td>\n      <td>2903379</td>\n      <td>13.47%</td>\n      <td>79.41%</td>\n      <td>1.02%</td>\n      <td>1.08%</td>\n      <td>2.20%</td>\n      <td>0.83%</td>\n      <td>$63,488.92</td>\n      <td>1459229M_1444150F</td>\n    </tr>\n    <tr>\n      <th>6</th>\n      <td>0</td>\n      <td>Utah</td>\n      <td>2903379</td>\n      <td>13.47%</td>\n      <td>79.41%</td>\n      <td>1.02%</td>\n      <td>1.08%</td>\n      <td>2.20%</td>\n      <td>0.83%</td>\n      <td>$63,488.92</td>\n      <td>1459229M_1444150F</td>\n    </tr>\n    <tr>\n      <th>7</th>\n      <td>1</td>\n      <td>Vermont</td>\n      <td>626604</td>\n      <td>1.61%</td>\n      <td>93.98%</td>\n      <td>0.98%</td>\n      <td>0.30%</td>\n      <td>1.24%</td>\n      <td>0.03%</td>\n      <td>$55,602.97</td>\n      <td>308573M_318031F</td>\n    </tr>\n    <tr>\n      <th>8</th>\n      <td>2</td>\n      <td>Virginia</td>\n      <td>8256630</td>\n      <td>8.01%</td>\n      <td>63.27%</td>\n      <td>20.18%</td>\n      <td>0.21%</td>\n      <td>5.46%</td>\n      <td>0.06%</td>\n      <td>$72,866.01</td>\n      <td>4060948M_4195682F</td>\n    </tr>\n    <tr>\n      <th>9</th>\n      <td>3</td>\n      <td>Washington</td>\n      <td>6985464</td>\n      <td>11.14%</td>\n      <td>72.04%</td>\n      <td>3.38%</td>\n      <td>1.41%</td>\n      <td>7.02%</td>\n      <td>0.61%</td>\n      <td>$64,493.77</td>\n      <td>3487725M_3497739F</td>\n    </tr>\n  </tbody>\n</table>\n</div>"
     },
     "execution_count": 98,
     "metadata": {},
     "output_type": "execute_result"
    }
   ],
   "source": [
    "files = glob.glob(\"states*.csv\")\n",
    "\n",
    "df_list = []\n",
    "for filename in files:\n",
    "    data = pd.read_csv(filename)\n",
    "    df_list.append(data)\n",
    "\n",
    "df = pd.concat(df_list, ignore_index=True)\n",
    "\n",
    "df.head(10)"
   ]
  },
  {
   "cell_type": "markdown",
   "source": [
    "Column \"Unnammed:0\" consists of indexes from every part of dataset and it doesn't bring any useful information so we remove them."
   ],
   "metadata": {
    "collapsed": false
   }
  },
  {
   "cell_type": "code",
   "execution_count": 99,
   "outputs": [],
   "source": [
    "df.drop(columns=\"Unnamed: 0\", inplace=True)"
   ],
   "metadata": {
    "collapsed": false,
    "ExecuteTime": {
     "end_time": "2023-09-02T10:33:21.942707Z",
     "start_time": "2023-09-02T10:33:21.674931Z"
    }
   }
  },
  {
   "cell_type": "code",
   "execution_count": 100,
   "outputs": [
    {
     "name": "stdout",
     "output_type": "stream",
     "text": [
      "<class 'pandas.core.frame.DataFrame'>\n",
      "RangeIndex: 60 entries, 0 to 59\n",
      "Data columns (total 10 columns):\n",
      " #   Column     Non-Null Count  Dtype \n",
      "---  ------     --------------  ----- \n",
      " 0   State      60 non-null     object\n",
      " 1   TotalPop   60 non-null     int64 \n",
      " 2   Hispanic   60 non-null     object\n",
      " 3   White      60 non-null     object\n",
      " 4   Black      60 non-null     object\n",
      " 5   Native     60 non-null     object\n",
      " 6   Asian      60 non-null     object\n",
      " 7   Pacific    55 non-null     object\n",
      " 8   Income     60 non-null     object\n",
      " 9   GenderPop  60 non-null     object\n",
      "dtypes: int64(1), object(9)\n",
      "memory usage: 4.8+ KB\n"
     ]
    }
   ],
   "source": [
    "df.info()"
   ],
   "metadata": {
    "collapsed": false,
    "ExecuteTime": {
     "end_time": "2023-09-02T10:33:21.950574Z",
     "start_time": "2023-09-02T10:33:21.690499Z"
    }
   }
  },
  {
   "cell_type": "markdown",
   "source": [
    "At the first glance we can see that there are 5 missing values in column \"Pacific\". We will take care of this problem later but now let's see if there are any duplicates in our dataset."
   ],
   "metadata": {
    "collapsed": false
   }
  },
  {
   "cell_type": "code",
   "execution_count": 101,
   "outputs": [
    {
     "data": {
      "text/plain": "9"
     },
     "execution_count": 101,
     "metadata": {},
     "output_type": "execute_result"
    }
   ],
   "source": [
    "df.duplicated().sum()"
   ],
   "metadata": {
    "collapsed": false,
    "ExecuteTime": {
     "end_time": "2023-09-02T10:33:21.972275Z",
     "start_time": "2023-09-02T10:33:21.697805Z"
    }
   }
  },
  {
   "cell_type": "markdown",
   "source": [
    "Let's remove these 9 additional rows."
   ],
   "metadata": {
    "collapsed": false
   }
  },
  {
   "cell_type": "code",
   "execution_count": 102,
   "outputs": [
    {
     "data": {
      "text/plain": "             State  TotalPop Hispanic   White   Black Native  Asian Pacific  \\\n0     Rhode Island   1053661   13.36%  74.33%   5.68%  0.35%  3.25%   0.04%   \n1   South Carolina   4777576    5.06%  62.89%  28.75%  0.29%  1.25%   0.05%   \n2     South Dakota    843190    3.24%  82.50%   1.42%  9.42%  1.02%   0.04%   \n3        Tennessee   6499615    4.72%  73.49%  18.28%  0.23%  1.41%   0.04%   \n4            Texas  26538614   38.05%  44.69%  11.65%  0.26%  3.67%   0.07%   \n5             Utah   2903379   13.47%  79.41%   1.02%  1.08%  2.20%   0.83%   \n7          Vermont    626604    1.61%  93.98%   0.98%  0.30%  1.24%   0.03%   \n8         Virginia   8256630    8.01%  63.27%  20.18%  0.21%  5.46%   0.06%   \n9       Washington   6985464   11.14%  72.04%   3.38%  1.41%  7.02%   0.61%   \n10   West Virginia   1851420    1.29%  92.18%   3.66%  0.15%  0.68%   0.03%   \n\n         Income            GenderPop  \n0   $59,125.27       510388M_543273F  \n1   $46,296.81     2322409M_2455167F  \n2   $51,805.41       423477M_419713F  \n3   $47,328.08     3167756M_3331859F  \n4   $55,874.52   13171316M_13367298F  \n5   $63,488.92     1459229M_1444150F  \n7   $55,602.97       308573M_318031F  \n8   $72,866.01     4060948M_4195682F  \n9   $64,493.77     3487725M_3497739F  \n10  $41,437.11       913631M_937789F  ",
      "text/html": "<div>\n<style scoped>\n    .dataframe tbody tr th:only-of-type {\n        vertical-align: middle;\n    }\n\n    .dataframe tbody tr th {\n        vertical-align: top;\n    }\n\n    .dataframe thead th {\n        text-align: right;\n    }\n</style>\n<table border=\"1\" class=\"dataframe\">\n  <thead>\n    <tr style=\"text-align: right;\">\n      <th></th>\n      <th>State</th>\n      <th>TotalPop</th>\n      <th>Hispanic</th>\n      <th>White</th>\n      <th>Black</th>\n      <th>Native</th>\n      <th>Asian</th>\n      <th>Pacific</th>\n      <th>Income</th>\n      <th>GenderPop</th>\n    </tr>\n  </thead>\n  <tbody>\n    <tr>\n      <th>0</th>\n      <td>Rhode Island</td>\n      <td>1053661</td>\n      <td>13.36%</td>\n      <td>74.33%</td>\n      <td>5.68%</td>\n      <td>0.35%</td>\n      <td>3.25%</td>\n      <td>0.04%</td>\n      <td>$59,125.27</td>\n      <td>510388M_543273F</td>\n    </tr>\n    <tr>\n      <th>1</th>\n      <td>South Carolina</td>\n      <td>4777576</td>\n      <td>5.06%</td>\n      <td>62.89%</td>\n      <td>28.75%</td>\n      <td>0.29%</td>\n      <td>1.25%</td>\n      <td>0.05%</td>\n      <td>$46,296.81</td>\n      <td>2322409M_2455167F</td>\n    </tr>\n    <tr>\n      <th>2</th>\n      <td>South Dakota</td>\n      <td>843190</td>\n      <td>3.24%</td>\n      <td>82.50%</td>\n      <td>1.42%</td>\n      <td>9.42%</td>\n      <td>1.02%</td>\n      <td>0.04%</td>\n      <td>$51,805.41</td>\n      <td>423477M_419713F</td>\n    </tr>\n    <tr>\n      <th>3</th>\n      <td>Tennessee</td>\n      <td>6499615</td>\n      <td>4.72%</td>\n      <td>73.49%</td>\n      <td>18.28%</td>\n      <td>0.23%</td>\n      <td>1.41%</td>\n      <td>0.04%</td>\n      <td>$47,328.08</td>\n      <td>3167756M_3331859F</td>\n    </tr>\n    <tr>\n      <th>4</th>\n      <td>Texas</td>\n      <td>26538614</td>\n      <td>38.05%</td>\n      <td>44.69%</td>\n      <td>11.65%</td>\n      <td>0.26%</td>\n      <td>3.67%</td>\n      <td>0.07%</td>\n      <td>$55,874.52</td>\n      <td>13171316M_13367298F</td>\n    </tr>\n    <tr>\n      <th>5</th>\n      <td>Utah</td>\n      <td>2903379</td>\n      <td>13.47%</td>\n      <td>79.41%</td>\n      <td>1.02%</td>\n      <td>1.08%</td>\n      <td>2.20%</td>\n      <td>0.83%</td>\n      <td>$63,488.92</td>\n      <td>1459229M_1444150F</td>\n    </tr>\n    <tr>\n      <th>7</th>\n      <td>Vermont</td>\n      <td>626604</td>\n      <td>1.61%</td>\n      <td>93.98%</td>\n      <td>0.98%</td>\n      <td>0.30%</td>\n      <td>1.24%</td>\n      <td>0.03%</td>\n      <td>$55,602.97</td>\n      <td>308573M_318031F</td>\n    </tr>\n    <tr>\n      <th>8</th>\n      <td>Virginia</td>\n      <td>8256630</td>\n      <td>8.01%</td>\n      <td>63.27%</td>\n      <td>20.18%</td>\n      <td>0.21%</td>\n      <td>5.46%</td>\n      <td>0.06%</td>\n      <td>$72,866.01</td>\n      <td>4060948M_4195682F</td>\n    </tr>\n    <tr>\n      <th>9</th>\n      <td>Washington</td>\n      <td>6985464</td>\n      <td>11.14%</td>\n      <td>72.04%</td>\n      <td>3.38%</td>\n      <td>1.41%</td>\n      <td>7.02%</td>\n      <td>0.61%</td>\n      <td>$64,493.77</td>\n      <td>3487725M_3497739F</td>\n    </tr>\n    <tr>\n      <th>10</th>\n      <td>West Virginia</td>\n      <td>1851420</td>\n      <td>1.29%</td>\n      <td>92.18%</td>\n      <td>3.66%</td>\n      <td>0.15%</td>\n      <td>0.68%</td>\n      <td>0.03%</td>\n      <td>$41,437.11</td>\n      <td>913631M_937789F</td>\n    </tr>\n  </tbody>\n</table>\n</div>"
     },
     "execution_count": 102,
     "metadata": {},
     "output_type": "execute_result"
    }
   ],
   "source": [
    "df = df.drop_duplicates()\n",
    "df.head(10)"
   ],
   "metadata": {
    "collapsed": false,
    "ExecuteTime": {
     "end_time": "2023-09-02T10:33:22.068340Z",
     "start_time": "2023-09-02T10:33:21.703562Z"
    }
   }
  },
  {
   "cell_type": "markdown",
   "source": [
    "The next problem we see is the dollar sign in every record in \"Income\" column. Due to this fact Python set this column datatype as \"object\" where it actually holds numerical data. Apart from removing dollar sign we need to change type of this column manually."
   ],
   "metadata": {
    "collapsed": false
   }
  },
  {
   "cell_type": "code",
   "execution_count": 103,
   "metadata": {
    "ExecuteTime": {
     "end_time": "2023-09-02T10:33:22.194669Z",
     "start_time": "2023-09-02T10:33:21.729939Z"
    }
   },
   "outputs": [
    {
     "data": {
      "text/plain": "             State  TotalPop Hispanic   White   Black Native  Asian Pacific  \\\n0     Rhode Island   1053661   13.36%  74.33%   5.68%  0.35%  3.25%   0.04%   \n1   South Carolina   4777576    5.06%  62.89%  28.75%  0.29%  1.25%   0.05%   \n2     South Dakota    843190    3.24%  82.50%   1.42%  9.42%  1.02%   0.04%   \n3        Tennessee   6499615    4.72%  73.49%  18.28%  0.23%  1.41%   0.04%   \n4            Texas  26538614   38.05%  44.69%  11.65%  0.26%  3.67%   0.07%   \n5             Utah   2903379   13.47%  79.41%   1.02%  1.08%  2.20%   0.83%   \n7          Vermont    626604    1.61%  93.98%   0.98%  0.30%  1.24%   0.03%   \n8         Virginia   8256630    8.01%  63.27%  20.18%  0.21%  5.46%   0.06%   \n9       Washington   6985464   11.14%  72.04%   3.38%  1.41%  7.02%   0.61%   \n10   West Virginia   1851420    1.29%  92.18%   3.66%  0.15%  0.68%   0.03%   \n\n      Income            GenderPop  \n0   59125.27      510388M_543273F  \n1   46296.81    2322409M_2455167F  \n2   51805.41      423477M_419713F  \n3   47328.08    3167756M_3331859F  \n4   55874.52  13171316M_13367298F  \n5   63488.92    1459229M_1444150F  \n7   55602.97      308573M_318031F  \n8   72866.01    4060948M_4195682F  \n9   64493.77    3487725M_3497739F  \n10  41437.11      913631M_937789F  ",
      "text/html": "<div>\n<style scoped>\n    .dataframe tbody tr th:only-of-type {\n        vertical-align: middle;\n    }\n\n    .dataframe tbody tr th {\n        vertical-align: top;\n    }\n\n    .dataframe thead th {\n        text-align: right;\n    }\n</style>\n<table border=\"1\" class=\"dataframe\">\n  <thead>\n    <tr style=\"text-align: right;\">\n      <th></th>\n      <th>State</th>\n      <th>TotalPop</th>\n      <th>Hispanic</th>\n      <th>White</th>\n      <th>Black</th>\n      <th>Native</th>\n      <th>Asian</th>\n      <th>Pacific</th>\n      <th>Income</th>\n      <th>GenderPop</th>\n    </tr>\n  </thead>\n  <tbody>\n    <tr>\n      <th>0</th>\n      <td>Rhode Island</td>\n      <td>1053661</td>\n      <td>13.36%</td>\n      <td>74.33%</td>\n      <td>5.68%</td>\n      <td>0.35%</td>\n      <td>3.25%</td>\n      <td>0.04%</td>\n      <td>59125.27</td>\n      <td>510388M_543273F</td>\n    </tr>\n    <tr>\n      <th>1</th>\n      <td>South Carolina</td>\n      <td>4777576</td>\n      <td>5.06%</td>\n      <td>62.89%</td>\n      <td>28.75%</td>\n      <td>0.29%</td>\n      <td>1.25%</td>\n      <td>0.05%</td>\n      <td>46296.81</td>\n      <td>2322409M_2455167F</td>\n    </tr>\n    <tr>\n      <th>2</th>\n      <td>South Dakota</td>\n      <td>843190</td>\n      <td>3.24%</td>\n      <td>82.50%</td>\n      <td>1.42%</td>\n      <td>9.42%</td>\n      <td>1.02%</td>\n      <td>0.04%</td>\n      <td>51805.41</td>\n      <td>423477M_419713F</td>\n    </tr>\n    <tr>\n      <th>3</th>\n      <td>Tennessee</td>\n      <td>6499615</td>\n      <td>4.72%</td>\n      <td>73.49%</td>\n      <td>18.28%</td>\n      <td>0.23%</td>\n      <td>1.41%</td>\n      <td>0.04%</td>\n      <td>47328.08</td>\n      <td>3167756M_3331859F</td>\n    </tr>\n    <tr>\n      <th>4</th>\n      <td>Texas</td>\n      <td>26538614</td>\n      <td>38.05%</td>\n      <td>44.69%</td>\n      <td>11.65%</td>\n      <td>0.26%</td>\n      <td>3.67%</td>\n      <td>0.07%</td>\n      <td>55874.52</td>\n      <td>13171316M_13367298F</td>\n    </tr>\n    <tr>\n      <th>5</th>\n      <td>Utah</td>\n      <td>2903379</td>\n      <td>13.47%</td>\n      <td>79.41%</td>\n      <td>1.02%</td>\n      <td>1.08%</td>\n      <td>2.20%</td>\n      <td>0.83%</td>\n      <td>63488.92</td>\n      <td>1459229M_1444150F</td>\n    </tr>\n    <tr>\n      <th>7</th>\n      <td>Vermont</td>\n      <td>626604</td>\n      <td>1.61%</td>\n      <td>93.98%</td>\n      <td>0.98%</td>\n      <td>0.30%</td>\n      <td>1.24%</td>\n      <td>0.03%</td>\n      <td>55602.97</td>\n      <td>308573M_318031F</td>\n    </tr>\n    <tr>\n      <th>8</th>\n      <td>Virginia</td>\n      <td>8256630</td>\n      <td>8.01%</td>\n      <td>63.27%</td>\n      <td>20.18%</td>\n      <td>0.21%</td>\n      <td>5.46%</td>\n      <td>0.06%</td>\n      <td>72866.01</td>\n      <td>4060948M_4195682F</td>\n    </tr>\n    <tr>\n      <th>9</th>\n      <td>Washington</td>\n      <td>6985464</td>\n      <td>11.14%</td>\n      <td>72.04%</td>\n      <td>3.38%</td>\n      <td>1.41%</td>\n      <td>7.02%</td>\n      <td>0.61%</td>\n      <td>64493.77</td>\n      <td>3487725M_3497739F</td>\n    </tr>\n    <tr>\n      <th>10</th>\n      <td>West Virginia</td>\n      <td>1851420</td>\n      <td>1.29%</td>\n      <td>92.18%</td>\n      <td>3.66%</td>\n      <td>0.15%</td>\n      <td>0.68%</td>\n      <td>0.03%</td>\n      <td>41437.11</td>\n      <td>913631M_937789F</td>\n    </tr>\n  </tbody>\n</table>\n</div>"
     },
     "execution_count": 103,
     "metadata": {},
     "output_type": "execute_result"
    }
   ],
   "source": [
    "df.Income = df.Income.replace('[\\$,]', '', regex=True)\n",
    "df.Income = pd.to_numeric(df.Income)\n",
    "df.head(10)"
   ]
  },
  {
   "cell_type": "markdown",
   "source": [
    "Column \"GenderPop\" consists information about male and female population in particular state. Let's extract this data to make them useful."
   ],
   "metadata": {
    "collapsed": false
   }
  },
  {
   "cell_type": "code",
   "execution_count": 104,
   "metadata": {
    "ExecuteTime": {
     "end_time": "2023-09-02T10:33:22.251582Z",
     "start_time": "2023-09-02T10:33:21.784374Z"
    }
   },
   "outputs": [],
   "source": [
    "string_split = df.GenderPop.str.split(\"_\")\n",
    "\n",
    "df['Man'] = string_split.str.get(0)\n",
    "\n",
    "df['Woman'] = string_split.str.get(1)\n",
    "\n",
    "df.Man = df.Man.str.replace(\"M\", \"\")\n",
    "\n",
    "df.Woman = df.Woman.str.replace(\"F\", \"\")\n",
    "\n",
    "df.drop(columns=\"GenderPop\", inplace=True)\n",
    "\n",
    "df.Man = pd.to_numeric(df.Man)\n",
    "df.Woman = pd.to_numeric(df.Woman)"
   ]
  },
  {
   "cell_type": "markdown",
   "source": [
    "After splitting and creating new columns it might have turned out that we have new NaNs. Following command counts the sum of NaNs in every column."
   ],
   "metadata": {
    "collapsed": false
   }
  },
  {
   "cell_type": "code",
   "execution_count": 105,
   "outputs": [
    {
     "data": {
      "text/plain": "Pacific     4\nWoman       2\nState       0\nTotalPop    0\nHispanic    0\nWhite       0\nBlack       0\nNative      0\nAsian       0\nIncome      0\nMan         0\ndtype: int64"
     },
     "execution_count": 105,
     "metadata": {},
     "output_type": "execute_result"
    }
   ],
   "source": [
    "df.isna().sum().sort_values(ascending=False)"
   ],
   "metadata": {
    "collapsed": false,
    "ExecuteTime": {
     "end_time": "2023-09-02T10:33:22.253052Z",
     "start_time": "2023-09-02T10:33:21.817104Z"
    }
   }
  },
  {
   "cell_type": "markdown",
   "source": [
    "We can easly deal with these 2 NaNs in \"Woman\" column by calculating them as a difference between \"TotalPop\" and \"Man\"."
   ],
   "metadata": {
    "collapsed": false
   }
  },
  {
   "cell_type": "code",
   "execution_count": 106,
   "outputs": [
    {
     "name": "stdout",
     "output_type": "stream",
     "text": [
      "<class 'pandas.core.frame.DataFrame'>\n",
      "Int64Index: 51 entries, 0 to 58\n",
      "Data columns (total 11 columns):\n",
      " #   Column    Non-Null Count  Dtype  \n",
      "---  ------    --------------  -----  \n",
      " 0   State     51 non-null     object \n",
      " 1   TotalPop  51 non-null     int64  \n",
      " 2   Hispanic  51 non-null     object \n",
      " 3   White     51 non-null     object \n",
      " 4   Black     51 non-null     object \n",
      " 5   Native    51 non-null     object \n",
      " 6   Asian     51 non-null     object \n",
      " 7   Pacific   47 non-null     object \n",
      " 8   Income    51 non-null     float64\n",
      " 9   Man       51 non-null     int64  \n",
      " 10  Woman     51 non-null     int64  \n",
      "dtypes: float64(1), int64(3), object(7)\n",
      "memory usage: 4.8+ KB\n"
     ]
    }
   ],
   "source": [
    "df = df.fillna(value = {\"Woman\": df.TotalPop - df.Man})\n",
    "df.Woman = df.Woman.astype(int)\n",
    "df.info()"
   ],
   "metadata": {
    "collapsed": false,
    "ExecuteTime": {
     "end_time": "2023-09-02T10:33:22.253860Z",
     "start_time": "2023-09-02T10:33:21.847695Z"
    }
   }
  },
  {
   "cell_type": "markdown",
   "source": [
    "Another thing we should do is changing percentage notation into decimal notation for ethnic contribution columns. After that data is useable for further analysis."
   ],
   "metadata": {
    "collapsed": false
   }
  },
  {
   "cell_type": "code",
   "execution_count": 107,
   "outputs": [
    {
     "data": {
      "text/plain": "             State  TotalPop  Hispanic   White   Black  Native   Asian  \\\n0     Rhode Island   1053661    0.1336  0.7433  0.0568  0.0035  0.0325   \n1   South Carolina   4777576    0.0506  0.6289  0.2875  0.0029  0.0125   \n2     South Dakota    843190    0.0324  0.8250  0.0142  0.0942  0.0102   \n3        Tennessee   6499615    0.0472  0.7349  0.1828  0.0023  0.0141   \n4            Texas  26538614    0.3805  0.4469  0.1165  0.0026  0.0367   \n5             Utah   2903379    0.1347  0.7941  0.0102  0.0108  0.0220   \n7          Vermont    626604    0.0161  0.9398  0.0098  0.0030  0.0124   \n8         Virginia   8256630    0.0801  0.6327  0.2018  0.0021  0.0546   \n9       Washington   6985464    0.1114  0.7204  0.0338  0.0141  0.0702   \n10   West Virginia   1851420    0.0129  0.9218  0.0366  0.0015  0.0068   \n\n    Pacific    Income       Man     Woman  \n0    0.0004  59125.27    510388    543273  \n1    0.0005  46296.81   2322409   2455167  \n2    0.0004  51805.41    423477    419713  \n3    0.0004  47328.08   3167756   3331859  \n4    0.0007  55874.52  13171316  13367298  \n5    0.0083  63488.92   1459229   1444150  \n7    0.0003  55602.97    308573    318031  \n8    0.0006  72866.01   4060948   4195682  \n9    0.0061  64493.77   3487725   3497739  \n10   0.0003  41437.11    913631    937789  ",
      "text/html": "<div>\n<style scoped>\n    .dataframe tbody tr th:only-of-type {\n        vertical-align: middle;\n    }\n\n    .dataframe tbody tr th {\n        vertical-align: top;\n    }\n\n    .dataframe thead th {\n        text-align: right;\n    }\n</style>\n<table border=\"1\" class=\"dataframe\">\n  <thead>\n    <tr style=\"text-align: right;\">\n      <th></th>\n      <th>State</th>\n      <th>TotalPop</th>\n      <th>Hispanic</th>\n      <th>White</th>\n      <th>Black</th>\n      <th>Native</th>\n      <th>Asian</th>\n      <th>Pacific</th>\n      <th>Income</th>\n      <th>Man</th>\n      <th>Woman</th>\n    </tr>\n  </thead>\n  <tbody>\n    <tr>\n      <th>0</th>\n      <td>Rhode Island</td>\n      <td>1053661</td>\n      <td>0.1336</td>\n      <td>0.7433</td>\n      <td>0.0568</td>\n      <td>0.0035</td>\n      <td>0.0325</td>\n      <td>0.0004</td>\n      <td>59125.27</td>\n      <td>510388</td>\n      <td>543273</td>\n    </tr>\n    <tr>\n      <th>1</th>\n      <td>South Carolina</td>\n      <td>4777576</td>\n      <td>0.0506</td>\n      <td>0.6289</td>\n      <td>0.2875</td>\n      <td>0.0029</td>\n      <td>0.0125</td>\n      <td>0.0005</td>\n      <td>46296.81</td>\n      <td>2322409</td>\n      <td>2455167</td>\n    </tr>\n    <tr>\n      <th>2</th>\n      <td>South Dakota</td>\n      <td>843190</td>\n      <td>0.0324</td>\n      <td>0.8250</td>\n      <td>0.0142</td>\n      <td>0.0942</td>\n      <td>0.0102</td>\n      <td>0.0004</td>\n      <td>51805.41</td>\n      <td>423477</td>\n      <td>419713</td>\n    </tr>\n    <tr>\n      <th>3</th>\n      <td>Tennessee</td>\n      <td>6499615</td>\n      <td>0.0472</td>\n      <td>0.7349</td>\n      <td>0.1828</td>\n      <td>0.0023</td>\n      <td>0.0141</td>\n      <td>0.0004</td>\n      <td>47328.08</td>\n      <td>3167756</td>\n      <td>3331859</td>\n    </tr>\n    <tr>\n      <th>4</th>\n      <td>Texas</td>\n      <td>26538614</td>\n      <td>0.3805</td>\n      <td>0.4469</td>\n      <td>0.1165</td>\n      <td>0.0026</td>\n      <td>0.0367</td>\n      <td>0.0007</td>\n      <td>55874.52</td>\n      <td>13171316</td>\n      <td>13367298</td>\n    </tr>\n    <tr>\n      <th>5</th>\n      <td>Utah</td>\n      <td>2903379</td>\n      <td>0.1347</td>\n      <td>0.7941</td>\n      <td>0.0102</td>\n      <td>0.0108</td>\n      <td>0.0220</td>\n      <td>0.0083</td>\n      <td>63488.92</td>\n      <td>1459229</td>\n      <td>1444150</td>\n    </tr>\n    <tr>\n      <th>7</th>\n      <td>Vermont</td>\n      <td>626604</td>\n      <td>0.0161</td>\n      <td>0.9398</td>\n      <td>0.0098</td>\n      <td>0.0030</td>\n      <td>0.0124</td>\n      <td>0.0003</td>\n      <td>55602.97</td>\n      <td>308573</td>\n      <td>318031</td>\n    </tr>\n    <tr>\n      <th>8</th>\n      <td>Virginia</td>\n      <td>8256630</td>\n      <td>0.0801</td>\n      <td>0.6327</td>\n      <td>0.2018</td>\n      <td>0.0021</td>\n      <td>0.0546</td>\n      <td>0.0006</td>\n      <td>72866.01</td>\n      <td>4060948</td>\n      <td>4195682</td>\n    </tr>\n    <tr>\n      <th>9</th>\n      <td>Washington</td>\n      <td>6985464</td>\n      <td>0.1114</td>\n      <td>0.7204</td>\n      <td>0.0338</td>\n      <td>0.0141</td>\n      <td>0.0702</td>\n      <td>0.0061</td>\n      <td>64493.77</td>\n      <td>3487725</td>\n      <td>3497739</td>\n    </tr>\n    <tr>\n      <th>10</th>\n      <td>West Virginia</td>\n      <td>1851420</td>\n      <td>0.0129</td>\n      <td>0.9218</td>\n      <td>0.0366</td>\n      <td>0.0015</td>\n      <td>0.0068</td>\n      <td>0.0003</td>\n      <td>41437.11</td>\n      <td>913631</td>\n      <td>937789</td>\n    </tr>\n  </tbody>\n</table>\n</div>"
     },
     "execution_count": 107,
     "metadata": {},
     "output_type": "execute_result"
    }
   ],
   "source": [
    "transform_columns = [\"Hispanic\", \"White\", \"Black\", \"Native\", \"Asian\", \"Pacific\"]\n",
    "for column in transform_columns:\n",
    "    df[column] = df[column].replace('[\\%,]', '', regex=True)\n",
    "    df[column] = pd.to_numeric(df[column])\n",
    "    df[column] = df[column]*.01\n",
    "df.head(10)"
   ],
   "metadata": {
    "collapsed": false,
    "ExecuteTime": {
     "end_time": "2023-09-02T10:33:22.255071Z",
     "start_time": "2023-09-02T10:33:21.895515Z"
    }
   }
  },
  {
   "cell_type": "markdown",
   "source": [
    "It's time to deal with NaNs in \"Pacific\" column. There is a couple of methods to fill NaNs for example mean imputer, median imputer or linear regression imputer. In this case we will use K Nearest Neighbour Imputer which is powered by machine learning algorithm. The idea is to impute the missing value by mean of k nearest neighbours of this NaN. Before implementing this method we need to make sure that our dataset is scaled but if we look closely we might see that columns with ethnic contribution are already scaled from 0 to 1. To sum up we will impute missing values based on this 6 columns.\n",
    "\n"
   ],
   "metadata": {
    "collapsed": false
   }
  },
  {
   "cell_type": "code",
   "execution_count": 108,
   "metadata": {
    "ExecuteTime": {
     "end_time": "2023-09-02T10:33:22.255445Z",
     "start_time": "2023-09-02T10:33:21.907256Z"
    }
   },
   "outputs": [],
   "source": [
    "imputer = KNNImputer(n_neighbors=5, weights = \"uniform\")\n",
    "X = df[transform_columns]\n",
    "X_transform = imputer.fit_transform(X)\n",
    "df_temp = pd.DataFrame(X_transform, columns=transform_columns)\n",
    "df.Pacific = df_temp.Pacific.values"
   ]
  },
  {
   "cell_type": "markdown",
   "source": [
    "Now we are ready to see describe statistics of columns in our dataset. On this stage we can spot any of unusual observations especially outliers."
   ],
   "metadata": {
    "collapsed": false
   }
  },
  {
   "cell_type": "code",
   "execution_count": 109,
   "outputs": [
    {
     "data": {
      "text/plain": "           TotalPop   Hispanic      White      Black     Native      Asian  \\\ncount  5.100000e+01  51.000000  51.000000  51.000000  51.000000  51.000000   \nmean   6.265067e+06   0.126480   0.672612   0.119451   0.015478   0.036451   \nstd    7.017552e+06   0.156977   0.183943   0.118546   0.031053   0.052935   \nmin    6.266040e+05   0.012900   0.007700   0.000900   0.000000   0.000800   \n25%    1.860392e+06   0.046750   0.568050   0.030550   0.001950   0.012450   \n50%    4.397353e+06   0.084600   0.711400   0.082000   0.003600   0.023200   \n75%    6.845525e+06   0.134150   0.796350   0.173700   0.010350   0.038450   \nmax    3.842146e+07   0.988900   0.939800   0.517800   0.163900   0.365900   \n\n         Pacific        Income           Man         Woman  \ncount  51.000000     51.000000  5.100000e+01  5.100000e+01  \nmean    0.002930  55922.667255  3.081423e+06  3.183644e+06  \nstd     0.012277  11479.923759  3.464446e+06  3.553646e+06  \nmin     0.000000  20720.540000  3.066740e+05  3.180310e+05  \n25%     0.000300  48358.540000  9.216185e+05  9.387740e+05  \n50%     0.000440  54207.820000  2.164208e+06  2.233145e+06  \n75%     0.000990  63889.835000  3.393406e+06  3.476838e+06  \nmax     0.087600  78765.400000  1.908714e+07  1.933433e+07  ",
      "text/html": "<div>\n<style scoped>\n    .dataframe tbody tr th:only-of-type {\n        vertical-align: middle;\n    }\n\n    .dataframe tbody tr th {\n        vertical-align: top;\n    }\n\n    .dataframe thead th {\n        text-align: right;\n    }\n</style>\n<table border=\"1\" class=\"dataframe\">\n  <thead>\n    <tr style=\"text-align: right;\">\n      <th></th>\n      <th>TotalPop</th>\n      <th>Hispanic</th>\n      <th>White</th>\n      <th>Black</th>\n      <th>Native</th>\n      <th>Asian</th>\n      <th>Pacific</th>\n      <th>Income</th>\n      <th>Man</th>\n      <th>Woman</th>\n    </tr>\n  </thead>\n  <tbody>\n    <tr>\n      <th>count</th>\n      <td>5.100000e+01</td>\n      <td>51.000000</td>\n      <td>51.000000</td>\n      <td>51.000000</td>\n      <td>51.000000</td>\n      <td>51.000000</td>\n      <td>51.000000</td>\n      <td>51.000000</td>\n      <td>5.100000e+01</td>\n      <td>5.100000e+01</td>\n    </tr>\n    <tr>\n      <th>mean</th>\n      <td>6.265067e+06</td>\n      <td>0.126480</td>\n      <td>0.672612</td>\n      <td>0.119451</td>\n      <td>0.015478</td>\n      <td>0.036451</td>\n      <td>0.002930</td>\n      <td>55922.667255</td>\n      <td>3.081423e+06</td>\n      <td>3.183644e+06</td>\n    </tr>\n    <tr>\n      <th>std</th>\n      <td>7.017552e+06</td>\n      <td>0.156977</td>\n      <td>0.183943</td>\n      <td>0.118546</td>\n      <td>0.031053</td>\n      <td>0.052935</td>\n      <td>0.012277</td>\n      <td>11479.923759</td>\n      <td>3.464446e+06</td>\n      <td>3.553646e+06</td>\n    </tr>\n    <tr>\n      <th>min</th>\n      <td>6.266040e+05</td>\n      <td>0.012900</td>\n      <td>0.007700</td>\n      <td>0.000900</td>\n      <td>0.000000</td>\n      <td>0.000800</td>\n      <td>0.000000</td>\n      <td>20720.540000</td>\n      <td>3.066740e+05</td>\n      <td>3.180310e+05</td>\n    </tr>\n    <tr>\n      <th>25%</th>\n      <td>1.860392e+06</td>\n      <td>0.046750</td>\n      <td>0.568050</td>\n      <td>0.030550</td>\n      <td>0.001950</td>\n      <td>0.012450</td>\n      <td>0.000300</td>\n      <td>48358.540000</td>\n      <td>9.216185e+05</td>\n      <td>9.387740e+05</td>\n    </tr>\n    <tr>\n      <th>50%</th>\n      <td>4.397353e+06</td>\n      <td>0.084600</td>\n      <td>0.711400</td>\n      <td>0.082000</td>\n      <td>0.003600</td>\n      <td>0.023200</td>\n      <td>0.000440</td>\n      <td>54207.820000</td>\n      <td>2.164208e+06</td>\n      <td>2.233145e+06</td>\n    </tr>\n    <tr>\n      <th>75%</th>\n      <td>6.845525e+06</td>\n      <td>0.134150</td>\n      <td>0.796350</td>\n      <td>0.173700</td>\n      <td>0.010350</td>\n      <td>0.038450</td>\n      <td>0.000990</td>\n      <td>63889.835000</td>\n      <td>3.393406e+06</td>\n      <td>3.476838e+06</td>\n    </tr>\n    <tr>\n      <th>max</th>\n      <td>3.842146e+07</td>\n      <td>0.988900</td>\n      <td>0.939800</td>\n      <td>0.517800</td>\n      <td>0.163900</td>\n      <td>0.365900</td>\n      <td>0.087600</td>\n      <td>78765.400000</td>\n      <td>1.908714e+07</td>\n      <td>1.933433e+07</td>\n    </tr>\n  </tbody>\n</table>\n</div>"
     },
     "execution_count": 109,
     "metadata": {},
     "output_type": "execute_result"
    }
   ],
   "source": [
    "df.describe()"
   ],
   "metadata": {
    "collapsed": false,
    "ExecuteTime": {
     "end_time": "2023-09-02T10:33:22.459169Z",
     "start_time": "2023-09-02T10:33:21.918253Z"
    }
   }
  },
  {
   "cell_type": "code",
   "execution_count": 110,
   "outputs": [
    {
     "name": "stdout",
     "output_type": "stream",
     "text": [
      "<class 'pandas.core.frame.DataFrame'>\n",
      "Int64Index: 51 entries, 0 to 58\n",
      "Data columns (total 11 columns):\n",
      " #   Column    Non-Null Count  Dtype  \n",
      "---  ------    --------------  -----  \n",
      " 0   State     51 non-null     object \n",
      " 1   TotalPop  51 non-null     int64  \n",
      " 2   Hispanic  51 non-null     float64\n",
      " 3   White     51 non-null     float64\n",
      " 4   Black     51 non-null     float64\n",
      " 5   Native    51 non-null     float64\n",
      " 6   Asian     51 non-null     float64\n",
      " 7   Pacific   51 non-null     float64\n",
      " 8   Income    51 non-null     float64\n",
      " 9   Man       51 non-null     int64  \n",
      " 10  Woman     51 non-null     int64  \n",
      "dtypes: float64(7), int64(3), object(1)\n",
      "memory usage: 4.8+ KB\n"
     ]
    }
   ],
   "source": [
    "df.info()"
   ],
   "metadata": {
    "collapsed": false,
    "ExecuteTime": {
     "end_time": "2023-09-02T10:33:22.479724Z",
     "start_time": "2023-09-02T10:33:22.043942Z"
    }
   }
  },
  {
   "cell_type": "markdown",
   "source": [
    "Now data is ready to further analysis."
   ],
   "metadata": {
    "collapsed": false
   }
  }
 ],
 "metadata": {
  "kernelspec": {
   "display_name": "Python 3 (ipykernel)",
   "language": "python",
   "name": "python3"
  },
  "language_info": {
   "codemirror_mode": {
    "name": "ipython",
    "version": 3
   },
   "file_extension": ".py",
   "mimetype": "text/x-python",
   "name": "python",
   "nbconvert_exporter": "python",
   "pygments_lexer": "ipython3",
   "version": "3.7.11"
  }
 },
 "nbformat": 4,
 "nbformat_minor": 2
}
